{
 "cells": [
  {
   "cell_type": "code",
   "execution_count": 13,
   "id": "4dd8dd16",
   "metadata": {},
   "outputs": [],
   "source": [
    "## 알고리즘 문제, 장애물이 큐에 들어가는지 등\n",
    "## 고정 장애물 만나도 rescan\n",
    "\n",
    "## detectability를 정규화할 수 있는 방법?\n",
    "## topography & cost 1~10으로?\n",
    "\n",
    "## 장애물이 갑자기 사라지는 현상?\n",
    "## 범위 안에 들어왔을 때 무조건 잡는게 너무 빡센듯\n",
    "\n",
    "##장애물은 goal 못가게 함\n",
    "##가만히 있으면 rescan 하도록 추가\n",
    "##도착지 topography =0"
   ]
  },
  {
   "cell_type": "code",
   "execution_count": 58,
   "id": "f821f0a8",
   "metadata": {},
   "outputs": [],
   "source": [
    "import heapq\n",
    "import sys\n",
    "import numpy as np\n",
    "import random\n",
    "import pygame\n",
    "import math\n",
    "from itertools import combinations_with_replacement"
   ]
  },
  {
   "cell_type": "code",
   "execution_count": 59,
   "id": "3f831623",
   "metadata": {},
   "outputs": [],
   "source": [
    "#'xnym' -> [n,m]\n",
    "def stateNameToCoords(name):\n",
    "    return [int(name.split('x')[1].split('y')[0]), int(name.split('x')[1].split('y')[1])]\n",
    "\n",
    "'''왜 sort가 주석 처리 되어있는지?'''\n",
    "def topKey(queue):\n",
    "    queue.sort()\n",
    "    # print(queue)\n",
    "    if len(queue) > 0:\n",
    "        return queue[0][:2] #queue가장 위에 있는 것의 k1,k2만 가져옴\n",
    "    else:\n",
    "        #print('empty queue!')\n",
    "        return (float('inf'), float('inf'))\n",
    "\n",
    "def heuristic_from_s(Graph, id, s):\n",
    "    id_coords=stateNameToCoords(id)\n",
    "    s_coords=stateNameToCoords(s)\n",
    "    \n",
    "    x_distance =  (int(id_coords[0]) - int(s_coords[0]))**2 ##abs(int(id_coords[0]) - int(s_coords[0]))\n",
    "    y_distance = (int(id_coords[1]) - int(s_coords[1]))**2 ##abs(int(id_coords[1]) - int(s_coords[1]))\n",
    "    return np.sqrt(x_distance + y_distance)  ##x_distance + y_distance\n",
    "\n",
    "def calculateKey(Graph, id, s_current, k_m):\n",
    "    id_coords=stateNameToCoords(id)\n",
    "    return (min(Graph.graph[id].g, Graph.graph[id].rhs) + heuristic_from_s(Graph, id, s_current) + k_m \n",
    "            + alpha * Graph.cells[id_coords[1]][id_coords[0]]\n",
    "            + beta * Graph.topography[id_coords[1]][id_coords[0]], \n",
    "            min(Graph.graph[id].g, Graph.graph[id].rhs)\n",
    "            + alpha * Graph.cells[id_coords[1]][id_coords[0]]\n",
    "            + beta * Graph.topography[id_coords[1]][id_coords[0]]) \n",
    "\n",
    "\n",
    "def updateVertex(Graph, queue, id, s_current, k_m):\n",
    "    #   s_goal = Graph.goal\n",
    "    if id != Graph.goal:\n",
    "        min_rhs = float('inf')\n",
    "        for i in Graph.graph[id].children:\n",
    "            min_rhs = min(min_rhs, Graph.graph[i].g + Graph.graph[id].children[i])\n",
    "        Graph.graph[id].rhs = min_rhs\n",
    "        \n",
    "    id_in_queue = [item for item in queue if id in item]\n",
    "    if id_in_queue != []:\n",
    "        if len(id_in_queue) != 1:\n",
    "            raise ValueError('more than one ' + id + ' in the queue!')\n",
    "        queue.remove(id_in_queue[0])\n",
    "    if Graph.graph[id].rhs != Graph.graph[id].g:\n",
    "        '''장애물 위치도 queue에 들어가는지는 queue print해서 봐보자'''\n",
    "        heapq.heappush(queue, calculateKey(Graph, id, s_current, k_m) + (id,))\n",
    "\n",
    "\n",
    "def computeShortestPath(Graph, queue, s_start, k_m):\n",
    "    while (Graph.graph[s_start].rhs != Graph.graph[s_start].g) or (topKey(queue) < calculateKey(Graph, s_start, s_start, k_m)):\n",
    "        k_old = topKey(queue)\n",
    "        u = heapq.heappop(queue)[2]\n",
    "        \n",
    "        if k_old < calculateKey(Graph, u, s_start, k_m):\n",
    "            heapq.heappush(queue, calculateKey(Graph, u, s_start, k_m) + (u,))\n",
    "        elif Graph.graph[u].g > Graph.graph[u].rhs:\n",
    "            Graph.graph[u].g = Graph.graph[u].rhs\n",
    "            for i in Graph.graph[u].parents:\n",
    "                updateVertex(Graph, queue, i, s_start, k_m)\n",
    "        else:\n",
    "            Graph.graph[u].g = float('inf')\n",
    "            updateVertex(Graph, queue, u, s_start, k_m)\n",
    "            for i in Graph.graph[u].parents:\n",
    "                updateVertex(Graph, queue, i, s_start, k_m)\n",
    "\n",
    "def nextInShortestPath(Graph, s_current):\n",
    "    min_rhs = float('inf')\n",
    "    s_next = None\n",
    "    if Graph.graph[s_current].rhs == float('inf'):\n",
    "    #if Graph.graph[s_current].g == float('inf'):\n",
    "        #print('You are done stuck')\n",
    "        return s_current\n",
    "    else:\n",
    "        for i in Graph.graph[s_current].children:\n",
    "            # print(i)\n",
    "            child_cost = Graph.graph[i].g + Graph.graph[s_current].children[i]\n",
    "            # print(child_cost)\n",
    "            if (child_cost) < min_rhs:\n",
    "                min_rhs = child_cost\n",
    "                s_next = i\n",
    "        if s_next:\n",
    "            return s_next\n",
    "        else:\n",
    "            #raise ValueError('could not find child for transition!')\n",
    "            #print('could not find child for transition!')\n",
    "            return s_current\n",
    "\n",
    "def scanForObstacles(Graph, queue, s_current, k_m):\n",
    "    states_to_update = {}\n",
    "    \n",
    "    for neighbor in Graph.graph[s_current].children:\n",
    "        neighbor_coords = stateNameToCoords(neighbor)\n",
    "        states_to_update[neighbor] = Graph.cells[neighbor_coords[1]][neighbor_coords[0]]\n",
    "        \n",
    "    new_obstacle = False\n",
    "    \n",
    "    for state in states_to_update:\n",
    "        if states_to_update[state] < 0:  # found cell with obstacle\n",
    "            # print('found obstacle in ', state)\n",
    "            for neighbor in Graph.graph[state].children:\n",
    "                # first time to observe this obstacle where one wasn't before\n",
    "                if(Graph.graph[state].children[neighbor] != float('inf')):\n",
    "                    neighbor_coords = stateNameToCoords(state)\n",
    "                    Graph.cells[neighbor_coords[1]][neighbor_coords[0]] = -2\n",
    "                    Graph.graph[neighbor].children[state] = float('inf')\n",
    "                    Graph.graph[state].children[neighbor] = float('inf')\n",
    "                    updateVertex(Graph, queue, state, s_current, k_m)\n",
    "                    new_obstacle = True\n",
    "    return new_obstacle\n",
    "\n",
    "\n",
    "\n",
    "def Move(Graph, s_current):\n",
    "    if(s_current == Graph.goal):\n",
    "        return 'goal'\n",
    "    else:\n",
    "        s_new = nextInShortestPath(Graph, s_current)\n",
    "        new_coords = stateNameToCoords(s_new)\n",
    "        if(Graph.cells[new_coords[1]][new_coords[0]] == -1):  # just ran into new obstacle\n",
    "            s_new = s_current  # need to hold tight and scan/replan first\n",
    "        \n",
    "        return s_new\n",
    "        \n",
    "def Rescan(Graph, queue, s_current,k_m):\n",
    "    results = scanForObstacles(Graph, queue, s_current, k_m)\n",
    "    k_m += heuristic_from_s(Graph, s_current, Graph.goal)\n",
    "    #s_last = s_current\n",
    "    computeShortestPath(Graph, queue, s_current, k_m)\n",
    "\n",
    "    return k_m\n",
    "'''이전 moveAndRescan하고 의미가 달라지나?'''\n",
    "\n",
    "#----------------------------------------------------------------------------\n",
    "\n",
    "def initDStarLite(Graph, queue, s_start, s_goal, k_m):\n",
    "    Graph.graph[s_goal].rhs = 0\n",
    "    heapq.heappush(queue, calculateKey(Graph, s_goal, s_start, k_m) + (s_goal,))\n",
    "    #print(queue[0])\n",
    "    computeShortestPath(Graph, queue, s_start, k_m)\n",
    "    return (Graph, queue, k_m)"
   ]
  },
  {
   "cell_type": "code",
   "execution_count": 60,
   "id": "02669721",
   "metadata": {},
   "outputs": [],
   "source": [
    "def L1(a,b):\n",
    "    ret=np.abs(a[0]-b[0])+np.abs(a[1]-b[1])\n",
    "    if ret==0:\n",
    "        return 0.1\n",
    "    else:\n",
    "        return ret\n",
    "\n",
    "def L2(a,b):\n",
    "    ret=np.sqrt(np.power((a[0]-b[0]),2)+np.power((a[1]-b[1]),2))\n",
    "    if ret==0:\n",
    "        return 0.1\n",
    "    else:\n",
    "        return ret\n",
    "\n",
    "def softmax(X):\n",
    "    exp_a = np.exp(X)\n",
    "    sum_exp_a = np.sum(exp_a)\n",
    "    y = exp_a / sum_exp_a\n",
    "    \n",
    "    return y\n",
    "\n",
    "def get_move(move_prob):\n",
    "    sample=np.random.rand()\n",
    "    standard=move_prob[0]\n",
    "    \n",
    "    for i in range(len(move_prob)-1):\n",
    "        if sample<standard:\n",
    "            return i\n",
    "        else:\n",
    "            standard+=move_prob[i+1]\n",
    "            \n",
    "    return len(move_prob)-1\n",
    "\n",
    "def move_obstacle(graph,pos_coords,move_chance=0.5,smart=False,detectability=1):\n",
    "    if graph.obstacles:\n",
    "        temp_obstacles=graph.obstacles.copy()\n",
    "        for obstacle in graph.obstacles:\n",
    "            if obstacle[2]:\n",
    "                if random.random()<move_chance:\n",
    "                    if smart:\n",
    "                        move_prob=softmax([detectability*1/L2((pos_coords[1],pos_coords[0]),(obstacle[0][0]+i[0],obstacle[0][1]+i[1])) for i in move])\n",
    "                        ## L1(대각선 이동 가능시 L2로 바꾸기) ## softmax로 확률 만들기 또는 그냥 합으로 나누기\n",
    "                        dy,dx=move[get_move(move_prob)]\n",
    "                            \n",
    "                    else:\n",
    "                        dy,dx=random.choice(move)\n",
    "                        \n",
    "                    new_x,new_y=obstacle[0][1]+dx,obstacle[0][0]+dy\n",
    "                    if 0<=new_x<graph.x_dim and 0<=new_y<graph.y_dim and (new_y,new_x) not in [obs[0] for obs in temp_obstacles]:\n",
    "                        if [new_x,new_y]!=stateNameToCoords(graph.goal):\n",
    "                            temp_obstacles.remove(obstacle)\n",
    "                            temp_obstacles.append(((new_y,new_x),obstacle[1],obstacle[2]))\n",
    "                        \n",
    "        graph.obstacles=temp_obstacles\n",
    "        graph.setObstacle()"
   ]
  },
  {
   "cell_type": "code",
   "execution_count": 61,
   "id": "2ea76efc",
   "metadata": {},
   "outputs": [],
   "source": [
    "class Node:\n",
    "    def __init__(self, id):\n",
    "        self.id = id\n",
    "        # dictionary of parent node ID's\n",
    "        # key = id of parent\n",
    "        # value = (edge cost,)\n",
    "        self.parents = {}\n",
    "        # dictionary of children node ID's\n",
    "        # key = id of child\n",
    "        # value = (edge cost,)\n",
    "        self.children = {}\n",
    "        # g approximation\n",
    "        self.g = float('inf')\n",
    "        # rhs value\n",
    "        self.rhs = float('inf')\n",
    "\n",
    "    def __str__(self):\n",
    "        return 'Node: ' + self.id + ' g: ' + str(self.g) + ' rhs: ' + str(self.rhs)\n",
    "\n",
    "    def __repr__(self):\n",
    "        return self.__str__()\n",
    "\n",
    "    def update_parents(self, parents):\n",
    "        self.parents = parents\n",
    "\n",
    "\n",
    "class Graph:\n",
    "    def __init__(self):\n",
    "        self.graph = {}\n",
    "\n",
    "    def __str__(self):\n",
    "        msg = 'Graph:'\n",
    "        for i in self.graph:\n",
    "            msg += '\\n  node: ' + i + ' g: ' + str(self.graph[i].g) + ' rhs: ' + str(self.graph[i].rhs)\n",
    "        return msg\n",
    "\n",
    "    def __repr__(self):\n",
    "        return self.__str__()\n",
    "\n",
    "    def setStart(self, id):\n",
    "        if(self.graph[id]):\n",
    "            self.start = id\n",
    "        else:\n",
    "            raise ValueError('start id not in graph')\n",
    "\n",
    "    def setGoal(self, id):\n",
    "        if(self.graph[id]):\n",
    "            self.goal = id\n",
    "        else:\n",
    "            raise ValueError('goal id not in graph')"
   ]
  },
  {
   "cell_type": "code",
   "execution_count": 62,
   "id": "41f413bf",
   "metadata": {},
   "outputs": [],
   "source": [
    "#그래프 객체(장애물위치, 장애물cost, 지형지물 정보, 노드 정보 등)\n",
    "class GridWorld(Graph):\n",
    "    def __init__(self, x_dim, y_dim):\n",
    "        self.x_dim = x_dim\n",
    "        self.y_dim = y_dim\n",
    "        self.obstacles=[] #((y,x),cost)\n",
    "        self.cells=np.zeros((y_dim,x_dim))\n",
    "        #self.topography=np.random.randint(1,11, size=(y_dim, x_dim))\n",
    "        #self.topography=np.random.rand(y_dim,x_dim)\n",
    "        self.topography=[[random.choice(range(1, 10)) / 10 for _ in range(x_dim)] for _ in range(y_dim)]\n",
    "        self.topography[-1][-1]=0\n",
    "        self.graph = {}\n",
    "        self.generateGraphFromGrid()\n",
    "        # self.printGrid()\n",
    "\n",
    "    def __str__(self):\n",
    "        msg = 'Graph:'\n",
    "        for i in self.graph:\n",
    "            msg += '\\n  node: ' + i + ' g: ' + str(self.graph[i].g) + ' rhs: ' + str(self.graph[i].rhs) + ' neighbors: ' + str(self.graph[i].children)\n",
    "        return msg\n",
    "\n",
    "    def __repr__(self):\n",
    "        return self.__str__()\n",
    "\n",
    "    def printGrid(self):\n",
    "        print('** GridWorld **')\n",
    "        for row in self.cells:\n",
    "            print(row)\n",
    "\n",
    "    def printGValues(self):\n",
    "        for j in range(self.y_dim):\n",
    "            str_msg = \"\"\n",
    "            for i in range(self.x_dim):\n",
    "                node_id = 'x' + str(i) + 'y' + str(j)\n",
    "                node = self.graph[node_id]\n",
    "                if node.g == float('inf'):\n",
    "                    str_msg += ' - '\n",
    "                else:\n",
    "                    str_msg += ' ' + str(node.g) + ' '\n",
    "            print(str_msg)\n",
    "\n",
    "    def generateGraphFromGrid(self):\n",
    "        edge = 1\n",
    "        cross=np.sqrt(2)\n",
    "        for i in range(len(self.cells)):\n",
    "            row = self.cells[i]\n",
    "            for j in range(len(row)):\n",
    "                # print('graph node ' + str(i) + ',' + str(j))\n",
    "                node = Node('x' + str(j) + 'y' + str(i))\n",
    "                if j > 0:  # not top row\n",
    "                    node.parents['x' + str(j - 1) + 'y' + str(i)] = edge\n",
    "                    node.children['x' + str(j - 1) + 'y' + str(i)] = edge\n",
    "                if j + 1 < self.x_dim:  # not bottom row\n",
    "                    node.parents['x' + str(j + 1) + 'y' + str(i)] = edge\n",
    "                    node.children['x' + str(j + 1) + 'y' + str(i)] = edge\n",
    "                if i > 0:  # not left col\n",
    "                    node.parents['x' + str(j) + 'y' + str(i - 1)] = edge\n",
    "                    node.children['x' + str(j) + 'y' + str(i - 1)] = edge\n",
    "                if i + 1 < self.y_dim:  # not right col\n",
    "                    node.parents['x' + str(j) + 'y' + str(i + 1)] = edge\n",
    "                    node.children['x' + str(j) + 'y' + str(i + 1)] = edge\n",
    "                if i > 0 and j > 0:\n",
    "                    node.parents['x' + str(j - 1) + 'y' + str(i - 1)] = cross\n",
    "                    node.children['x' + str(j - 1) + 'y' + str(i - 1)] = cross    \n",
    "                if j > 0 and i + 1 < self.y_dim:\n",
    "                    node.parents['x' + str(j - 1) + 'y' + str(i + 1)] = cross\n",
    "                    node.children['x' + str(j - 1) + 'y' + str(i + 1)] = cross\n",
    "                if j + 1 < self.x_dim and i > 0:\n",
    "                    node.parents['x' + str(j + 1) + 'y' + str(i - 1)] = cross\n",
    "                    node.children['x' + str(j + 1) + 'y' + str(i - 1)] = cross\n",
    "                if j + 1 < self.x_dim and i + 1 < self.y_dim:\n",
    "                    node.parents['x' + str(j + 1) + 'y' + str(i + 1)] = cross\n",
    "                    node.children['x' + str(j + 1) + 'y' + str(i + 1)] = cross\n",
    "                self.graph['x' + str(j) + 'y' + str(i)] = node\n",
    "    \n",
    "    #장애물 초기화 및 이동 반영\n",
    "    def setObstacle(self):\n",
    "        self.cells=np.zeros((self.y_dim,self.x_dim))\n",
    "        for obs in self.obstacles:\n",
    "            already=[]\n",
    "            loc=obs[0]\n",
    "            cost=obs[1]\n",
    "                \n",
    "            for i,c in enumerate(cost,start=1):\n",
    "                if i==1:\n",
    "                    candidate=move\n",
    "                else:\n",
    "                    candidate=[]\n",
    "                    for a,*b in combinations_with_replacement(move, i):\n",
    "                        candidate.append(tuple(sum(elem) for elem in zip(a, *b)))\n",
    "                        \n",
    "                    candidate=list(set(candidate)-set(already)-set([(0, 0)]))\n",
    "                    \n",
    "                already.extend(candidate)\n",
    "                \n",
    "                for m in candidate:\n",
    "                    boundary=(loc[0]+m[0],loc[1]+m[1]) ##i배 할게 아니라 주변 다 삥 둘러서 cost줘야해\n",
    "\n",
    "                    if [boundary[1],boundary[0]]==stateNameToCoords(self.goal):\n",
    "                        continue\n",
    "\n",
    "                    if (0<=boundary[0]<self.y_dim) and (0<=boundary[1]<self.x_dim): \n",
    "                        self.cells[boundary[0]][boundary[1]]+=c\n",
    "\n",
    "        for obs in self.obstacles:\n",
    "            loc=obs[0]\n",
    "            self.cells[loc[0]][loc[1]]=-1"
   ]
  },
  {
   "cell_type": "code",
   "execution_count": 63,
   "id": "467a8b3c",
   "metadata": {},
   "outputs": [],
   "source": [
    "def initObstacles(Graph,obstacle_ratio,fixed_obs_ratio,influence=1):\n",
    "    #obstacle grid크기에서 일정 비율만큼 랜덤 위치 생성 / obstacle cost 각각 랜덤 생성(0~1)\n",
    "    max_obstacle_num=int(obstacle_ratio*Graph.x_dim*Graph.y_dim)\n",
    "    fixed_obstacle_num=int(max_obstacle_num*fixed_obs_ratio)\n",
    "    ob_num=0\n",
    "    fix_num=0\n",
    "    while ob_num<max_obstacle_num:\n",
    "        ob_x=random.randint(0,Graph.x_dim-1)\n",
    "        ob_y=random.randint(0,Graph.y_dim-1)\n",
    "        \n",
    "        if (ob_y,ob_x) in [obs[0] for obs in Graph.obstacles]:\n",
    "            continue\n",
    "        elif [ob_x,ob_y]==stateNameToCoords(Graph.goal):\n",
    "            continue\n",
    "        elif [ob_x,ob_y]==stateNameToCoords(Graph.start):\n",
    "            continue\n",
    "            \n",
    "        if fix_num<fixed_obstacle_num:\n",
    "            movable=0\n",
    "            cost=0\n",
    "            fix_num+=1\n",
    "        else:\n",
    "            movable=1\n",
    "            #cost=random.randint(1,10)\n",
    "            #cost=random.random()\n",
    "            cost=random.choice(range(1, 10)) / 10\n",
    "        \n",
    "        cost_set=[]\n",
    "        for i in range(1,influence+1):\n",
    "            cost_set.append(cost/i)\n",
    "        \n",
    "        #print(((ob_y,ob_x),tuple(cost_set),movable))\n",
    "        Graph.obstacles.append(((ob_y,ob_x),tuple(cost_set),movable))\n",
    "        ob_num+=1\n",
    "    \n",
    "    Graph.setObstacle()"
   ]
  },
  {
   "cell_type": "markdown",
   "id": "3fc8e60f",
   "metadata": {},
   "source": [
    "# Visualize"
   ]
  },
  {
   "cell_type": "code",
   "execution_count": 34,
   "id": "bc170703",
   "metadata": {},
   "outputs": [
    {
     "data": {
      "text/plain": [
       "<rect(0, 0, 96, 96)>"
      ]
     },
     "execution_count": 34,
     "metadata": {},
     "output_type": "execute_result"
    }
   ],
   "source": [
    "# Define some colors\n",
    "BLACK = (0, 0, 0)\n",
    "WHITE = (255, 255, 255)\n",
    "GREEN = (0, 255, 0)\n",
    "RED   = (255, 0, 0)\n",
    "GRAY = (145, 145, 102)\n",
    "DARKGRAY= (100, 100, 100)\n",
    "BLUE = (0, 0, 200)\n",
    "PINK = (255,0,255)\n",
    "\n",
    "#장애물 및 현재위치 이동 가능한 경로\n",
    "move=[(-1,-1),(-1,0),(-1,1),(0,-1),(0,1),(1,-1),(1,0),(1,1)]\n",
    "#move=[(-1,0),(0,-1),(0,1),(1,0)]\n",
    "\n",
    "def colors(grid):\n",
    "    if grid==0:\n",
    "        return WHITE\n",
    "    if grid==-1:\n",
    "        return RED\n",
    "    if grid==-2:\n",
    "        return BLACK\n",
    "    #return max((255-int((255-255)*grid/2),255-int((255-204)*grid/2),255-int((255-102)*grid/2)),(255,204,102))\n",
    "    return max((255-int((255-255)*grid),255-int((255-204)*grid),255-int((255-102)*grid)),(255,204,102))\n",
    "\n",
    "# This sets the width and height of each grid location\n",
    "width = 30\n",
    "height = 30\n",
    "\n",
    "# This sets the margin between each cell\n",
    "margin = 2\n",
    "\n",
    "dimension_x =15\n",
    "dimension_y =15\n",
    "VIEWING_RANGE = 1\n",
    "\n",
    "# obstacle num ratio of grid\n",
    "obstacle_ratio=0.01\n",
    "fixed_obs_ratio=0.9\n",
    "move_chance=0.9\n",
    "alpha = 1 #obstacle cost\n",
    "beta = 1 #topography\n",
    "smart=False\n",
    "step=1\n",
    "influence=2\n",
    "detectability=1\n",
    "\n",
    "# Set the height and width of the screen\n",
    "WINDOW_SIZE = [(width + margin) * dimension_x + margin,\n",
    "               (height + margin) * dimension_y + margin]\n",
    "\n",
    "def draw_arrow(screen, colour, start, end):\n",
    "    pygame.draw.line(screen,colour,start,end,1)\n",
    "    rotation = math.degrees(math.atan2(start[1]-end[1], end[0]-start[0]))+90\n",
    "    rad=12\n",
    "    pygame.draw.polygon(screen, BLACK, ((end[0]+rad*math.sin(math.radians(rotation)), end[1]+rad*math.cos(math.radians(rotation))), (end[0]+rad*math.sin(math.radians(rotation-120)), end[1]+rad*math.cos(math.radians(rotation-120))), (end[0]+rad*math.sin(math.radians(rotation+120)), end[1]+rad*math.cos(math.radians(rotation+120)))))\n",
    "\n",
    "\n",
    "transparent = pygame.Surface((3*width+3*margin,3*height+3*margin))  # the size of your rect\n",
    "transparent.set_alpha(128)                # alpha level\n",
    "transparent.fill(DARKGRAY)           # this fills the entire surface"
   ]
  },
  {
   "cell_type": "code",
   "execution_count": 35,
   "id": "87902004",
   "metadata": {
    "scrolled": true
   },
   "outputs": [
    {
     "name": "stdout",
     "output_type": "stream",
     "text": [
      "Enter start (xnym, where n,m are coordinates) : x0y0\n",
      "Enter goal (xnym, where n,m are coordinates)  : x14y14\n",
      "move\n"
     ]
    },
    {
     "name": "stderr",
     "output_type": "stream",
     "text": [
      "2023-06-29 10:38:46.796 python[23171:1438083] TSM AdjustCapsLockLEDForKeyTransitionHandling - _ISSetPhysicalKeyboardCapsLockLED Inhibit\n"
     ]
    },
    {
     "name": "stdout",
     "output_type": "stream",
     "text": [
      "move\n",
      "move\n",
      "move\n",
      "move\n",
      "move\n",
      "move\n",
      "move\n",
      "move\n",
      "move\n",
      "move\n",
      "move\n",
      "move\n",
      "move\n",
      "move\n",
      "Goal Reached!\n"
     ]
    }
   ],
   "source": [
    "def main():\n",
    "    \n",
    "    # Loop until the user clicks the close button.\n",
    "    done = False\n",
    "    \n",
    "    s_start=input(\"Enter start (xnym, where n,m are coordinates) : \")\n",
    "    s_goal= input(\"Enter goal (xnym, where n,m are coordinates)  : \")\n",
    "    #s_start = 'x1y2'\n",
    "    #s_goal = 'x9y7'\n",
    "\n",
    "    graph = GridWorld(dimension_x, dimension_y)\n",
    "    \n",
    "    goal_coords = stateNameToCoords(s_goal)\n",
    "    start_coords= stateNameToCoords(s_start)\n",
    "\n",
    "    graph.setStart(s_start)\n",
    "    graph.setGoal(s_goal)\n",
    "          \n",
    "    k_m = 0\n",
    "    s_last = s_start\n",
    "    queue = []\n",
    "\n",
    "    graph, queue, k_m = initDStarLite(graph, queue, s_start, s_goal, k_m)\n",
    "    \n",
    "    initObstacles(graph,obstacle_ratio,fixed_obs_ratio,influence)\n",
    "\n",
    "    s_current = s_start\n",
    "    pos_coords = stateNameToCoords(s_current)\n",
    "    \n",
    "    robot_centers=[]\n",
    "\n",
    "    # Initialize pygame\n",
    "    pygame.init()\n",
    "\n",
    "    screen = pygame.display.set_mode(WINDOW_SIZE)\n",
    "\n",
    "    # Set title of screen\n",
    "    pygame.display.set_caption(\"D* Lite Path Planning\")\n",
    "\n",
    "    # Used to manage how fast the screen updates\n",
    "    clock = pygame.time.Clock()\n",
    "    basicfont = pygame.font.SysFont('Comic Sans MS', 22)\n",
    "\n",
    "    # -------- Main Program Loop -----------\n",
    "    while done==False:\n",
    "        for event in pygame.event.get():   # User did something\n",
    "            if event.type == pygame.QUIT:  # If user clicked close\n",
    "                done = True  # Flag that we are done so we exit this loop\n",
    "            elif event.type == pygame.KEYDOWN and event.key == pygame.K_SPACE:\n",
    "                \n",
    "                #현재위치가 obstacle한테 잡혔는지 확인\n",
    "                if s_current in ['x{}y{}'.format(i[0][1],i[0][0]) for i in graph.obstacles]:\n",
    "                    print('Failed !')\n",
    "                    done=True\n",
    "                    break\n",
    "                \n",
    "                #아군 먼저 이동\n",
    "                print('move')\n",
    "                s_new = Move(graph, s_current)\n",
    "\n",
    "                if s_new == 'goal':\n",
    "                    print('Goal Reached!')\n",
    "                    done = True\n",
    "                    break\n",
    "                    \n",
    "                pos_coords = stateNameToCoords(s_new)\n",
    "                move_obstacle(graph,pos_coords,move_chance=move_chance,smart=smart,detectability=detectability)\n",
    "                \n",
    "                if s_current == s_new:\n",
    "                    k_m = Rescan(graph, queue, s_current, k_m)\n",
    "                else:\n",
    "                    s_current = s_new\n",
    "\n",
    "                    if step:\n",
    "                        for obstacle in [obs for obs in graph.obstacles]:\n",
    "\n",
    "                            loc=obstacle[0]\n",
    "                            movable=obstacle[2]\n",
    "                            gap_y = np.abs(pos_coords[1]-loc[0])\n",
    "                            gap_x = np.abs(pos_coords[0]-loc[1])\n",
    "                            if movable==0:\n",
    "                                if gap_y<=1 and gap_x<=1:\n",
    "                                    k_m = Rescan(graph, queue, s_current, k_m)\n",
    "                                    break\n",
    "                            elif movable==1:\n",
    "                                if gap_y<=step and gap_x<=step:\n",
    "                                    k_m = Rescan(graph, queue, s_current, k_m)\n",
    "                                    break\n",
    "\n",
    "                    else:\n",
    "                        k_m = Rescan(graph, queue, s_current, k_m)\n",
    "\n",
    "            \n",
    "\n",
    "        # Set the screen background\n",
    "        screen.fill(BLACK)\n",
    "\n",
    "\n",
    "        # Draw the grid\n",
    "        temp_grid=graph.cells.copy()\n",
    "        temp_grid+=graph.topography#+temp_grid\n",
    "        temp_grid=np.where(temp_grid<0,-1,temp_grid)\n",
    "        \n",
    "                \n",
    "        for row in range(dimension_y):\n",
    "            for column in range(dimension_x):\n",
    "                \n",
    "                COLOR =colors(temp_grid[row][column])\n",
    "                if COLOR == RED:\n",
    "                    if [i[2] for i in graph.obstacles if i[0]==(row,column)][0]==0:\n",
    "                        COLOR = GRAY\n",
    "                        \n",
    "                pygame.draw.rect(screen, COLOR,\n",
    "                                 [(margin + width) * column + margin,\n",
    "                                  (margin + height) * row + margin, width, height])\n",
    "                node_name = 'x' + str(column) + 'y' + str(row)\n",
    "\n",
    "\n",
    "        # fill in goal cell with GREEN\n",
    "        pygame.draw.rect(screen, GREEN, [(margin + width) * start_coords[0] + margin,\n",
    "                                         (margin + height) * start_coords[1] + margin, width, height])\n",
    "\n",
    "\n",
    "        # fill in goal cell with RED\n",
    "        pygame.draw.rect(screen, BLUE, [(margin + width) * goal_coords[0] + margin,\n",
    "                                         (margin + height) * goal_coords[1] + margin, width, height])\n",
    "\n",
    "        # draw moving robot, based on pos_coords\n",
    "\n",
    "        # Set the new robot centre\n",
    "        robot_center = [int(pos_coords[0] * (width + margin) + width / 2) + margin , int(pos_coords[1] * (height + margin) + height / 2) + margin]\n",
    "        draw_arrow(screen, BLACK, robot_center,robot_center)\n",
    "\n",
    "        # maintain a list of all cells traversed\n",
    "        robot_centers.append(robot_center)\n",
    "\n",
    "        if len(robot_centers)>1:\n",
    "            for i in range(0,len(robot_centers)-1):\n",
    "                pygame.draw.line(screen,BLACK,robot_centers[i],robot_centers[i+1],3)\n",
    "\n",
    "        # grey out visible boxes for robot\n",
    "        screen.blit(transparent,(robot_center[0]-1.5*width-margin,robot_center[1]-1.5*height-margin))    # (0,0) are the top-left coordinates\n",
    "\n",
    "        # Limit to 60 frames per second\n",
    "        clock.tick(20)\n",
    "\n",
    "        # Go ahead and update the screen with what we've drawn.\n",
    "        pygame.display.flip()\n",
    "        \n",
    "\n",
    "    # Be IDLE friendly. If you forget this line, the program will 'hang'\n",
    "    # on exit.\n",
    "    pygame.quit()\n",
    "\n",
    "\n",
    "\n",
    "if __name__ == \"__main__\":\n",
    "    main()"
   ]
  },
  {
   "cell_type": "markdown",
   "id": "c259f2db",
   "metadata": {},
   "source": [
    "# Repeat Test"
   ]
  },
  {
   "cell_type": "code",
   "execution_count": 64,
   "id": "5ce09ebb",
   "metadata": {},
   "outputs": [],
   "source": [
    "import heapq\n",
    "from tqdm import tqdm\n",
    "\n",
    "move=[(-1,-1),(-1,0),(-1,1),(0,-1),(0,1),(1,-1),(1,0),(1,1)]\n",
    "#move=[(-1,0),(0,-1),(0,1),(1,0)]\n",
    "\n",
    "def stateNameToCoords(name):\n",
    "    return [int(name.split('x')[1].split('y')[0]), int(name.split('x')[1].split('y')[1])]"
   ]
  },
  {
   "cell_type": "code",
   "execution_count": 65,
   "id": "8d83a814",
   "metadata": {
    "scrolled": true
   },
   "outputs": [],
   "source": [
    "def iter_test(test_num, dimension_x, dimension_y, s_start, s_goal,\n",
    "              obstacle_ratio, fixed_obs_ratio, move_chance, \n",
    "              step, smart, influence, detectability):\n",
    "\n",
    "    success = 0\n",
    "    move_num_list = []\n",
    "    succ_time_list = []\n",
    "    import time\n",
    "    for idx in tqdm(range(test_num)):\n",
    "        start=time.time()\n",
    "        # Loop until the user clicks the close button.\n",
    "        done = False\n",
    "\n",
    "        graph = GridWorld(dimension_x, dimension_y)\n",
    "\n",
    "        graph.setStart(s_start)\n",
    "        graph.setGoal(s_goal)\n",
    "\n",
    "        k_m = 0\n",
    "        s_last = s_start\n",
    "        queue = []\n",
    "\n",
    "        graph, queue, k_m = initDStarLite(graph, queue, s_start, s_goal, k_m)\n",
    "\n",
    "        initObstacles(graph,obstacle_ratio,fixed_obs_ratio,influence)\n",
    "\n",
    "        s_current = s_start\n",
    "        pos_coords = stateNameToCoords(s_current)\n",
    "\n",
    "        # -------- Main Program Loop -----------\n",
    "        move_num=0\n",
    "        while done==False:\n",
    "\n",
    "            if s_current in ['x{}y{}'.format(i[0][1],i[0][0]) for i in graph.obstacles]:\n",
    "                #print(f'{idx}. Failed !')\n",
    "                done=True\n",
    "                break\n",
    "\n",
    "            s_new = Move(graph, s_current)\n",
    "            move_num+=1\n",
    "            if s_new == 'goal':\n",
    "                succ_time=time.time()-start\n",
    "                done = True\n",
    "                #print(f'{idx}. Success ! --> move {move_num} times')\n",
    "                move_num_list.append(move_num)\n",
    "                succ_time_list.append(succ_time)\n",
    "                success+=1\n",
    "                break\n",
    "            else:\n",
    "                pos_coords = stateNameToCoords(s_new)\n",
    "                move_obstacle(graph,pos_coords,move_chance=move_chance,smart=smart,detectability=detectability)\n",
    "\n",
    "                if s_current == s_new:\n",
    "                    k_m = Rescan(graph, queue, s_current, k_m)\n",
    "\n",
    "                else :\n",
    "                    s_current = s_new\n",
    "                    if step:\n",
    "                        for obstacle in [obs for obs in graph.obstacles]:\n",
    "\n",
    "                            loc=obstacle[0]\n",
    "                            movable=obstacle[2]\n",
    "                            gap_y = np.abs(pos_coords[1]-loc[0])\n",
    "                            gap_x = np.abs(pos_coords[0]-loc[1])\n",
    "                            if movable==0:\n",
    "                                if gap_y<=1 and gap_x<=1:\n",
    "                                    k_m = Rescan(graph, queue, s_current, k_m)\n",
    "                                    break\n",
    "                            elif movable==1:\n",
    "                                if gap_y<=step and gap_x<=step:\n",
    "                                    k_m = Rescan(graph, queue, s_current, k_m)\n",
    "                                    break\n",
    "\n",
    "                    else:\n",
    "                        k_m = Rescan(graph, queue, s_current, k_m)\n",
    "                \n",
    "    print('\\n-Success Ratio : {}%'.format(100*success/test_num))\n",
    "    print('-Average moving times : {}'.format(np.mean(move_num_list)))\n",
    "    return 100*success/test_num, np.mean(move_num_list), np.mean(succ_time_list)"
   ]
  },
  {
   "cell_type": "markdown",
   "id": "504bce5b",
   "metadata": {},
   "source": [
    "#### graph size : Grid 크기\n",
    "#### obstacle_ratio : Grid 크기에서 모든 장애물 비율\n",
    "#### fixed_obs_ratio : 모든 장애물에서 고정 장애물 비율\n",
    "#### move_chance : 가변 장애물의 매번 움직일 확률\n",
    "#### alpha : calculate_key에서 k1,k2에 더해주는 가변 장애물 주변 cost의 가중치\n",
    "#### beta : calculate_key에서 k1,k2에 더해주는 지형지물의 가중치\n",
    "#### step : 나의 위치가 가변 장애물의 몇칸안에 들어왔을 때 Rescan할지\n",
    "#### influence : 가변 장애물 cost의 영역 크기\n",
    "#### smart : 가변 장애물이 나의 위치를 기반하에 움직일지 랜덤하게 움직일지\n",
    "#### detectability : smart=True일 때, 나의 위치 감지력\n",
    "--------------------------------------------------------------------------"
   ]
  },
  {
   "cell_type": "markdown",
   "id": "a6668445",
   "metadata": {},
   "source": [
    "#### graph size : 10x10, 15x15, 20x20\n",
    "#### obstacle_ratio : 0.05, 0.1, 0.15, 0.2\n",
    "#### fixed_obs_ratio : 0.6, 0.7, 0.8, 0.9\n",
    "#### move_chance : 0.3, 0.5, 0.7, 1.0\n",
    "#### alpha : 0, 1, 5, 10, 15, 20, 50\n",
    "#### beta : 0, 1, 3, 5, 7, 10\n",
    "#### step : 1, 2\n",
    "#### influence : 1, 2, 3\n",
    "#### smart : False, True\n",
    "#### detectability : 1, 5, 10, 30 --smart 일때만 유효"
   ]
  },
  {
   "cell_type": "code",
   "execution_count": 66,
   "id": "1959e2c8",
   "metadata": {},
   "outputs": [
    {
     "name": "stdout",
     "output_type": "stream",
     "text": [
      "1 15 0.01 0.9 0.5 1 5\n",
      "2 15 0.01 0.9 0.5 1 10\n",
      "3 15 0.01 0.9 0.5 2 5\n",
      "4 15 0.01 0.9 0.5 2 10\n",
      "5 15 0.01 0.9 0.9 1 5\n",
      "6 15 0.01 0.9 0.9 1 10\n",
      "7 15 0.01 0.9 0.9 2 5\n",
      "8 15 0.01 0.9 0.9 2 10\n",
      "9 15 0.03 0.9 0.5 1 5\n",
      "10 15 0.03 0.9 0.5 1 10\n",
      "11 15 0.03 0.9 0.5 2 5\n",
      "12 15 0.03 0.9 0.5 2 10\n",
      "13 15 0.03 0.9 0.9 1 5\n",
      "14 15 0.03 0.9 0.9 1 10\n",
      "15 15 0.03 0.9 0.9 2 5\n",
      "16 15 0.03 0.9 0.9 2 10\n",
      "17 30 0.01 0.9 0.5 1 5\n",
      "18 30 0.01 0.9 0.5 1 10\n",
      "19 30 0.01 0.9 0.5 2 5\n",
      "20 30 0.01 0.9 0.5 2 10\n",
      "21 30 0.01 0.9 0.9 1 5\n",
      "22 30 0.01 0.9 0.9 1 10\n",
      "23 30 0.01 0.9 0.9 2 5\n",
      "24 30 0.01 0.9 0.9 2 10\n",
      "25 30 0.03 0.9 0.5 1 5\n",
      "26 30 0.03 0.9 0.5 1 10\n",
      "27 30 0.03 0.9 0.5 2 5\n",
      "28 30 0.03 0.9 0.5 2 10\n",
      "29 30 0.03 0.9 0.9 1 5\n",
      "30 30 0.03 0.9 0.9 1 10\n",
      "31 30 0.03 0.9 0.9 2 5\n",
      "32 30 0.03 0.9 0.9 2 10\n",
      "33 45 0.01 0.9 0.5 1 5\n",
      "34 45 0.01 0.9 0.5 1 10\n",
      "35 45 0.01 0.9 0.5 2 5\n",
      "36 45 0.01 0.9 0.5 2 10\n",
      "37 45 0.01 0.9 0.9 1 5\n",
      "38 45 0.01 0.9 0.9 1 10\n",
      "39 45 0.01 0.9 0.9 2 5\n",
      "40 45 0.01 0.9 0.9 2 10\n",
      "41 45 0.03 0.9 0.5 1 5\n",
      "42 45 0.03 0.9 0.5 1 10\n",
      "43 45 0.03 0.9 0.5 2 5\n",
      "44 45 0.03 0.9 0.5 2 10\n",
      "45 45 0.03 0.9 0.9 1 5\n",
      "46 45 0.03 0.9 0.9 1 10\n",
      "47 45 0.03 0.9 0.9 2 5\n",
      "48 45 0.03 0.9 0.9 2 10\n"
     ]
    }
   ],
   "source": [
    "import itertools\n",
    "import pickle\n",
    "\n",
    "# 변수와 값의 조합 생성\n",
    "variables = ['graph_size', 'obstacle_ratio', 'fixed_obstacle','move_chance','influence','detectability']\n",
    "values = [[15,30,45],\n",
    "          [0.01,0.03],\n",
    "          [0.9],\n",
    "          [0.5,0.9],\n",
    "          [1,2],\n",
    "         [5,10]]\n",
    "combinations = list(itertools.product(*values))\n",
    "\n",
    "# 테스트 실행\n",
    "for idx,combination in enumerate(combinations,start=1):\n",
    "    graph_size, obstacle_ratio, fixed_obstacle, move_chance, influence,detectability = combination\n",
    "    print(idx,graph_size, obstacle_ratio, fixed_obstacle, move_chance, influence, detectability)"
   ]
  },
  {
   "cell_type": "markdown",
   "id": "6f333484",
   "metadata": {},
   "source": [
    "## result"
   ]
  },
  {
   "cell_type": "code",
   "execution_count": 66,
   "id": "7b683f47",
   "metadata": {},
   "outputs": [],
   "source": [
    "with open('/Users/sewoong/Desktop/ML/미래도전/step_1_smart_False.pkl','rb') as f:\n",
    "    result_dict1F=pickle.load(f)\n",
    "    \n",
    "with open('/Users/sewoong/Desktop/ML/미래도전/step_2_smart_False.pkl','rb') as f:\n",
    "    result_dict2F=pickle.load(f)\n",
    "    \n",
    "with open('/Users/sewoong/Desktop/ML/미래도전/step_1_smart_True.pkl','rb') as f:\n",
    "    result_dict1T=pickle.load(f)\n",
    "    \n",
    "with open('/Users/sewoong/Desktop/ML/미래도전/step_2_smart_True.pkl','rb') as f:\n",
    "    result_dict2T=pickle.load(f)"
   ]
  },
  {
   "cell_type": "code",
   "execution_count": 11,
   "id": "3be0c1f4",
   "metadata": {},
   "outputs": [],
   "source": [
    "ab11='alpha: 1, beta: 1'\n",
    "ab110='alpha: 1, beta: 10'\n",
    "ab120='alpha: 1, beta: 20'\n",
    "ab101='alpha: 10, beta: 1'\n",
    "ab1010='alpha: 10, beta: 10'\n",
    "ab1020='alpha: 10, beta: 20'\n",
    "ab201='alpha: 20, beta: 1'\n",
    "ab2010='alpha: 20, beta: 10'\n",
    "ab2020='alpha: 20, beta: 20'"
   ]
  },
  {
   "cell_type": "code",
   "execution_count": 21,
   "id": "b61dd254",
   "metadata": {},
   "outputs": [],
   "source": [
    "ab11_ret=[result_dict2T[key] for key in list(result_dict2T.keys()) if ab11 in key]\n",
    "ab110_ret=[result_dict2T[key] for key in list(result_dict2T.keys()) if ab110 in key]\n",
    "ab120_ret=[result_dict2T[key] for key in list(result_dict2T.keys()) if ab120 in key]\n",
    "ab101_ret=[result_dict2T[key] for key in list(result_dict2T.keys()) if ab101 in key]\n",
    "ab1010_ret=[result_dict2T[key] for key in list(result_dict2T.keys()) if ab1010 in key]\n",
    "ab1020_ret=[result_dict2T[key] for key in list(result_dict2T.keys()) if ab1020 in key]\n",
    "ab201_ret=[result_dict2T[key] for key in list(result_dict2T.keys()) if ab201 in key]\n",
    "ab2010_ret=[result_dict2T[key] for key in list(result_dict2T.keys()) if ab2010 in key]\n",
    "ab2020_ret=[result_dict2T[key] for key in list(result_dict2T.keys()) if ab2020 in key]"
   ]
  },
  {
   "cell_type": "code",
   "execution_count": 22,
   "id": "873924b5",
   "metadata": {},
   "outputs": [],
   "source": [
    "ab11_mean=np.mean(ab11_ret,axis=0)\n",
    "ab110_mean=np.mean(ab110_ret,axis=0)\n",
    "ab120_mean=np.mean(ab120_ret,axis=0)\n",
    "ab101_mean=np.mean(ab101_ret,axis=0)\n",
    "ab1010_mean=np.mean(ab1010_ret,axis=0)\n",
    "ab1020_mean=np.mean(ab1020_ret,axis=0)\n",
    "ab201_mean=np.mean(ab201_ret,axis=0)\n",
    "ab2010_mean=np.mean(ab2010_ret,axis=0)\n",
    "ab2020_mean=np.mean(ab2020_ret,axis=0)"
   ]
  },
  {
   "cell_type": "code",
   "execution_count": 23,
   "id": "d03db47d",
   "metadata": {},
   "outputs": [
    {
     "name": "stdout",
     "output_type": "stream",
     "text": [
      "alpha:1 / beta:1 -> [55.69791667 25.18852934 83.50106442]\n",
      "alpha:1 / beta:10 -> [ 53.6875      27.31624583 149.64226622]\n",
      "alpha:1 / beta:20 -> [ 51.53125     28.74757116 304.63843212]\n",
      "alpha:10 / beta:1 -> [ 55.16666667  25.46314735 103.42585159]\n",
      "alpha:10 / beta:10 -> [ 53.84375     27.85826464 172.79618169]\n",
      "alpha:10 / beta:20 -> [ 52.61458333  29.23686262 461.41389106]\n",
      "alpha:20 / beta:1 -> [ 56.15625     24.99809343 119.43259797]\n",
      "alpha:20 / beta:10 -> [ 54.48958333  26.92968507 194.38173715]\n",
      "alpha:20 / beta:20 -> [ 53.01041667  29.70717448 593.09795533]\n"
     ]
    }
   ],
   "source": [
    "print('alpha:1 / beta:1 ->',ab11_mean)\n",
    "print('alpha:1 / beta:10 ->',ab110_mean)\n",
    "print('alpha:1 / beta:20 ->',ab120_mean)\n",
    "print('alpha:10 / beta:1 ->',ab101_mean)\n",
    "print('alpha:10 / beta:10 ->',ab1010_mean)\n",
    "print('alpha:10 / beta:20 ->',ab1020_mean)\n",
    "print('alpha:20 / beta:1 ->',ab201_mean)\n",
    "print('alpha:20 / beta:10 ->',ab2010_mean)\n",
    "print('alpha:20 / beta:20 ->',ab2020_mean)"
   ]
  },
  {
   "cell_type": "markdown",
   "id": "4e0e1e4a",
   "metadata": {},
   "source": [
    "- step1 smart False\n",
    "\n",
    "    alpha:20 / beta:10 -> [ 93.3125      42.5476714  187.90822463]\n",
    "\n",
    "    alpha:20 / beta:1 -> [ 93.09375     32.91195981 112.78751773]\n",
    "  \n",
    "            \n",
    "- step2 smart False\n",
    "\n",
    "    alpha:10 / beta:1 -> [ 93.36458333  30.54942061 104.91763587]\n",
    "    \n",
    "    alpha:20 / beta:1 -> [ 93.08333333  31.0260814  118.83881807]\n",
    "            \n",
    "- step1 smart True\n",
    "\n",
    "    alpha:10 / beta:1 -> [ 55.96875     25.41193349 100.68952364]\n",
    "    \n",
    "    alpha:20 / beta:1 -> [ 55.54166667  24.82433499 115.27375411]\n",
    "            \n",
    "- step2 smart True\n",
    "\n",
    "    alpha:20 / beta:1 -> [ 56.15625     24.99809343 119.43259797]\n",
    "    \n",
    "    alpha:1 / beta:1 -> [55.69791667 25.18852934 83.50106442]"
   ]
  },
  {
   "cell_type": "code",
   "execution_count": 29,
   "id": "8803e66e",
   "metadata": {},
   "outputs": [],
   "source": [
    "with open('/Users/sewoong/Desktop/ML/미래도전/step_1_smart_False_second.pkl','rb') as f:\n",
    "    result_dict1F_s=pickle.load(f)\n",
    "    \n",
    "with open('/Users/sewoong/Desktop/ML/미래도전/step_2_smart_False_second.pkl','rb') as f:\n",
    "    result_dict2F_s=pickle.load(f)\n",
    "    \n",
    "with open('/Users/sewoong/Desktop/ML/미래도전/step_1_smart_True_second.pkl','rb') as f:\n",
    "    result_dict1T_s=pickle.load(f)\n",
    "    \n",
    "with open('/Users/sewoong/Desktop/ML/미래도전/step_2_smart_True_second.pkl','rb') as f:\n",
    "    result_dict2T_s=pickle.load(f)"
   ]
  },
  {
   "cell_type": "code",
   "execution_count": 68,
   "id": "de06b8d2",
   "metadata": {},
   "outputs": [],
   "source": [
    "ab505='alpha: 5, beta: 0.5'\n",
    "ab51='alpha: 5, beta: 1'\n",
    "ab53='alpha: 5, beta: 3'\n",
    "ab1005='alpha: 10, beta: 0.5'\n",
    "ab101='alpha: 10, beta: 1'\n",
    "ab103='alpha: 10, beta: 3'\n",
    "ab1505='alpha: 15, beta: 0.5'\n",
    "ab151='alpha: 15, beta: 1'\n",
    "ab153='alpha: 15, beta: 3'\n",
    "ab2005='alpha: 20, beta: 0.5'\n",
    "ab201='alpha: 20, beta: 1'\n",
    "ab203='alpha: 20, beta: 3'\n",
    "ab2505='alpha: 25, beta: 0.5'\n",
    "ab251='alpha: 25, beta: 1'\n",
    "ab253='alpha: 25, beta: 3'\n",
    "ab155='alpha: 15, beta: 5'\n",
    "ab1510='alpha: 15, beta: 10'\n",
    "ab1515='alpha: 15, beta: 15'\n",
    "ab205='alpha: 20, beta: 5'\n",
    "ab2010='alpha: 20, beta: 10'\n",
    "ab2015='alpha: 20, beta: 15'\n",
    "ab255='alpha: 25, beta: 5'\n",
    "ab2510='alpha: 25, beta: 10'\n",
    "ab2515='alpha: 25, beta: 15'"
   ]
  },
  {
   "cell_type": "code",
   "execution_count": 82,
   "id": "b52db0af",
   "metadata": {},
   "outputs": [],
   "source": [
    "ab1505_ret=[result_dict2T_s[key] for key in list(result_dict2T_s.keys()) if ab1505 in key]\n",
    "ab151_ret=[result_dict2T_s[key] for key in list(result_dict2T_s.keys()) if ab151 in key]\n",
    "ab153_ret=[result_dict2T_s[key] for key in list(result_dict2T_s.keys()) if ab153 in key]\n",
    "ab2005_ret=[result_dict2T_s[key] for key in list(result_dict2T_s.keys()) if ab2005 in key]\n",
    "ab201_ret=[result_dict2T[key] for key in list(result_dict2T.keys()) if ab201 in key]\n",
    "ab203_ret=[result_dict2T_s[key] for key in list(result_dict2T_s.keys()) if ab203 in key]\n",
    "ab2505_ret=[result_dict2T_s[key] for key in list(result_dict2T_s.keys()) if ab2505 in key]\n",
    "ab251_ret=[result_dict2T_s[key] for key in list(result_dict2T_s.keys()) if ab251 in key]\n",
    "ab253_ret=[result_dict2T_s[key] for key in list(result_dict2T_s.keys()) if ab253 in key]"
   ]
  },
  {
   "cell_type": "code",
   "execution_count": 83,
   "id": "65717710",
   "metadata": {},
   "outputs": [],
   "source": [
    "ab505_ret=[result_dict1T_s[key] for key in list(result_dict1T_s.keys()) if ab505 in key]\n",
    "ab51_ret=[result_dict1T_s[key] for key in list(result_dict1T_s.keys()) if ab51 in key]\n",
    "ab53_ret=[result_dict1T_s[key] for key in list(result_dict1T_s.keys()) if ab53 in key]\n",
    "ab1005_ret=[result_dict1T_s[key] for key in list(result_dict1T_s.keys()) if ab1005 in key]\n",
    "ab101_ret=[result_dict1T[key] for key in list(result_dict1T.keys()) if ab101 in key]\n",
    "ab103_ret=[result_dict1T_s[key] for key in list(result_dict1T_s.keys()) if ab103 in key]\n",
    "ab1505_ret=[result_dict1T_s[key] for key in list(result_dict1T_s.keys()) if ab1505 in key]\n",
    "ab151_ret=[result_dict1T_s[key] for key in list(result_dict1T_s.keys()) if ab151 in key]\n",
    "ab153_ret=[result_dict1T_s[key] for key in list(result_dict1T_s.keys()) if ab153 in key]"
   ]
  },
  {
   "cell_type": "code",
   "execution_count": 91,
   "id": "059ba25f",
   "metadata": {},
   "outputs": [],
   "source": [
    "ab505_ret=[result_dict2F_s[key] for key in list(result_dict2F_s.keys()) if ab505 in key]\n",
    "ab51_ret=[result_dict2F_s[key] for key in list(result_dict2F_s.keys()) if ab51 in key]\n",
    "ab53_ret=[result_dict2F_s[key] for key in list(result_dict2F_s.keys()) if ab53 in key]\n",
    "ab1005_ret=[result_dict2F_s[key] for key in list(result_dict2F_s.keys()) if ab1005 in key]\n",
    "ab101_ret=[result_dict2F[key] for key in list(result_dict2F.keys()) if ab101 in key]\n",
    "ab103_ret=[result_dict2F_s[key] for key in list(result_dict2F_s.keys()) if ab103 in key]\n",
    "ab1505_ret=[result_dict2F_s[key] for key in list(result_dict2F_s.keys()) if ab1505 in key]\n",
    "ab151_ret=[result_dict2F_s[key] for key in list(result_dict2F_s.keys()) if ab151 in key]\n",
    "ab153_ret=[result_dict2F_s[key] for key in list(result_dict2F_s.keys()) if ab153 in key]"
   ]
  },
  {
   "cell_type": "code",
   "execution_count": 94,
   "id": "1b548cd2",
   "metadata": {},
   "outputs": [],
   "source": [
    "ab155_ret=[result_dict1F_s[key] for key in list(result_dict1F_s.keys()) if ab155 in key]\n",
    "ab1510_ret=[result_dict1F_s[key] for key in list(result_dict1F_s.keys()) if ab1510 in key]\n",
    "ab1515_ret=[result_dict1F_s[key] for key in list(result_dict1F_s.keys()) if ab1515 in key]\n",
    "ab205_ret=[result_dict1F_s[key] for key in list(result_dict1F_s.keys()) if ab205 in key]\n",
    "ab2010_ret=[result_dict1F[key] for key in list(result_dict1F.keys()) if ab2010 in key]\n",
    "ab2015_ret=[result_dict1F_s[key] for key in list(result_dict1F_s.keys()) if ab2015 in key]\n",
    "ab255_ret=[result_dict1F_s[key] for key in list(result_dict1F_s.keys()) if ab255 in key]\n",
    "ab2510_ret=[result_dict1F_s[key] for key in list(result_dict1F_s.keys()) if ab2510 in key]\n",
    "ab2515_ret=[result_dict1F_s[key] for key in list(result_dict1F_s.keys()) if ab2515 in key]"
   ]
  },
  {
   "cell_type": "code",
   "execution_count": 84,
   "id": "c10e7f22",
   "metadata": {},
   "outputs": [],
   "source": [
    "ab1505_mean=np.mean(ab1505_ret,axis=0)\n",
    "ab151_mean=np.mean(ab151_ret,axis=0)\n",
    "ab153_mean=np.mean(ab153_ret,axis=0)\n",
    "ab2005_mean=np.mean(ab2005_ret,axis=0)\n",
    "ab201_mean=np.mean(ab201_ret,axis=0)\n",
    "ab203_mean=np.mean(ab203_ret,axis=0)\n",
    "ab2505_mean=np.mean(ab2505_ret,axis=0)\n",
    "ab251_mean=np.mean(ab251_ret,axis=0)\n",
    "ab253_mean=np.mean(ab253_ret,axis=0)"
   ]
  },
  {
   "cell_type": "code",
   "execution_count": 92,
   "id": "19424924",
   "metadata": {},
   "outputs": [],
   "source": [
    "ab505_mean=np.mean(ab505_ret,axis=0)\n",
    "ab51_mean=np.mean(ab51_ret,axis=0)\n",
    "ab53_mean=np.mean(ab53_ret,axis=0)\n",
    "ab1005_mean=np.mean(ab1005_ret,axis=0)\n",
    "ab101_mean=np.mean(ab101_ret,axis=0)\n",
    "ab103_mean=np.mean(ab103_ret,axis=0)\n",
    "ab1505_mean=np.mean(ab1505_ret,axis=0)\n",
    "ab151_mean=np.mean(ab151_ret,axis=0)\n",
    "ab153_mean=np.mean(ab153_ret,axis=0)"
   ]
  },
  {
   "cell_type": "code",
   "execution_count": 95,
   "id": "52df8fbe",
   "metadata": {},
   "outputs": [],
   "source": [
    "ab155_mean=np.mean(ab155_ret,axis=0)\n",
    "ab1510_mean=np.mean(ab1510_ret,axis=0)\n",
    "ab1515_mean=np.mean(ab1515_ret,axis=0)\n",
    "ab205_mean=np.mean(ab205_ret,axis=0)\n",
    "ab2010_mean=np.mean(ab2010_ret,axis=0)\n",
    "ab2015_mean=np.mean(ab2015_ret,axis=0)\n",
    "ab255_mean=np.mean(ab255_ret,axis=0)\n",
    "ab2510_mean=np.mean(ab2510_ret,axis=0)\n",
    "ab2515_mean=np.mean(ab2515_ret,axis=0)"
   ]
  },
  {
   "cell_type": "code",
   "execution_count": 86,
   "id": "0d5f5080",
   "metadata": {},
   "outputs": [
    {
     "name": "stdout",
     "output_type": "stream",
     "text": [
      "alpha:15 / beta:0.5 -> [57.32291667 23.03930986 65.75345043]\n",
      "alpha:15 / beta:1 -> [57.23958333 23.07607362 65.39834172]\n",
      "alpha:15 / beta:3 -> [ 56.23958333  24.00916569 102.71284298]\n",
      "alpha:20 / beta:0.5 -> [58.1875     23.05504613 76.1066101 ]\n",
      "alpha:20 / beta:1 -> [ 56.15625     24.99809343 119.43259797]\n",
      "alpha:20 / beta:3 -> [56.02083333 23.86336522 63.15269542]\n",
      "alpha:25 / beta:0.5 -> [58.01041667 23.06733992 83.11998712]\n",
      "alpha:25 / beta:1 -> [57.91666667 23.06748609 81.23762859]\n",
      "alpha:25 / beta:3 -> [  55.66666667   24.04697571 1938.76476386]\n"
     ]
    }
   ],
   "source": [
    "print('alpha:15 / beta:0.5 ->',ab1505_mean)\n",
    "print('alpha:15 / beta:1 ->',ab151_mean)\n",
    "print('alpha:15 / beta:3 ->',ab153_mean)\n",
    "print('alpha:20 / beta:0.5 ->',ab2005_mean)\n",
    "print('alpha:20 / beta:1 ->',ab201_mean)\n",
    "print('alpha:20 / beta:3 ->',ab203_mean)\n",
    "print('alpha:25 / beta:0.5 ->',ab2505_mean)\n",
    "print('alpha:25 / beta:1 ->',ab251_mean)\n",
    "print('alpha:25 / beta:3 ->',ab253_mean)"
   ]
  },
  {
   "cell_type": "code",
   "execution_count": 93,
   "id": "96e15476",
   "metadata": {},
   "outputs": [
    {
     "name": "stdout",
     "output_type": "stream",
     "text": [
      "alpha:5 / beta:0.5 -> [93.04166667 23.135507   45.90002564]\n",
      "alpha:5 / beta:1 -> [93.04166667 23.14154068 49.34668761]\n",
      "alpha:5 / beta:3 -> [93.3125     25.36126046 82.30670449]\n",
      "alpha:10 / beta:0.5 -> [93.33333333 23.14412825 58.28567201]\n",
      "alpha:10 / beta:1 -> [ 93.36458333  30.54942061 104.91763587]\n",
      "alpha:10 / beta:3 -> [92.60416667 24.5535692  96.19605485]\n",
      "alpha:15 / beta:0.5 -> [93.16666667 23.12106928 65.18131039]\n",
      "alpha:15 / beta:1 -> [93.60416667 23.15160909 68.8787196 ]\n",
      "alpha:15 / beta:3 -> [ 93.625       25.9622846  106.76806708]\n"
     ]
    }
   ],
   "source": [
    "print('alpha:5 / beta:0.5 ->',ab505_mean)\n",
    "print('alpha:5 / beta:1 ->',ab51_mean)\n",
    "print('alpha:5 / beta:3 ->',ab53_mean)\n",
    "print('alpha:10 / beta:0.5 ->',ab1005_mean)\n",
    "print('alpha:10 / beta:1 ->',ab101_mean)\n",
    "print('alpha:10 / beta:3 ->',ab103_mean)\n",
    "print('alpha:15 / beta:0.5 ->',ab1505_mean)\n",
    "print('alpha:15 / beta:1 ->',ab151_mean)\n",
    "print('alpha:15 / beta:3 ->',ab153_mean)"
   ]
  },
  {
   "cell_type": "code",
   "execution_count": 96,
   "id": "ac3e9bde",
   "metadata": {},
   "outputs": [
    {
     "name": "stdout",
     "output_type": "stream",
     "text": [
      "alpha:15 / beta:5 -> [ 93.72916667  28.50552306 163.13862564]\n",
      "alpha:15 / beta:10 -> [ 92.5         37.71170476 335.09045023]\n",
      "alpha:15 / beta:15 -> [ 91.6875      51.3912614  487.84847537]\n",
      "alpha:20 / beta:5 -> [ 93.95833333  32.36108245 174.33949456]\n",
      "alpha:20 / beta:10 -> [ 93.3125      42.5476714  187.90822463]\n",
      "alpha:20 / beta:15 -> [ 92.58333333  48.46915795 515.81873949]\n",
      "alpha:25 / beta:5 -> [ 92.85416667  31.53927002 187.65516792]\n",
      "alpha:25 / beta:10 -> [ 92.70833333  36.72805734 355.32334597]\n",
      "alpha:25 / beta:15 -> [ 92.79166667  49.02349292 531.27826285]\n"
     ]
    }
   ],
   "source": [
    "print('alpha:15 / beta:5 ->',ab155_mean)\n",
    "print('alpha:15 / beta:10 ->',ab1510_mean)\n",
    "print('alpha:15 / beta:15 ->',ab1515_mean)\n",
    "print('alpha:20 / beta:5 ->',ab205_mean)\n",
    "print('alpha:20 / beta:10 ->',ab2010_mean)\n",
    "print('alpha:20 / beta:15 ->',ab2015_mean)\n",
    "print('alpha:25 / beta:5 ->',ab255_mean)\n",
    "print('alpha:25 / beta:10 ->',ab2510_mean)\n",
    "print('alpha:25 / beta:15 ->',ab2515_mean)"
   ]
  },
  {
   "cell_type": "markdown",
   "id": "d52b2963",
   "metadata": {},
   "source": [
    "- step1 smart False\n",
    "\n",
    "    alpha:20 / beta:5 -> [ 93.95833333  32.36108245 174.33949456]\n",
    "    \n",
    "    alpha:15 / beta:5 -> [ 93.72916667  28.50552306 163.13862564]\n",
    "    \n",
    "            \n",
    "- step2 smart False\n",
    "\n",
    "    alpha:15 / beta:3 -> [ 93.625       25.9622846  106.76806708]\n",
    "    \n",
    "    alpha:15 / beta:1 -> [93.60416667 23.15160909 68.8787196 ]\n",
    "    \n",
    "            \n",
    "- step1 smart True\n",
    "\n",
    "    alpha:10 / beta:0.5 -> [57.91666667 23.04667896 54.6506304 ]\n",
    "    \n",
    "    alpha:15 / beta:0.5 -> [57.32291667 23.03930986 65.75345043]\n",
    "    \n",
    "    alpha:5 / beta:0.5 -> [57.32291667 23.02037719 42.8804839 ]\n",
    "    \n",
    "            \n",
    "- step2 smart True\n",
    "\n",
    "    alpha:20 / beta:0.5 -> [58.1875     23.05504613 76.1066101 ]\n",
    "    \n",
    "    alpha:25 / beta:0.5 -> [58.01041667 23.06733992 83.11998712]"
   ]
  },
  {
   "cell_type": "code",
   "execution_count": null,
   "id": "4a7d595e",
   "metadata": {},
   "outputs": [],
   "source": [
    "20 5 / 17 5 / 23 5 / 20 2 / 17 2 / 23 2 / 20 8 / 17 8 / 23 8\n",
    "15 3 / 12 3 / 18 3 / 15 2 / 12 2 / 18 2 / 15 5 / 12 5 / 18 5 / \n",
    "10 0.5 / 7 0.5 / 13 0.5\n",
    "20 0.5 / 17 0.5 / 23 0.5"
   ]
  },
  {
   "cell_type": "code",
   "execution_count": 25,
   "id": "20393e79",
   "metadata": {},
   "outputs": [],
   "source": [
    "with open('/Users/sewoong/Desktop/ML/미래도전/step_1_smart_False_third.pkl','rb') as f:\n",
    "    result_dict1F_t=pickle.load(f)\n",
    "    \n",
    "with open('/Users/sewoong/Desktop/ML/미래도전/step_2_smart_False_third.pkl','rb') as f:\n",
    "    result_dict2F_t=pickle.load(f)\n",
    "    \n",
    "with open('/Users/sewoong/Desktop/ML/미래도전/step_1_smart_True_third.pkl','rb') as f:\n",
    "    result_dict1T_t=pickle.load(f)\n",
    "    \n",
    "with open('/Users/sewoong/Desktop/ML/미래도전/step_2_smart_True_third.pkl','rb') as f:\n",
    "    result_dict2T_t=pickle.load(f)"
   ]
  },
  {
   "cell_type": "code",
   "execution_count": 39,
   "id": "f8e9d412",
   "metadata": {},
   "outputs": [],
   "source": [
    "ab205='alpha: 20, beta: 5'\n",
    "ab175='alpha: 17, beta: 5'\n",
    "ab235='alpha: 23, beta: 5'\n",
    "ab202='alpha: 20, beta: 2'\n",
    "ab172='alpha: 17, beta: 2'\n",
    "ab232='alpha: 23, beta: 2'\n",
    "ab208='alpha: 20, beta: 8'\n",
    "ab178='alpha: 17, beta: 8'\n",
    "ab238='alpha: 23, beta: 8'\n",
    "ab153='alpha: 15, beta: 3'\n",
    "ab123='alpha: 12, beta: 3'\n",
    "ab183='alpha: 18, beta: 3'\n",
    "ab152='alpha: 15, beta: 2'\n",
    "ab122='alpha: 12, beta: 2'\n",
    "ab182='alpha: 18, beta: 2'\n",
    "ab155='alpha: 15, beta: 5'\n",
    "ab125='alpha: 12, beta: 5'\n",
    "ab185='alpha: 18, beta: 5'\n",
    "ab1005='alpha: 10, beta: 0.5'\n",
    "ab705='alpha: 7, beta: 0.5'\n",
    "ab1305='alpha: 13, beta: 0.5'\n",
    "ab2005='alpha: 20, beta: 0.5'\n",
    "ab1705='alpha: 17, beta: 0.5'\n",
    "ab2305='alpha: 23, beta: 0.5'"
   ]
  },
  {
   "cell_type": "code",
   "execution_count": 30,
   "id": "3f0a1e3a",
   "metadata": {},
   "outputs": [],
   "source": [
    "ab205_ret=[result_dict1F_s[key] for key in list(result_dict1F_s.keys()) if ab205 in key]\n",
    "ab175_ret=[result_dict1F_t[key] for key in list(result_dict1F_t.keys()) if ab175 in key]\n",
    "ab235_ret=[result_dict1F_t[key] for key in list(result_dict1F_t.keys()) if ab235 in key]\n",
    "ab202_ret=[result_dict1F_t[key] for key in list(result_dict1F_t.keys()) if ab202 in key]\n",
    "ab172_ret=[result_dict1F_t[key] for key in list(result_dict1F_t.keys()) if ab172 in key]\n",
    "ab232_ret=[result_dict1F_t[key] for key in list(result_dict1F_t.keys()) if ab232 in key]\n",
    "ab208_ret=[result_dict1F_t[key] for key in list(result_dict1F_t.keys()) if ab208 in key]\n",
    "ab178_ret=[result_dict1F_t[key] for key in list(result_dict1F_t.keys()) if ab178 in key]\n",
    "ab238_ret=[result_dict1F_t[key] for key in list(result_dict1F_t.keys()) if ab238 in key]"
   ]
  },
  {
   "cell_type": "code",
   "execution_count": 40,
   "id": "cbd62e97",
   "metadata": {},
   "outputs": [],
   "source": [
    "ab153_ret=[result_dict2F_s[key] for key in list(result_dict2F_s.keys()) if ab153 in key]\n",
    "ab123_ret=[result_dict2F_t[key] for key in list(result_dict2F_t.keys()) if ab123 in key]\n",
    "ab183_ret=[result_dict2F_t[key] for key in list(result_dict2F_t.keys()) if ab183 in key]\n",
    "ab152_ret=[result_dict2F_t[key] for key in list(result_dict2F_t.keys()) if ab152 in key]\n",
    "ab122_ret=[result_dict2F_t[key] for key in list(result_dict2F_t.keys()) if ab122 in key]\n",
    "ab182_ret=[result_dict2F_t[key] for key in list(result_dict2F_t.keys()) if ab182 in key]\n",
    "ab155_ret=[result_dict2F_t[key] for key in list(result_dict2F_t.keys()) if ab155 in key]\n",
    "ab125_ret=[result_dict2F_t[key] for key in list(result_dict2F_t.keys()) if ab125 in key]\n",
    "ab185_ret=[result_dict2F_t[key] for key in list(result_dict2F_t.keys()) if ab185 in key]"
   ]
  },
  {
   "cell_type": "code",
   "execution_count": 43,
   "id": "84197f88",
   "metadata": {},
   "outputs": [],
   "source": [
    "ab1005_ret=[result_dict1T_s[key] for key in list(result_dict1T_s.keys()) if ab1005 in key]\n",
    "ab705_ret=[result_dict1T_t[key] for key in list(result_dict1T_t.keys()) if ab705 in key]\n",
    "ab1305_ret=[result_dict1T_t[key] for key in list(result_dict1T_t.keys()) if ab1305 in key]"
   ]
  },
  {
   "cell_type": "code",
   "execution_count": 46,
   "id": "b7d32ecf",
   "metadata": {},
   "outputs": [],
   "source": [
    "ab2005_ret=[result_dict2T_s[key] for key in list(result_dict2T_s.keys()) if ab2005 in key]\n",
    "ab1705_ret=[result_dict2T_t[key] for key in list(result_dict2T_t.keys()) if ab1705 in key]\n",
    "ab2305_ret=[result_dict2T_t[key] for key in list(result_dict2T_t.keys()) if ab2305 in key]"
   ]
  },
  {
   "cell_type": "code",
   "execution_count": 31,
   "id": "db145e63",
   "metadata": {},
   "outputs": [],
   "source": [
    "ab205_mean=np.mean(ab205_ret,axis=0)\n",
    "ab175_mean=np.mean(ab175_ret,axis=0)\n",
    "ab235_mean=np.mean(ab235_ret,axis=0)\n",
    "ab202_mean=np.mean(ab202_ret,axis=0)\n",
    "ab172_mean=np.mean(ab172_ret,axis=0)\n",
    "ab232_mean=np.mean(ab232_ret,axis=0)\n",
    "ab208_mean=np.mean(ab208_ret,axis=0)\n",
    "ab178_mean=np.mean(ab178_ret,axis=0)\n",
    "ab238_mean=np.mean(ab238_ret,axis=0)"
   ]
  },
  {
   "cell_type": "code",
   "execution_count": 41,
   "id": "64cf7ad2",
   "metadata": {},
   "outputs": [],
   "source": [
    "ab153_mean=np.mean(ab153_ret,axis=0)\n",
    "ab123_mean=np.mean(ab123_ret,axis=0)\n",
    "ab183_mean=np.mean(ab183_ret,axis=0)\n",
    "ab152_mean=np.mean(ab152_ret,axis=0)\n",
    "ab122_mean=np.mean(ab122_ret,axis=0)\n",
    "ab182_mean=np.mean(ab182_ret,axis=0)\n",
    "ab155_mean=np.mean(ab155_ret,axis=0)\n",
    "ab125_mean=np.mean(ab125_ret,axis=0)\n",
    "ab185_mean=np.mean(ab185_ret,axis=0)"
   ]
  },
  {
   "cell_type": "code",
   "execution_count": 44,
   "id": "c0162ed5",
   "metadata": {},
   "outputs": [],
   "source": [
    "ab1005_mean=np.mean(ab1005_ret,axis=0)\n",
    "ab705_mean=np.mean(ab705_ret,axis=0)\n",
    "ab1305_mean=np.mean(ab1305_ret,axis=0)"
   ]
  },
  {
   "cell_type": "code",
   "execution_count": 47,
   "id": "c54b2946",
   "metadata": {},
   "outputs": [],
   "source": [
    "ab2005_mean=np.mean(ab2005_ret,axis=0)\n",
    "ab1705_mean=np.mean(ab1705_ret,axis=0)\n",
    "ab2305_mean=np.mean(ab2305_ret,axis=0)"
   ]
  },
  {
   "cell_type": "code",
   "execution_count": 32,
   "id": "71d02dcb",
   "metadata": {},
   "outputs": [
    {
     "name": "stdout",
     "output_type": "stream",
     "text": [
      "alpha:20 / beta:5 -> [ 93.95833333  32.36108245 174.33949456]\n",
      "alpha:17 / beta:5 -> [ 93.33333333  32.49321256 171.48074199]\n",
      "alpha:23 / beta:5 -> [ 92.64583333  28.62608617 178.68276224]\n",
      "alpha:20 / beta:2 -> [92.97916667 23.58843224 85.49845831]\n",
      "alpha:17 / beta:2 -> [93.27083333 23.63424028 82.20425577]\n",
      "alpha:23 / beta:2 -> [92.9375    23.6297846 87.9339297]\n",
      "alpha:20 / beta:8 -> [ 93.54166667  38.13575554 274.91976249]\n",
      "alpha:17 / beta:8 -> [ 93.625       33.86281182 270.21093704]\n",
      "alpha:23 / beta:8 -> [ 92.77083333  37.7310265  280.40688646]\n"
     ]
    }
   ],
   "source": [
    "print('alpha:20 / beta:5 ->',ab205_mean)\n",
    "print('alpha:17 / beta:5 ->',ab175_mean)\n",
    "print('alpha:23 / beta:5 ->',ab235_mean)\n",
    "print('alpha:20 / beta:2 ->',ab202_mean)\n",
    "print('alpha:17 / beta:2 ->',ab172_mean)\n",
    "print('alpha:23 / beta:2 ->',ab232_mean)\n",
    "print('alpha:20 / beta:8 ->',ab208_mean)\n",
    "print('alpha:17 / beta:8 ->',ab178_mean)\n",
    "print('alpha:23 / beta:8 ->',ab238_mean)"
   ]
  },
  {
   "cell_type": "code",
   "execution_count": 42,
   "id": "d4a6643d",
   "metadata": {},
   "outputs": [
    {
     "name": "stdout",
     "output_type": "stream",
     "text": [
      "alpha:15 / beta:3 -> [ 93.625       25.9622846  106.76806708]\n",
      "alpha:12 / beta:3 -> [92.77083333 24.11764    99.02637926]\n",
      "alpha:18 / beta:3 -> [ 93.4375      26.25675108 111.18076733]\n",
      "alpha:15 / beta:2 -> [93.39583333 23.5141637  79.75961785]\n",
      "alpha:12 / beta:2 -> [93.125      23.49913074 79.25447984]\n",
      "alpha:18 / beta:2 -> [92.625      23.49360288 87.22319171]\n",
      "alpha:15 / beta:5 -> [ 92.8125      29.73458757 170.49162087]\n",
      "alpha:12 / beta:5 -> [ 92.52083333  26.46202523 164.13253923]\n",
      "alpha:18 / beta:5 -> [ 93.625       32.24599914 176.73363686]\n"
     ]
    }
   ],
   "source": [
    "print('alpha:15 / beta:3 ->',ab153_mean)\n",
    "print('alpha:12 / beta:3 ->',ab123_mean)\n",
    "print('alpha:18 / beta:3 ->',ab183_mean)\n",
    "print('alpha:15 / beta:2 ->',ab152_mean)\n",
    "print('alpha:12 / beta:2 ->',ab122_mean)\n",
    "print('alpha:18 / beta:2 ->',ab182_mean)\n",
    "print('alpha:15 / beta:5 ->',ab155_mean)\n",
    "print('alpha:12 / beta:5 ->',ab125_mean)\n",
    "print('alpha:18 / beta:5 ->',ab185_mean)"
   ]
  },
  {
   "cell_type": "code",
   "execution_count": 45,
   "id": "97b31650",
   "metadata": {},
   "outputs": [
    {
     "name": "stdout",
     "output_type": "stream",
     "text": [
      "alpha:10 / beta:0.5 -> [57.91666667 23.04667896 54.6506304 ]\n",
      "alpha:7 / beta:0.5 -> [57.22916667 23.02641299 48.65415409]\n",
      "alpha:13 / beta:0.5 -> [57.64583333 23.04232561 61.25731428]\n"
     ]
    }
   ],
   "source": [
    "print('alpha:10 / beta:0.5 ->',ab1005_mean)\n",
    "print('alpha:7 / beta:0.5 ->',ab705_mean)\n",
    "print('alpha:13 / beta:0.5 ->',ab1305_mean)"
   ]
  },
  {
   "cell_type": "code",
   "execution_count": 48,
   "id": "dc1b0c20",
   "metadata": {},
   "outputs": [
    {
     "name": "stdout",
     "output_type": "stream",
     "text": [
      "alpha:20 / beta:0.5 -> [58.1875     23.05504613 76.1066101 ]\n",
      "alpha:17 / beta:0.5 -> [57.54166667 23.03779689 72.47846473]\n",
      "alpha:23 / beta:0.5 -> [58.17708333 23.05234682 82.06402921]\n"
     ]
    }
   ],
   "source": [
    "print('alpha:20 / beta:0.5 ->',ab2005_mean)\n",
    "print('alpha:17 / beta:0.5 ->',ab1705_mean)\n",
    "print('alpha:23 / beta:0.5 ->',ab2305_mean)"
   ]
  },
  {
   "cell_type": "markdown",
   "id": "cc88bcaa",
   "metadata": {},
   "source": [
    "- step1 smart False\n",
    "\n",
    "    alpha:20 / beta:5 -> [ 93.95833333  32.36108245 174.33949456]\n",
    "    \n",
    "    alpha:17 / beta:8 -> [ 93.625       33.86281182 270.21093704]\n",
    "    \n",
    "            \n",
    "- step2 smart False\n",
    "\n",
    "    alpha:15 / beta:3 -> [ 93.625       25.9622846  106.76806708]\n",
    "    \n",
    "    alpha:18 / beta:5 -> [ 93.625       32.24599914 176.73363686]\n",
    "    \n",
    "            \n",
    "- step1 smart True\n",
    "\n",
    "    alpha:10 / beta:0.5 -> [57.91666667 23.04667896 54.6506304 ]\n",
    "    \n",
    "    alpha:13 / beta:0.5 -> [57.64583333 23.04232561 61.25731428]\n",
    "    \n",
    "            \n",
    "- step2 smart True\n",
    "\n",
    "    alpha:20 / beta:0.5 -> [58.1875     23.05504613 76.1066101 ]\n",
    "    \n",
    "    alpha:23 / beta:0.5 -> [58.17708333 23.05234682 82.06402921]"
   ]
  },
  {
   "cell_type": "markdown",
   "id": "10dd995a",
   "metadata": {},
   "source": [
    "### step=1 & smart=False"
   ]
  },
  {
   "cell_type": "code",
   "execution_count": 67,
   "id": "7a5db89a",
   "metadata": {},
   "outputs": [],
   "source": [
    "result_dict1={} # 1,True\n",
    "result_dict2={} # 2,True\n",
    "result_dict3={} # 1,False\n",
    "result_dict4={} # 2,False"
   ]
  },
  {
   "cell_type": "code",
   "execution_count": 19,
   "id": "0a1294bf",
   "metadata": {},
   "outputs": [],
   "source": [
    "step=1\n",
    "smart=False"
   ]
  },
  {
   "cell_type": "code",
   "execution_count": 20,
   "id": "175dd610",
   "metadata": {
    "scrolled": true
   },
   "outputs": [
    {
     "name": "stdout",
     "output_type": "stream",
     "text": [
      "\n",
      " step: 1, smart: False, alpha: 20, beta: 5 \n",
      "\n",
      "\n",
      " 0 start \n",
      "\n"
     ]
    },
    {
     "name": "stderr",
     "output_type": "stream",
     "text": [
      "100%|█████████████████████████████████████████| 100/100 [00:10<00:00,  9.32it/s]\n"
     ]
    },
    {
     "name": "stdout",
     "output_type": "stream",
     "text": [
      "\n",
      "-Success Ratio : 92.0%\n",
      "-Average moving times : 16.22826086956522\n",
      "\n",
      " 1 start \n",
      "\n"
     ]
    },
    {
     "name": "stderr",
     "output_type": "stream",
     "text": [
      "100%|█████████████████████████████████████████| 100/100 [00:10<00:00,  9.09it/s]\n"
     ]
    },
    {
     "name": "stdout",
     "output_type": "stream",
     "text": [
      "\n",
      "-Success Ratio : 96.0%\n",
      "-Average moving times : 16.135416666666668\n",
      "\n",
      " 2 start \n",
      "\n"
     ]
    },
    {
     "name": "stderr",
     "output_type": "stream",
     "text": [
      "100%|█████████████████████████████████████████| 100/100 [00:09<00:00, 10.04it/s]\n"
     ]
    },
    {
     "name": "stdout",
     "output_type": "stream",
     "text": [
      "\n",
      "-Success Ratio : 95.0%\n",
      "-Average moving times : 16.31578947368421\n",
      "\n",
      " 3 start \n",
      "\n"
     ]
    },
    {
     "name": "stderr",
     "output_type": "stream",
     "text": [
      "100%|█████████████████████████████████████████| 100/100 [00:11<00:00,  8.36it/s]\n"
     ]
    },
    {
     "name": "stdout",
     "output_type": "stream",
     "text": [
      "\n",
      "-Success Ratio : 92.0%\n",
      "-Average moving times : 16.184782608695652\n",
      "\n",
      " 4 start \n",
      "\n"
     ]
    },
    {
     "name": "stderr",
     "output_type": "stream",
     "text": [
      "100%|█████████████████████████████████████████| 100/100 [00:12<00:00,  8.16it/s]\n"
     ]
    },
    {
     "name": "stdout",
     "output_type": "stream",
     "text": [
      "\n",
      "-Success Ratio : 94.0%\n",
      "-Average moving times : 20.29787234042553\n",
      "\n",
      " 5 start \n",
      "\n"
     ]
    },
    {
     "name": "stderr",
     "output_type": "stream",
     "text": [
      "100%|█████████████████████████████████████████| 100/100 [00:11<00:00,  8.43it/s]\n"
     ]
    },
    {
     "name": "stdout",
     "output_type": "stream",
     "text": [
      "\n",
      "-Success Ratio : 98.0%\n",
      "-Average moving times : 16.43877551020408\n",
      "\n",
      " 6 start \n",
      "\n"
     ]
    },
    {
     "name": "stderr",
     "output_type": "stream",
     "text": [
      "100%|█████████████████████████████████████████| 100/100 [00:11<00:00,  8.66it/s]\n"
     ]
    },
    {
     "name": "stdout",
     "output_type": "stream",
     "text": [
      "\n",
      "-Success Ratio : 93.0%\n",
      "-Average moving times : 20.161290322580644\n",
      "\n",
      " 7 start \n",
      "\n"
     ]
    },
    {
     "name": "stderr",
     "output_type": "stream",
     "text": [
      "100%|█████████████████████████████████████████| 100/100 [00:12<00:00,  7.92it/s]\n"
     ]
    },
    {
     "name": "stdout",
     "output_type": "stream",
     "text": [
      "\n",
      "-Success Ratio : 90.0%\n",
      "-Average moving times : 16.68888888888889\n",
      "\n",
      " 8 start \n",
      "\n"
     ]
    },
    {
     "name": "stderr",
     "output_type": "stream",
     "text": [
      "100%|█████████████████████████████████████████| 100/100 [01:19<00:00,  1.26it/s]\n"
     ]
    },
    {
     "name": "stdout",
     "output_type": "stream",
     "text": [
      "\n",
      "-Success Ratio : 99.0%\n",
      "-Average moving times : 31.757575757575758\n",
      "\n",
      " 9 start \n",
      "\n"
     ]
    },
    {
     "name": "stderr",
     "output_type": "stream",
     "text": [
      "100%|█████████████████████████████████████████| 100/100 [01:14<00:00,  1.34it/s]\n"
     ]
    },
    {
     "name": "stdout",
     "output_type": "stream",
     "text": [
      "\n",
      "-Success Ratio : 100.0%\n",
      "-Average moving times : 45.67\n",
      "\n",
      " 10 start \n",
      "\n"
     ]
    },
    {
     "name": "stderr",
     "output_type": "stream",
     "text": [
      "100%|█████████████████████████████████████████| 100/100 [01:10<00:00,  1.42it/s]\n"
     ]
    },
    {
     "name": "stdout",
     "output_type": "stream",
     "text": [
      "\n",
      "-Success Ratio : 95.0%\n",
      "-Average moving times : 34.305263157894736\n",
      "\n",
      " 11 start \n",
      "\n"
     ]
    },
    {
     "name": "stderr",
     "output_type": "stream",
     "text": [
      "100%|█████████████████████████████████████████| 100/100 [01:20<00:00,  1.24it/s]\n"
     ]
    },
    {
     "name": "stdout",
     "output_type": "stream",
     "text": [
      "\n",
      "-Success Ratio : 96.0%\n",
      "-Average moving times : 77.1875\n",
      "\n",
      " 12 start \n",
      "\n"
     ]
    },
    {
     "name": "stderr",
     "output_type": "stream",
     "text": [
      "100%|█████████████████████████████████████████| 100/100 [01:39<00:00,  1.01it/s]\n"
     ]
    },
    {
     "name": "stdout",
     "output_type": "stream",
     "text": [
      "\n",
      "-Success Ratio : 97.0%\n",
      "-Average moving times : 32.28865979381443\n",
      "\n",
      " 13 start \n",
      "\n"
     ]
    },
    {
     "name": "stderr",
     "output_type": "stream",
     "text": [
      "100%|█████████████████████████████████████████| 100/100 [01:42<00:00,  1.03s/it]\n"
     ]
    },
    {
     "name": "stdout",
     "output_type": "stream",
     "text": [
      "\n",
      "-Success Ratio : 96.0%\n",
      "-Average moving times : 34.6875\n",
      "\n",
      " 14 start \n",
      "\n"
     ]
    },
    {
     "name": "stderr",
     "output_type": "stream",
     "text": [
      "100%|█████████████████████████████████████████| 100/100 [01:36<00:00,  1.04it/s]\n"
     ]
    },
    {
     "name": "stdout",
     "output_type": "stream",
     "text": [
      "\n",
      "-Success Ratio : 96.0%\n",
      "-Average moving times : 33.291666666666664\n",
      "\n",
      " 15 start \n",
      "\n"
     ]
    },
    {
     "name": "stderr",
     "output_type": "stream",
     "text": [
      "100%|█████████████████████████████████████████| 100/100 [01:46<00:00,  1.07s/it]\n"
     ]
    },
    {
     "name": "stdout",
     "output_type": "stream",
     "text": [
      "\n",
      "-Success Ratio : 88.0%\n",
      "-Average moving times : 45.09090909090909\n",
      "\n",
      " 16 start \n",
      "\n"
     ]
    },
    {
     "name": "stderr",
     "output_type": "stream",
     "text": [
      "100%|█████████████████████████████████████████| 100/100 [03:52<00:00,  2.33s/it]\n"
     ]
    },
    {
     "name": "stdout",
     "output_type": "stream",
     "text": [
      "\n",
      "-Success Ratio : 98.0%\n",
      "-Average moving times : 96.77551020408163\n",
      "\n",
      " 17 start \n",
      "\n"
     ]
    },
    {
     "name": "stderr",
     "output_type": "stream",
     "text": [
      "100%|█████████████████████████████████████████| 100/100 [03:37<00:00,  2.18s/it]\n"
     ]
    },
    {
     "name": "stdout",
     "output_type": "stream",
     "text": [
      "\n",
      "-Success Ratio : 99.0%\n",
      "-Average moving times : 46.94949494949495\n",
      "\n",
      " 18 start \n",
      "\n"
     ]
    },
    {
     "name": "stderr",
     "output_type": "stream",
     "text": [
      "100%|█████████████████████████████████████████| 100/100 [03:49<00:00,  2.29s/it]\n"
     ]
    },
    {
     "name": "stdout",
     "output_type": "stream",
     "text": [
      "\n",
      "-Success Ratio : 98.0%\n",
      "-Average moving times : 46.95918367346939\n",
      "\n",
      " 19 start \n",
      "\n"
     ]
    },
    {
     "name": "stderr",
     "output_type": "stream",
     "text": [
      "100%|█████████████████████████████████████████| 100/100 [03:29<00:00,  2.10s/it]\n"
     ]
    },
    {
     "name": "stdout",
     "output_type": "stream",
     "text": [
      "\n",
      "-Success Ratio : 97.0%\n",
      "-Average moving times : 46.94845360824742\n",
      "\n",
      " 20 start \n",
      "\n"
     ]
    },
    {
     "name": "stderr",
     "output_type": "stream",
     "text": [
      "100%|█████████████████████████████████████████| 100/100 [05:26<00:00,  3.26s/it]\n"
     ]
    },
    {
     "name": "stdout",
     "output_type": "stream",
     "text": [
      "\n",
      "-Success Ratio : 94.0%\n",
      "-Average moving times : 47.40425531914894\n",
      "\n",
      " 21 start \n",
      "\n"
     ]
    },
    {
     "name": "stderr",
     "output_type": "stream",
     "text": [
      "100%|█████████████████████████████████████████| 100/100 [06:07<00:00,  3.67s/it]\n"
     ]
    },
    {
     "name": "stdout",
     "output_type": "stream",
     "text": [
      "\n",
      "-Success Ratio : 95.0%\n",
      "-Average moving times : 48.43157894736842\n",
      "\n",
      " 22 start \n",
      "\n"
     ]
    },
    {
     "name": "stderr",
     "output_type": "stream",
     "text": [
      "100%|█████████████████████████████████████████| 100/100 [05:02<00:00,  3.02s/it]\n"
     ]
    },
    {
     "name": "stdout",
     "output_type": "stream",
     "text": [
      "\n",
      "-Success Ratio : 91.0%\n",
      "-Average moving times : 47.67032967032967\n",
      "\n",
      " 23 start \n",
      "\n"
     ]
    },
    {
     "name": "stderr",
     "output_type": "stream",
     "text": [
      "100%|█████████████████████████████████████████| 100/100 [05:35<00:00,  3.35s/it]"
     ]
    },
    {
     "name": "stdout",
     "output_type": "stream",
     "text": [
      "\n",
      "-Success Ratio : 92.0%\n",
      "-Average moving times : 47.91304347826087\n"
     ]
    },
    {
     "name": "stderr",
     "output_type": "stream",
     "text": [
      "\n"
     ]
    }
   ],
   "source": [
    "alpha=20\n",
    "beta=5\n",
    "\n",
    "pre_condition=f'step: {step}, smart: {smart}, alpha: {alpha}, beta: {beta}'\n",
    "print('\\n',pre_condition,'\\n')\n",
    "\n",
    "for idx,combination in enumerate(combinations):\n",
    "    print('\\n',idx,'start','\\n')\n",
    "    graph_size, obstacle_ratio, fixed_obstacle, move_chance, influence = combination\n",
    "    string=f'graph_size: {graph_size}, obstacle_ratio: {obstacle_ratio}, fixed_obs_ratio: {fixed_obstacle}, move_chance: {move_chance}, influence: {influence}, detectability: {1}'\n",
    "    succ,mov_num,time=iter_test(test_num=100, dimension_x=graph_size, dimension_y=graph_size, s_start='x0y0', s_goal=f'x{graph_size-1}y{graph_size-1}',\n",
    "              obstacle_ratio=obstacle_ratio, fixed_obs_ratio=fixed_obstacle, move_chance=move_chance, \n",
    "              step=step, smart=smart, influence=influence, detectability=1)\n",
    "    result_dict3[pre_condition+', '+string]=[succ,mov_num,time]\n",
    "\n",
    "# with open('/Users/sewoong/Desktop/ML/미래도전/step_1_smart_True_final.pkl','wb') as f:\n",
    "#     pickle.dump(result_dict,f)\n",
    "# print(pre_condition,'saved !')"
   ]
  },
  {
   "cell_type": "code",
   "execution_count": 22,
   "id": "74a057f4",
   "metadata": {},
   "outputs": [
    {
     "name": "stdout",
     "output_type": "stream",
     "text": [
      "\n",
      " step: 2, smart: False, alpha: 15, beta: 3 \n",
      "\n",
      "\n",
      " 0 start \n",
      "\n"
     ]
    },
    {
     "name": "stderr",
     "output_type": "stream",
     "text": [
      "100%|█████████████████████████████████████████| 100/100 [00:05<00:00, 17.05it/s]\n"
     ]
    },
    {
     "name": "stdout",
     "output_type": "stream",
     "text": [
      "\n",
      "-Success Ratio : 97.0%\n",
      "-Average moving times : 15.938144329896907\n",
      "\n",
      " 1 start \n",
      "\n"
     ]
    },
    {
     "name": "stderr",
     "output_type": "stream",
     "text": [
      "100%|█████████████████████████████████████████| 100/100 [00:07<00:00, 13.36it/s]\n"
     ]
    },
    {
     "name": "stdout",
     "output_type": "stream",
     "text": [
      "\n",
      "-Success Ratio : 98.0%\n",
      "-Average moving times : 15.86734693877551\n",
      "\n",
      " 2 start \n",
      "\n"
     ]
    },
    {
     "name": "stderr",
     "output_type": "stream",
     "text": [
      "100%|█████████████████████████████████████████| 100/100 [00:06<00:00, 14.61it/s]\n"
     ]
    },
    {
     "name": "stdout",
     "output_type": "stream",
     "text": [
      "\n",
      "-Success Ratio : 91.0%\n",
      "-Average moving times : 15.857142857142858\n",
      "\n",
      " 3 start \n",
      "\n"
     ]
    },
    {
     "name": "stderr",
     "output_type": "stream",
     "text": [
      "100%|█████████████████████████████████████████| 100/100 [00:08<00:00, 12.20it/s]\n"
     ]
    },
    {
     "name": "stdout",
     "output_type": "stream",
     "text": [
      "\n",
      "-Success Ratio : 93.0%\n",
      "-Average moving times : 15.86021505376344\n",
      "\n",
      " 4 start \n",
      "\n"
     ]
    },
    {
     "name": "stderr",
     "output_type": "stream",
     "text": [
      "100%|█████████████████████████████████████████| 100/100 [00:07<00:00, 12.92it/s]\n"
     ]
    },
    {
     "name": "stdout",
     "output_type": "stream",
     "text": [
      "\n",
      "-Success Ratio : 97.0%\n",
      "-Average moving times : 16.577319587628867\n",
      "\n",
      " 5 start \n",
      "\n"
     ]
    },
    {
     "name": "stderr",
     "output_type": "stream",
     "text": [
      "100%|█████████████████████████████████████████| 100/100 [00:09<00:00, 10.03it/s]\n"
     ]
    },
    {
     "name": "stdout",
     "output_type": "stream",
     "text": [
      "\n",
      "-Success Ratio : 96.0%\n",
      "-Average moving times : 16.072916666666668\n",
      "\n",
      " 6 start \n",
      "\n"
     ]
    },
    {
     "name": "stderr",
     "output_type": "stream",
     "text": [
      "100%|█████████████████████████████████████████| 100/100 [00:07<00:00, 13.65it/s]\n"
     ]
    },
    {
     "name": "stdout",
     "output_type": "stream",
     "text": [
      "\n",
      "-Success Ratio : 96.0%\n",
      "-Average moving times : 16.104166666666668\n",
      "\n",
      " 7 start \n",
      "\n"
     ]
    },
    {
     "name": "stderr",
     "output_type": "stream",
     "text": [
      "100%|█████████████████████████████████████████| 100/100 [00:08<00:00, 11.44it/s]\n"
     ]
    },
    {
     "name": "stdout",
     "output_type": "stream",
     "text": [
      "\n",
      "-Success Ratio : 93.0%\n",
      "-Average moving times : 15.881720430107526\n",
      "\n",
      " 8 start \n",
      "\n"
     ]
    },
    {
     "name": "stderr",
     "output_type": "stream",
     "text": [
      "100%|█████████████████████████████████████████| 100/100 [00:35<00:00,  2.78it/s]\n"
     ]
    },
    {
     "name": "stdout",
     "output_type": "stream",
     "text": [
      "\n",
      "-Success Ratio : 100.0%\n",
      "-Average moving times : 30.93\n",
      "\n",
      " 9 start \n",
      "\n"
     ]
    },
    {
     "name": "stderr",
     "output_type": "stream",
     "text": [
      "100%|█████████████████████████████████████████| 100/100 [00:38<00:00,  2.57it/s]\n"
     ]
    },
    {
     "name": "stdout",
     "output_type": "stream",
     "text": [
      "\n",
      "-Success Ratio : 99.0%\n",
      "-Average moving times : 31.19191919191919\n",
      "\n",
      " 10 start \n",
      "\n"
     ]
    },
    {
     "name": "stderr",
     "output_type": "stream",
     "text": [
      "100%|█████████████████████████████████████████| 100/100 [00:33<00:00,  2.96it/s]\n"
     ]
    },
    {
     "name": "stdout",
     "output_type": "stream",
     "text": [
      "\n",
      "-Success Ratio : 97.0%\n",
      "-Average moving times : 31.103092783505154\n",
      "\n",
      " 11 start \n",
      "\n"
     ]
    },
    {
     "name": "stderr",
     "output_type": "stream",
     "text": [
      "100%|█████████████████████████████████████████| 100/100 [00:43<00:00,  2.32it/s]\n"
     ]
    },
    {
     "name": "stdout",
     "output_type": "stream",
     "text": [
      "\n",
      "-Success Ratio : 98.0%\n",
      "-Average moving times : 31.142857142857142\n",
      "\n",
      " 12 start \n",
      "\n"
     ]
    },
    {
     "name": "stderr",
     "output_type": "stream",
     "text": [
      "100%|█████████████████████████████████████████| 100/100 [00:59<00:00,  1.68it/s]\n"
     ]
    },
    {
     "name": "stdout",
     "output_type": "stream",
     "text": [
      "\n",
      "-Success Ratio : 98.0%\n",
      "-Average moving times : 31.551020408163264\n",
      "\n",
      " 13 start \n",
      "\n"
     ]
    },
    {
     "name": "stderr",
     "output_type": "stream",
     "text": [
      "100%|█████████████████████████████████████████| 100/100 [01:03<00:00,  1.57it/s]\n"
     ]
    },
    {
     "name": "stdout",
     "output_type": "stream",
     "text": [
      "\n",
      "-Success Ratio : 96.0%\n",
      "-Average moving times : 31.364583333333332\n",
      "\n",
      " 14 start \n",
      "\n"
     ]
    },
    {
     "name": "stderr",
     "output_type": "stream",
     "text": [
      "100%|█████████████████████████████████████████| 100/100 [00:53<00:00,  1.88it/s]\n"
     ]
    },
    {
     "name": "stdout",
     "output_type": "stream",
     "text": [
      "\n",
      "-Success Ratio : 95.0%\n",
      "-Average moving times : 31.49473684210526\n",
      "\n",
      " 15 start \n",
      "\n"
     ]
    },
    {
     "name": "stderr",
     "output_type": "stream",
     "text": [
      "100%|█████████████████████████████████████████| 100/100 [01:04<00:00,  1.55it/s]\n"
     ]
    },
    {
     "name": "stdout",
     "output_type": "stream",
     "text": [
      "\n",
      "-Success Ratio : 90.0%\n",
      "-Average moving times : 31.488888888888887\n",
      "\n",
      " 16 start \n",
      "\n"
     ]
    },
    {
     "name": "stderr",
     "output_type": "stream",
     "text": [
      "100%|█████████████████████████████████████████| 100/100 [02:05<00:00,  1.26s/it]\n"
     ]
    },
    {
     "name": "stdout",
     "output_type": "stream",
     "text": [
      "\n",
      "-Success Ratio : 98.0%\n",
      "-Average moving times : 46.08163265306123\n",
      "\n",
      " 17 start \n",
      "\n"
     ]
    },
    {
     "name": "stderr",
     "output_type": "stream",
     "text": [
      "100%|█████████████████████████████████████████| 100/100 [01:58<00:00,  1.18s/it]\n"
     ]
    },
    {
     "name": "stdout",
     "output_type": "stream",
     "text": [
      "\n",
      "-Success Ratio : 100.0%\n",
      "-Average moving times : 46.14\n",
      "\n",
      " 18 start \n",
      "\n"
     ]
    },
    {
     "name": "stderr",
     "output_type": "stream",
     "text": [
      "100%|█████████████████████████████████████████| 100/100 [01:38<00:00,  1.02it/s]\n"
     ]
    },
    {
     "name": "stdout",
     "output_type": "stream",
     "text": [
      "\n",
      "-Success Ratio : 97.0%\n",
      "-Average moving times : 46.144329896907216\n",
      "\n",
      " 19 start \n",
      "\n"
     ]
    },
    {
     "name": "stderr",
     "output_type": "stream",
     "text": [
      "100%|█████████████████████████████████████████| 100/100 [02:10<00:00,  1.31s/it]\n"
     ]
    },
    {
     "name": "stdout",
     "output_type": "stream",
     "text": [
      "\n",
      "-Success Ratio : 97.0%\n",
      "-Average moving times : 46.134020618556704\n",
      "\n",
      " 20 start \n",
      "\n"
     ]
    },
    {
     "name": "stderr",
     "output_type": "stream",
     "text": [
      "100%|█████████████████████████████████████████| 100/100 [03:24<00:00,  2.05s/it]\n"
     ]
    },
    {
     "name": "stdout",
     "output_type": "stream",
     "text": [
      "\n",
      "-Success Ratio : 90.0%\n",
      "-Average moving times : 47.91111111111111\n",
      "\n",
      " 21 start \n",
      "\n"
     ]
    },
    {
     "name": "stderr",
     "output_type": "stream",
     "text": [
      "100%|█████████████████████████████████████████| 100/100 [03:41<00:00,  2.22s/it]\n"
     ]
    },
    {
     "name": "stdout",
     "output_type": "stream",
     "text": [
      "\n",
      "-Success Ratio : 92.0%\n",
      "-Average moving times : 46.869565217391305\n",
      "\n",
      " 22 start \n",
      "\n"
     ]
    },
    {
     "name": "stderr",
     "output_type": "stream",
     "text": [
      "100%|█████████████████████████████████████████| 100/100 [03:17<00:00,  1.97s/it]\n"
     ]
    },
    {
     "name": "stdout",
     "output_type": "stream",
     "text": [
      "\n",
      "-Success Ratio : 91.0%\n",
      "-Average moving times : 46.79120879120879\n",
      "\n",
      " 23 start \n",
      "\n"
     ]
    },
    {
     "name": "stderr",
     "output_type": "stream",
     "text": [
      "100%|█████████████████████████████████████████| 100/100 [03:51<00:00,  2.31s/it]"
     ]
    },
    {
     "name": "stdout",
     "output_type": "stream",
     "text": [
      "\n",
      "-Success Ratio : 86.0%\n",
      "-Average moving times : 46.883720930232556\n"
     ]
    },
    {
     "name": "stderr",
     "output_type": "stream",
     "text": [
      "\n"
     ]
    }
   ],
   "source": [
    "alpha=15\n",
    "beta=3\n",
    "\n",
    "pre_condition=f'step: {step}, smart: {smart}, alpha: {alpha}, beta: {beta}'\n",
    "print('\\n',pre_condition,'\\n')\n",
    "\n",
    "for idx,combination in enumerate(combinations):\n",
    "    print('\\n',idx,'start','\\n')\n",
    "    graph_size, obstacle_ratio, fixed_obstacle, move_chance, influence = combination\n",
    "    string=f'graph_size: {graph_size}, obstacle_ratio: {obstacle_ratio}, fixed_obs_ratio: {fixed_obstacle}, move_chance: {move_chance}, influence: {influence}, detectability: {1}'\n",
    "    succ,mov_num,time=iter_test(test_num=100, dimension_x=graph_size, dimension_y=graph_size, s_start='x0y0', s_goal=f'x{graph_size-1}y{graph_size-1}',\n",
    "              obstacle_ratio=obstacle_ratio, fixed_obs_ratio=fixed_obstacle, move_chance=move_chance, \n",
    "              step=step, smart=smart, influence=influence, detectability=1)\n",
    "    result_dict4[pre_condition+', '+string]=[succ,mov_num,time]\n",
    "\n",
    "# with open('/Users/sewoong/Desktop/ML/미래도전/step_1_smart_True_final.pkl','wb') as f:\n",
    "#     pickle.dump(result_dict,f)\n",
    "# print(pre_condition,'saved !')"
   ]
  },
  {
   "cell_type": "code",
   "execution_count": 68,
   "id": "c2c30524",
   "metadata": {},
   "outputs": [],
   "source": [
    "step=2\n",
    "smart=True"
   ]
  },
  {
   "cell_type": "code",
   "execution_count": 69,
   "id": "2f201ee9",
   "metadata": {
    "scrolled": true
   },
   "outputs": [
    {
     "name": "stdout",
     "output_type": "stream",
     "text": [
      "\n",
      " step: 2, smart: True, alpha: 100, beta: 0.5 \n",
      "\n",
      "\n",
      " 0 start \n",
      "\n"
     ]
    },
    {
     "name": "stderr",
     "output_type": "stream",
     "text": [
      "100%|█████████████████████████████████████████| 300/300 [00:14<00:00, 20.13it/s]\n"
     ]
    },
    {
     "name": "stdout",
     "output_type": "stream",
     "text": [
      "\n",
      "-Success Ratio : 77.33333333333333%\n",
      "-Average moving times : 15.051724137931034\n",
      "\n",
      " 1 start \n",
      "\n"
     ]
    },
    {
     "name": "stderr",
     "output_type": "stream",
     "text": [
      "100%|█████████████████████████████████████████| 300/300 [00:15<00:00, 19.14it/s]\n"
     ]
    },
    {
     "name": "stdout",
     "output_type": "stream",
     "text": [
      "\n",
      "-Success Ratio : 77.0%\n",
      "-Average moving times : 15.077922077922079\n",
      "\n",
      " 2 start \n",
      "\n"
     ]
    },
    {
     "name": "stderr",
     "output_type": "stream",
     "text": [
      "100%|█████████████████████████████████████████| 300/300 [00:25<00:00, 11.63it/s]\n"
     ]
    },
    {
     "name": "stdout",
     "output_type": "stream",
     "text": [
      "\n",
      "-Success Ratio : 71.66666666666667%\n",
      "-Average moving times : 15.065116279069768\n",
      "\n",
      " 3 start \n",
      "\n"
     ]
    },
    {
     "name": "stderr",
     "output_type": "stream",
     "text": [
      "100%|█████████████████████████████████████████| 300/300 [00:26<00:00, 11.47it/s]\n"
     ]
    },
    {
     "name": "stdout",
     "output_type": "stream",
     "text": [
      "\n",
      "-Success Ratio : 81.0%\n",
      "-Average moving times : 15.065843621399177\n",
      "\n",
      " 4 start \n",
      "\n"
     ]
    },
    {
     "name": "stderr",
     "output_type": "stream",
     "text": [
      "100%|█████████████████████████████████████████| 300/300 [00:14<00:00, 20.30it/s]\n"
     ]
    },
    {
     "name": "stdout",
     "output_type": "stream",
     "text": [
      "\n",
      "-Success Ratio : 59.666666666666664%\n",
      "-Average moving times : 15.033519553072626\n",
      "\n",
      " 5 start \n",
      "\n"
     ]
    },
    {
     "name": "stderr",
     "output_type": "stream",
     "text": [
      "100%|█████████████████████████████████████████| 300/300 [00:19<00:00, 15.17it/s]\n"
     ]
    },
    {
     "name": "stdout",
     "output_type": "stream",
     "text": [
      "\n",
      "-Success Ratio : 52.0%\n",
      "-Average moving times : 15.051282051282051\n",
      "\n",
      " 6 start \n",
      "\n"
     ]
    },
    {
     "name": "stderr",
     "output_type": "stream",
     "text": [
      "100%|█████████████████████████████████████████| 300/300 [00:26<00:00, 11.11it/s]\n"
     ]
    },
    {
     "name": "stdout",
     "output_type": "stream",
     "text": [
      "\n",
      "-Success Ratio : 64.66666666666667%\n",
      "-Average moving times : 15.061855670103093\n",
      "\n",
      " 7 start \n",
      "\n"
     ]
    },
    {
     "name": "stderr",
     "output_type": "stream",
     "text": [
      "100%|█████████████████████████████████████████| 300/300 [00:32<00:00,  9.13it/s]\n"
     ]
    },
    {
     "name": "stdout",
     "output_type": "stream",
     "text": [
      "\n",
      "-Success Ratio : 51.333333333333336%\n",
      "-Average moving times : 15.071428571428571\n",
      "\n",
      " 8 start \n",
      "\n"
     ]
    },
    {
     "name": "stderr",
     "output_type": "stream",
     "text": [
      "100%|█████████████████████████████████████████| 300/300 [00:18<00:00, 16.22it/s]\n"
     ]
    },
    {
     "name": "stdout",
     "output_type": "stream",
     "text": [
      "\n",
      "-Success Ratio : 74.33333333333333%\n",
      "-Average moving times : 15.300448430493274\n",
      "\n",
      " 9 start \n",
      "\n"
     ]
    },
    {
     "name": "stderr",
     "output_type": "stream",
     "text": [
      "100%|█████████████████████████████████████████| 300/300 [00:20<00:00, 14.60it/s]\n"
     ]
    },
    {
     "name": "stdout",
     "output_type": "stream",
     "text": [
      "\n",
      "-Success Ratio : 75.0%\n",
      "-Average moving times : 15.337777777777777\n",
      "\n",
      " 10 start \n",
      "\n"
     ]
    },
    {
     "name": "stderr",
     "output_type": "stream",
     "text": [
      "100%|█████████████████████████████████████████| 300/300 [00:27<00:00, 10.88it/s]\n"
     ]
    },
    {
     "name": "stdout",
     "output_type": "stream",
     "text": [
      "\n",
      "-Success Ratio : 75.66666666666667%\n",
      "-Average moving times : 15.290748898678414\n",
      "\n",
      " 11 start \n",
      "\n"
     ]
    },
    {
     "name": "stderr",
     "output_type": "stream",
     "text": [
      "100%|█████████████████████████████████████████| 300/300 [00:32<00:00,  9.36it/s]\n"
     ]
    },
    {
     "name": "stdout",
     "output_type": "stream",
     "text": [
      "\n",
      "-Success Ratio : 73.0%\n",
      "-Average moving times : 15.639269406392694\n",
      "\n",
      " 12 start \n",
      "\n"
     ]
    },
    {
     "name": "stderr",
     "output_type": "stream",
     "text": [
      "100%|█████████████████████████████████████████| 300/300 [00:19<00:00, 15.48it/s]\n"
     ]
    },
    {
     "name": "stdout",
     "output_type": "stream",
     "text": [
      "\n",
      "-Success Ratio : 63.0%\n",
      "-Average moving times : 15.354497354497354\n",
      "\n",
      " 13 start \n",
      "\n"
     ]
    },
    {
     "name": "stderr",
     "output_type": "stream",
     "text": [
      "100%|█████████████████████████████████████████| 300/300 [00:20<00:00, 14.31it/s]\n"
     ]
    },
    {
     "name": "stdout",
     "output_type": "stream",
     "text": [
      "\n",
      "-Success Ratio : 57.0%\n",
      "-Average moving times : 15.31578947368421\n",
      "\n",
      " 14 start \n",
      "\n"
     ]
    },
    {
     "name": "stderr",
     "output_type": "stream",
     "text": [
      "100%|█████████████████████████████████████████| 300/300 [00:29<00:00, 10.07it/s]\n"
     ]
    },
    {
     "name": "stdout",
     "output_type": "stream",
     "text": [
      "\n",
      "-Success Ratio : 63.333333333333336%\n",
      "-Average moving times : 15.321052631578947\n",
      "\n",
      " 15 start \n",
      "\n"
     ]
    },
    {
     "name": "stderr",
     "output_type": "stream",
     "text": [
      "100%|█████████████████████████████████████████| 300/300 [00:32<00:00,  9.15it/s]\n"
     ]
    },
    {
     "name": "stdout",
     "output_type": "stream",
     "text": [
      "\n",
      "-Success Ratio : 60.666666666666664%\n",
      "-Average moving times : 15.26923076923077\n",
      "\n",
      " 16 start \n",
      "\n"
     ]
    },
    {
     "name": "stderr",
     "output_type": "stream",
     "text": [
      "100%|█████████████████████████████████████████| 300/300 [01:11<00:00,  4.21it/s]\n"
     ]
    },
    {
     "name": "stdout",
     "output_type": "stream",
     "text": [
      "\n",
      "-Success Ratio : 88.0%\n",
      "-Average moving times : 30.295454545454547\n",
      "\n",
      " 17 start \n",
      "\n"
     ]
    },
    {
     "name": "stderr",
     "output_type": "stream",
     "text": [
      "100%|█████████████████████████████████████████| 300/300 [01:23<00:00,  3.58it/s]\n"
     ]
    },
    {
     "name": "stdout",
     "output_type": "stream",
     "text": [
      "\n",
      "-Success Ratio : 85.33333333333333%\n",
      "-Average moving times : 30.29296875\n",
      "\n",
      " 18 start \n",
      "\n"
     ]
    },
    {
     "name": "stderr",
     "output_type": "stream",
     "text": [
      "100%|█████████████████████████████████████████| 300/300 [01:46<00:00,  2.83it/s]\n"
     ]
    },
    {
     "name": "stdout",
     "output_type": "stream",
     "text": [
      "\n",
      "-Success Ratio : 87.33333333333333%\n",
      "-Average moving times : 30.290076335877863\n",
      "\n",
      " 19 start \n",
      "\n"
     ]
    },
    {
     "name": "stderr",
     "output_type": "stream",
     "text": [
      "100%|█████████████████████████████████████████| 300/300 [02:16<00:00,  2.20it/s]\n"
     ]
    },
    {
     "name": "stdout",
     "output_type": "stream",
     "text": [
      "\n",
      "-Success Ratio : 86.33333333333333%\n",
      "-Average moving times : 30.247104247104247\n",
      "\n",
      " 20 start \n",
      "\n"
     ]
    },
    {
     "name": "stderr",
     "output_type": "stream",
     "text": [
      "100%|█████████████████████████████████████████| 300/300 [01:19<00:00,  3.78it/s]\n"
     ]
    },
    {
     "name": "stdout",
     "output_type": "stream",
     "text": [
      "\n",
      "-Success Ratio : 81.33333333333333%\n",
      "-Average moving times : 30.270491803278688\n",
      "\n",
      " 21 start \n",
      "\n"
     ]
    },
    {
     "name": "stderr",
     "output_type": "stream",
     "text": [
      "100%|█████████████████████████████████████████| 300/300 [01:35<00:00,  3.15it/s]\n"
     ]
    },
    {
     "name": "stdout",
     "output_type": "stream",
     "text": [
      "\n",
      "-Success Ratio : 71.33333333333333%\n",
      "-Average moving times : 30.2196261682243\n",
      "\n",
      " 22 start \n",
      "\n"
     ]
    },
    {
     "name": "stderr",
     "output_type": "stream",
     "text": [
      "100%|█████████████████████████████████████████| 300/300 [01:58<00:00,  2.52it/s]\n"
     ]
    },
    {
     "name": "stdout",
     "output_type": "stream",
     "text": [
      "\n",
      "-Success Ratio : 80.66666666666667%\n",
      "-Average moving times : 30.318181818181817\n",
      "\n",
      " 23 start \n",
      "\n"
     ]
    },
    {
     "name": "stderr",
     "output_type": "stream",
     "text": [
      "100%|█████████████████████████████████████████| 300/300 [02:09<00:00,  2.32it/s]\n"
     ]
    },
    {
     "name": "stdout",
     "output_type": "stream",
     "text": [
      "\n",
      "-Success Ratio : 75.66666666666667%\n",
      "-Average moving times : 30.26872246696035\n",
      "\n",
      " 24 start \n",
      "\n"
     ]
    },
    {
     "name": "stderr",
     "output_type": "stream",
     "text": [
      "100%|█████████████████████████████████████████| 300/300 [02:33<00:00,  1.95it/s]\n"
     ]
    },
    {
     "name": "stdout",
     "output_type": "stream",
     "text": [
      "\n",
      "-Success Ratio : 67.66666666666667%\n",
      "-Average moving times : 30.76847290640394\n",
      "\n",
      " 25 start \n",
      "\n"
     ]
    },
    {
     "name": "stderr",
     "output_type": "stream",
     "text": [
      "100%|█████████████████████████████████████████| 300/300 [03:14<00:00,  1.54it/s]\n"
     ]
    },
    {
     "name": "stdout",
     "output_type": "stream",
     "text": [
      "\n",
      "-Success Ratio : 62.333333333333336%\n",
      "-Average moving times : 30.823529411764707\n",
      "\n",
      " 26 start \n",
      "\n"
     ]
    },
    {
     "name": "stderr",
     "output_type": "stream",
     "text": [
      "100%|█████████████████████████████████████████| 300/300 [04:21<00:00,  1.15it/s]\n"
     ]
    },
    {
     "name": "stdout",
     "output_type": "stream",
     "text": [
      "\n",
      "-Success Ratio : 67.66666666666667%\n",
      "-Average moving times : 30.72906403940887\n",
      "\n",
      " 27 start \n",
      "\n"
     ]
    },
    {
     "name": "stderr",
     "output_type": "stream",
     "text": [
      "100%|█████████████████████████████████████████| 300/300 [04:42<00:00,  1.06it/s]\n"
     ]
    },
    {
     "name": "stdout",
     "output_type": "stream",
     "text": [
      "\n",
      "-Success Ratio : 67.66666666666667%\n",
      "-Average moving times : 30.76847290640394\n",
      "\n",
      " 28 start \n",
      "\n"
     ]
    },
    {
     "name": "stderr",
     "output_type": "stream",
     "text": [
      "100%|█████████████████████████████████████████| 300/300 [02:40<00:00,  1.86it/s]\n"
     ]
    },
    {
     "name": "stdout",
     "output_type": "stream",
     "text": [
      "\n",
      "-Success Ratio : 53.0%\n",
      "-Average moving times : 30.761006289308177\n",
      "\n",
      " 29 start \n",
      "\n"
     ]
    },
    {
     "name": "stderr",
     "output_type": "stream",
     "text": [
      "100%|█████████████████████████████████████████| 300/300 [03:04<00:00,  1.63it/s]\n"
     ]
    },
    {
     "name": "stdout",
     "output_type": "stream",
     "text": [
      "\n",
      "-Success Ratio : 42.666666666666664%\n",
      "-Average moving times : 30.6953125\n",
      "\n",
      " 30 start \n",
      "\n"
     ]
    },
    {
     "name": "stderr",
     "output_type": "stream",
     "text": [
      "100%|█████████████████████████████████████████| 300/300 [04:36<00:00,  1.08it/s]\n"
     ]
    },
    {
     "name": "stdout",
     "output_type": "stream",
     "text": [
      "\n",
      "-Success Ratio : 52.0%\n",
      "-Average moving times : 30.71794871794872\n",
      "\n",
      " 31 start \n",
      "\n"
     ]
    },
    {
     "name": "stderr",
     "output_type": "stream",
     "text": [
      "100%|█████████████████████████████████████████| 300/300 [05:19<00:00,  1.07s/it]\n"
     ]
    },
    {
     "name": "stdout",
     "output_type": "stream",
     "text": [
      "\n",
      "-Success Ratio : 37.0%\n",
      "-Average moving times : 30.756756756756758\n",
      "\n",
      " 32 start \n",
      "\n"
     ]
    },
    {
     "name": "stderr",
     "output_type": "stream",
     "text": [
      "100%|█████████████████████████████████████████| 300/300 [04:53<00:00,  1.02it/s]\n"
     ]
    },
    {
     "name": "stdout",
     "output_type": "stream",
     "text": [
      "\n",
      "-Success Ratio : 81.0%\n",
      "-Average moving times : 45.34567901234568\n",
      "\n",
      " 33 start \n",
      "\n"
     ]
    },
    {
     "name": "stderr",
     "output_type": "stream",
     "text": [
      "100%|█████████████████████████████████████████| 300/300 [05:18<00:00,  1.06s/it]\n"
     ]
    },
    {
     "name": "stdout",
     "output_type": "stream",
     "text": [
      "\n",
      "-Success Ratio : 82.66666666666667%\n",
      "-Average moving times : 45.37096774193548\n",
      "\n",
      " 34 start \n",
      "\n"
     ]
    },
    {
     "name": "stderr",
     "output_type": "stream",
     "text": [
      "100%|█████████████████████████████████████████| 300/300 [06:46<00:00,  1.35s/it]\n"
     ]
    },
    {
     "name": "stdout",
     "output_type": "stream",
     "text": [
      "\n",
      "-Success Ratio : 86.33333333333333%\n",
      "-Average moving times : 45.41312741312741\n",
      "\n",
      " 35 start \n",
      "\n"
     ]
    },
    {
     "name": "stderr",
     "output_type": "stream",
     "text": [
      "100%|█████████████████████████████████████████| 300/300 [07:36<00:00,  1.52s/it]\n"
     ]
    },
    {
     "name": "stdout",
     "output_type": "stream",
     "text": [
      "\n",
      "-Success Ratio : 80.0%\n",
      "-Average moving times : 45.4\n",
      "\n",
      " 36 start \n",
      "\n"
     ]
    },
    {
     "name": "stderr",
     "output_type": "stream",
     "text": [
      "100%|█████████████████████████████████████████| 300/300 [04:15<00:00,  1.18it/s]\n"
     ]
    },
    {
     "name": "stdout",
     "output_type": "stream",
     "text": [
      "\n",
      "-Success Ratio : 76.0%\n",
      "-Average moving times : 45.30263157894737\n",
      "\n",
      " 37 start \n",
      "\n"
     ]
    },
    {
     "name": "stderr",
     "output_type": "stream",
     "text": [
      "100%|█████████████████████████████████████████| 300/300 [05:30<00:00,  1.10s/it]\n"
     ]
    },
    {
     "name": "stdout",
     "output_type": "stream",
     "text": [
      "\n",
      "-Success Ratio : 67.66666666666667%\n",
      "-Average moving times : 45.37931034482759\n",
      "\n",
      " 38 start \n",
      "\n"
     ]
    },
    {
     "name": "stderr",
     "output_type": "stream",
     "text": [
      "100%|█████████████████████████████████████████| 300/300 [08:08<00:00,  1.63s/it]\n"
     ]
    },
    {
     "name": "stdout",
     "output_type": "stream",
     "text": [
      "\n",
      "-Success Ratio : 69.0%\n",
      "-Average moving times : 45.41545893719807\n",
      "\n",
      " 39 start \n",
      "\n"
     ]
    },
    {
     "name": "stderr",
     "output_type": "stream",
     "text": [
      "100%|█████████████████████████████████████████| 300/300 [09:01<00:00,  1.80s/it]\n"
     ]
    },
    {
     "name": "stdout",
     "output_type": "stream",
     "text": [
      "\n",
      "-Success Ratio : 64.66666666666667%\n",
      "-Average moving times : 45.34020618556701\n",
      "\n",
      " 40 start \n",
      "\n"
     ]
    },
    {
     "name": "stderr",
     "output_type": "stream",
     "text": [
      "100%|█████████████████████████████████████████| 300/300 [10:10<00:00,  2.04s/it]\n"
     ]
    },
    {
     "name": "stdout",
     "output_type": "stream",
     "text": [
      "\n",
      "-Success Ratio : 62.0%\n",
      "-Average moving times : 52.32795698924731\n",
      "\n",
      " 41 start \n",
      "\n"
     ]
    },
    {
     "name": "stderr",
     "output_type": "stream",
     "text": [
      "100%|█████████████████████████████████████████| 300/300 [10:30<00:00,  2.10s/it]\n"
     ]
    },
    {
     "name": "stdout",
     "output_type": "stream",
     "text": [
      "\n",
      "-Success Ratio : 55.333333333333336%\n",
      "-Average moving times : 46.13253012048193\n",
      "\n",
      " 42 start \n",
      "\n"
     ]
    },
    {
     "name": "stderr",
     "output_type": "stream",
     "text": [
      "100%|█████████████████████████████████████████| 300/300 [17:39<00:00,  3.53s/it]\n"
     ]
    },
    {
     "name": "stdout",
     "output_type": "stream",
     "text": [
      "\n",
      "-Success Ratio : 55.0%\n",
      "-Average moving times : 46.03636363636364\n",
      "\n",
      " 43 start \n",
      "\n"
     ]
    },
    {
     "name": "stderr",
     "output_type": "stream",
     "text": [
      "100%|███████████████████████████████████████| 300/300 [1:32:56<00:00, 18.59s/it]\n"
     ]
    },
    {
     "name": "stdout",
     "output_type": "stream",
     "text": [
      "\n",
      "-Success Ratio : 52.333333333333336%\n",
      "-Average moving times : 47.261146496815286\n",
      "\n",
      " 44 start \n",
      "\n"
     ]
    },
    {
     "name": "stderr",
     "output_type": "stream",
     "text": [
      "100%|█████████████████████████████████████████| 300/300 [09:42<00:00,  1.94s/it]\n"
     ]
    },
    {
     "name": "stdout",
     "output_type": "stream",
     "text": [
      "\n",
      "-Success Ratio : 41.0%\n",
      "-Average moving times : 46.040650406504064\n",
      "\n",
      " 45 start \n",
      "\n"
     ]
    },
    {
     "name": "stderr",
     "output_type": "stream",
     "text": [
      "100%|█████████████████████████████████████████| 300/300 [09:59<00:00,  2.00s/it]\n"
     ]
    },
    {
     "name": "stdout",
     "output_type": "stream",
     "text": [
      "\n",
      "-Success Ratio : 29.0%\n",
      "-Average moving times : 46.03448275862069\n",
      "\n",
      " 46 start \n",
      "\n"
     ]
    },
    {
     "name": "stderr",
     "output_type": "stream",
     "text": [
      "100%|█████████████████████████████████████████| 300/300 [18:17<00:00,  3.66s/it]\n"
     ]
    },
    {
     "name": "stdout",
     "output_type": "stream",
     "text": [
      "\n",
      "-Success Ratio : 37.333333333333336%\n",
      "-Average moving times : 46.19642857142857\n",
      "\n",
      " 47 start \n",
      "\n"
     ]
    },
    {
     "name": "stderr",
     "output_type": "stream",
     "text": [
      "100%|█████████████████████████████████████████| 300/300 [18:58<00:00,  3.80s/it]"
     ]
    },
    {
     "name": "stdout",
     "output_type": "stream",
     "text": [
      "\n",
      "-Success Ratio : 33.0%\n",
      "-Average moving times : 46.04040404040404\n"
     ]
    },
    {
     "name": "stderr",
     "output_type": "stream",
     "text": [
      "\n"
     ]
    }
   ],
   "source": [
    "alpha=100\n",
    "beta=0.5\n",
    "\n",
    "pre_condition=f'step: {step}, smart: {smart}, alpha: {alpha}, beta: {beta}'\n",
    "print('\\n',pre_condition,'\\n')\n",
    "\n",
    "for idx,combination in enumerate(combinations):\n",
    "    print('\\n',idx,'start','\\n')\n",
    "    graph_size, obstacle_ratio, fixed_obstacle, move_chance, influence, detectability = combination\n",
    "    string=f'graph_size: {graph_size}, obstacle_ratio: {obstacle_ratio}, fixed_obs_ratio: {fixed_obstacle}, move_chance: {move_chance}, influence: {influence}, detectability: {detectability}'\n",
    "    succ,mov_num,time=iter_test(test_num=300, dimension_x=graph_size, dimension_y=graph_size, s_start='x0y0', s_goal=f'x{graph_size-1}y{graph_size-1}',\n",
    "              obstacle_ratio=obstacle_ratio, fixed_obs_ratio=fixed_obstacle, move_chance=move_chance, \n",
    "              step=step, smart=smart, influence=influence, detectability=detectability)\n",
    "    result_dict2[pre_condition+', '+string]=[succ,mov_num,time]\n",
    "\n",
    "# with open('/Users/sewoong/Desktop/ML/미래도전/step_1_smart_True_final.pkl','wb') as f:\n",
    "#     pickle.dump(result_dict,f)\n",
    "# print(pre_condition,'saved !')"
   ]
  },
  {
   "cell_type": "code",
   "execution_count": 70,
   "id": "406d6b9d",
   "metadata": {},
   "outputs": [],
   "source": [
    "step=1\n",
    "smart=True"
   ]
  },
  {
   "cell_type": "code",
   "execution_count": 71,
   "id": "720fda79",
   "metadata": {},
   "outputs": [
    {
     "name": "stdout",
     "output_type": "stream",
     "text": [
      "\n",
      " step: 1, smart: True, alpha: 100, beta: 0.5 \n",
      "\n",
      "\n",
      " 0 start \n",
      "\n"
     ]
    },
    {
     "name": "stderr",
     "output_type": "stream",
     "text": [
      "100%|█████████████████████████████████████████| 300/300 [00:14<00:00, 20.38it/s]\n"
     ]
    },
    {
     "name": "stdout",
     "output_type": "stream",
     "text": [
      "\n",
      "-Success Ratio : 79.0%\n",
      "-Average moving times : 15.10548523206751\n",
      "\n",
      " 1 start \n",
      "\n"
     ]
    },
    {
     "name": "stderr",
     "output_type": "stream",
     "text": [
      "100%|█████████████████████████████████████████| 300/300 [00:19<00:00, 15.58it/s]\n"
     ]
    },
    {
     "name": "stdout",
     "output_type": "stream",
     "text": [
      "\n",
      "-Success Ratio : 73.33333333333333%\n",
      "-Average moving times : 15.072727272727272\n",
      "\n",
      " 2 start \n",
      "\n"
     ]
    },
    {
     "name": "stderr",
     "output_type": "stream",
     "text": [
      "100%|█████████████████████████████████████████| 300/300 [00:19<00:00, 15.42it/s]\n"
     ]
    },
    {
     "name": "stdout",
     "output_type": "stream",
     "text": [
      "\n",
      "-Success Ratio : 77.0%\n",
      "-Average moving times : 15.043290043290042\n",
      "\n",
      " 3 start \n",
      "\n"
     ]
    },
    {
     "name": "stderr",
     "output_type": "stream",
     "text": [
      "100%|█████████████████████████████████████████| 300/300 [00:21<00:00, 14.04it/s]\n"
     ]
    },
    {
     "name": "stdout",
     "output_type": "stream",
     "text": [
      "\n",
      "-Success Ratio : 74.66666666666667%\n",
      "-Average moving times : 15.071428571428571\n",
      "\n",
      " 4 start \n",
      "\n"
     ]
    },
    {
     "name": "stderr",
     "output_type": "stream",
     "text": [
      "100%|█████████████████████████████████████████| 300/300 [00:15<00:00, 19.65it/s]\n"
     ]
    },
    {
     "name": "stdout",
     "output_type": "stream",
     "text": [
      "\n",
      "-Success Ratio : 62.666666666666664%\n",
      "-Average moving times : 15.069148936170214\n",
      "\n",
      " 5 start \n",
      "\n"
     ]
    },
    {
     "name": "stderr",
     "output_type": "stream",
     "text": [
      "100%|█████████████████████████████████████████| 300/300 [00:18<00:00, 16.51it/s]\n"
     ]
    },
    {
     "name": "stdout",
     "output_type": "stream",
     "text": [
      "\n",
      "-Success Ratio : 48.333333333333336%\n",
      "-Average moving times : 15.068965517241379\n",
      "\n",
      " 6 start \n",
      "\n"
     ]
    },
    {
     "name": "stderr",
     "output_type": "stream",
     "text": [
      "100%|█████████████████████████████████████████| 300/300 [00:19<00:00, 15.22it/s]\n"
     ]
    },
    {
     "name": "stdout",
     "output_type": "stream",
     "text": [
      "\n",
      "-Success Ratio : 61.0%\n",
      "-Average moving times : 15.087431693989071\n",
      "\n",
      " 7 start \n",
      "\n"
     ]
    },
    {
     "name": "stderr",
     "output_type": "stream",
     "text": [
      "100%|█████████████████████████████████████████| 300/300 [00:20<00:00, 14.58it/s]\n"
     ]
    },
    {
     "name": "stdout",
     "output_type": "stream",
     "text": [
      "\n",
      "-Success Ratio : 55.333333333333336%\n",
      "-Average moving times : 15.078313253012048\n",
      "\n",
      " 8 start \n",
      "\n"
     ]
    },
    {
     "name": "stderr",
     "output_type": "stream",
     "text": [
      "100%|█████████████████████████████████████████| 300/300 [00:17<00:00, 17.24it/s]\n"
     ]
    },
    {
     "name": "stdout",
     "output_type": "stream",
     "text": [
      "\n",
      "-Success Ratio : 73.66666666666667%\n",
      "-Average moving times : 15.298642533936652\n",
      "\n",
      " 9 start \n",
      "\n"
     ]
    },
    {
     "name": "stderr",
     "output_type": "stream",
     "text": [
      "100%|█████████████████████████████████████████| 300/300 [00:19<00:00, 15.14it/s]\n"
     ]
    },
    {
     "name": "stdout",
     "output_type": "stream",
     "text": [
      "\n",
      "-Success Ratio : 78.0%\n",
      "-Average moving times : 15.41025641025641\n",
      "\n",
      " 10 start \n",
      "\n"
     ]
    },
    {
     "name": "stderr",
     "output_type": "stream",
     "text": [
      "100%|█████████████████████████████████████████| 300/300 [00:25<00:00, 11.60it/s]\n"
     ]
    },
    {
     "name": "stdout",
     "output_type": "stream",
     "text": [
      "\n",
      "-Success Ratio : 74.66666666666667%\n",
      "-Average moving times : 15.388392857142858\n",
      "\n",
      " 11 start \n",
      "\n"
     ]
    },
    {
     "name": "stderr",
     "output_type": "stream",
     "text": [
      "100%|█████████████████████████████████████████| 300/300 [00:26<00:00, 11.31it/s]\n"
     ]
    },
    {
     "name": "stdout",
     "output_type": "stream",
     "text": [
      "\n",
      "-Success Ratio : 74.0%\n",
      "-Average moving times : 15.243243243243244\n",
      "\n",
      " 12 start \n",
      "\n"
     ]
    },
    {
     "name": "stderr",
     "output_type": "stream",
     "text": [
      "100%|█████████████████████████████████████████| 300/300 [00:16<00:00, 17.72it/s]\n"
     ]
    },
    {
     "name": "stdout",
     "output_type": "stream",
     "text": [
      "\n",
      "-Success Ratio : 58.333333333333336%\n",
      "-Average moving times : 15.297142857142857\n",
      "\n",
      " 13 start \n",
      "\n"
     ]
    },
    {
     "name": "stderr",
     "output_type": "stream",
     "text": [
      "100%|█████████████████████████████████████████| 300/300 [00:20<00:00, 14.60it/s]\n"
     ]
    },
    {
     "name": "stdout",
     "output_type": "stream",
     "text": [
      "\n",
      "-Success Ratio : 54.666666666666664%\n",
      "-Average moving times : 15.274390243902438\n",
      "\n",
      " 14 start \n",
      "\n"
     ]
    },
    {
     "name": "stderr",
     "output_type": "stream",
     "text": [
      "100%|█████████████████████████████████████████| 300/300 [00:22<00:00, 13.33it/s]\n"
     ]
    },
    {
     "name": "stdout",
     "output_type": "stream",
     "text": [
      "\n",
      "-Success Ratio : 60.333333333333336%\n",
      "-Average moving times : 15.359116022099448\n",
      "\n",
      " 15 start \n",
      "\n"
     ]
    },
    {
     "name": "stderr",
     "output_type": "stream",
     "text": [
      "100%|█████████████████████████████████████████| 300/300 [00:23<00:00, 12.91it/s]\n"
     ]
    },
    {
     "name": "stdout",
     "output_type": "stream",
     "text": [
      "\n",
      "-Success Ratio : 60.0%\n",
      "-Average moving times : 15.277777777777779\n",
      "\n",
      " 16 start \n",
      "\n"
     ]
    },
    {
     "name": "stderr",
     "output_type": "stream",
     "text": [
      "100%|█████████████████████████████████████████| 300/300 [01:18<00:00,  3.84it/s]\n"
     ]
    },
    {
     "name": "stdout",
     "output_type": "stream",
     "text": [
      "\n",
      "-Success Ratio : 85.33333333333333%\n",
      "-Average moving times : 30.28515625\n",
      "\n",
      " 17 start \n",
      "\n"
     ]
    },
    {
     "name": "stderr",
     "output_type": "stream",
     "text": [
      "100%|█████████████████████████████████████████| 300/300 [01:14<00:00,  4.02it/s]\n"
     ]
    },
    {
     "name": "stdout",
     "output_type": "stream",
     "text": [
      "\n",
      "-Success Ratio : 88.33333333333333%\n",
      "-Average moving times : 30.286792452830188\n",
      "\n",
      " 18 start \n",
      "\n"
     ]
    },
    {
     "name": "stderr",
     "output_type": "stream",
     "text": [
      "100%|█████████████████████████████████████████| 300/300 [01:19<00:00,  3.79it/s]\n"
     ]
    },
    {
     "name": "stdout",
     "output_type": "stream",
     "text": [
      "\n",
      "-Success Ratio : 88.0%\n",
      "-Average moving times : 30.295454545454547\n",
      "\n",
      " 19 start \n",
      "\n"
     ]
    },
    {
     "name": "stderr",
     "output_type": "stream",
     "text": [
      "100%|█████████████████████████████████████████| 300/300 [01:33<00:00,  3.19it/s]\n"
     ]
    },
    {
     "name": "stdout",
     "output_type": "stream",
     "text": [
      "\n",
      "-Success Ratio : 86.33333333333333%\n",
      "-Average moving times : 30.320463320463322\n",
      "\n",
      " 20 start \n",
      "\n"
     ]
    },
    {
     "name": "stderr",
     "output_type": "stream",
     "text": [
      "100%|█████████████████████████████████████████| 300/300 [01:15<00:00,  3.95it/s]\n"
     ]
    },
    {
     "name": "stdout",
     "output_type": "stream",
     "text": [
      "\n",
      "-Success Ratio : 81.0%\n",
      "-Average moving times : 30.238683127572017\n",
      "\n",
      " 21 start \n",
      "\n"
     ]
    },
    {
     "name": "stderr",
     "output_type": "stream",
     "text": [
      "100%|█████████████████████████████████████████| 300/300 [01:28<00:00,  3.39it/s]\n"
     ]
    },
    {
     "name": "stdout",
     "output_type": "stream",
     "text": [
      "\n",
      "-Success Ratio : 73.0%\n",
      "-Average moving times : 30.292237442922374\n",
      "\n",
      " 22 start \n",
      "\n"
     ]
    },
    {
     "name": "stderr",
     "output_type": "stream",
     "text": [
      "100%|█████████████████████████████████████████| 300/300 [01:28<00:00,  3.38it/s]\n"
     ]
    },
    {
     "name": "stdout",
     "output_type": "stream",
     "text": [
      "\n",
      "-Success Ratio : 73.66666666666667%\n",
      "-Average moving times : 30.20814479638009\n",
      "\n",
      " 23 start \n",
      "\n"
     ]
    },
    {
     "name": "stderr",
     "output_type": "stream",
     "text": [
      "100%|█████████████████████████████████████████| 300/300 [01:39<00:00,  3.00it/s]\n"
     ]
    },
    {
     "name": "stdout",
     "output_type": "stream",
     "text": [
      "\n",
      "-Success Ratio : 72.0%\n",
      "-Average moving times : 30.25\n",
      "\n",
      " 24 start \n",
      "\n"
     ]
    },
    {
     "name": "stderr",
     "output_type": "stream",
     "text": [
      "100%|█████████████████████████████████████████| 300/300 [02:58<00:00,  1.68it/s]\n"
     ]
    },
    {
     "name": "stdout",
     "output_type": "stream",
     "text": [
      "\n",
      "-Success Ratio : 64.33333333333333%\n",
      "-Average moving times : 30.751295336787564\n",
      "\n",
      " 25 start \n",
      "\n"
     ]
    },
    {
     "name": "stderr",
     "output_type": "stream",
     "text": [
      "100%|█████████████████████████████████████████| 300/300 [06:16<00:00,  1.25s/it]\n"
     ]
    },
    {
     "name": "stdout",
     "output_type": "stream",
     "text": [
      "\n",
      "-Success Ratio : 67.66666666666667%\n",
      "-Average moving times : 30.79310344827586\n",
      "\n",
      " 26 start \n",
      "\n"
     ]
    },
    {
     "name": "stderr",
     "output_type": "stream",
     "text": [
      "100%|█████████████████████████████████████████| 300/300 [03:31<00:00,  1.42it/s]\n"
     ]
    },
    {
     "name": "stdout",
     "output_type": "stream",
     "text": [
      "\n",
      "-Success Ratio : 62.666666666666664%\n",
      "-Average moving times : 30.664893617021278\n",
      "\n",
      " 27 start \n",
      "\n"
     ]
    },
    {
     "name": "stderr",
     "output_type": "stream",
     "text": [
      "100%|█████████████████████████████████████████| 300/300 [03:55<00:00,  1.27it/s]\n"
     ]
    },
    {
     "name": "stdout",
     "output_type": "stream",
     "text": [
      "\n",
      "-Success Ratio : 61.0%\n",
      "-Average moving times : 30.781420765027324\n",
      "\n",
      " 28 start \n",
      "\n"
     ]
    },
    {
     "name": "stderr",
     "output_type": "stream",
     "text": [
      "100%|█████████████████████████████████████████| 300/300 [02:44<00:00,  1.82it/s]\n"
     ]
    },
    {
     "name": "stdout",
     "output_type": "stream",
     "text": [
      "\n",
      "-Success Ratio : 45.0%\n",
      "-Average moving times : 30.785185185185185\n",
      "\n",
      " 29 start \n",
      "\n"
     ]
    },
    {
     "name": "stderr",
     "output_type": "stream",
     "text": [
      "100%|█████████████████████████████████████████| 300/300 [03:04<00:00,  1.63it/s]\n"
     ]
    },
    {
     "name": "stdout",
     "output_type": "stream",
     "text": [
      "\n",
      "-Success Ratio : 43.0%\n",
      "-Average moving times : 30.74418604651163\n",
      "\n",
      " 30 start \n",
      "\n"
     ]
    },
    {
     "name": "stderr",
     "output_type": "stream",
     "text": [
      "100%|█████████████████████████████████████████| 300/300 [03:47<00:00,  1.32it/s]\n"
     ]
    },
    {
     "name": "stdout",
     "output_type": "stream",
     "text": [
      "\n",
      "-Success Ratio : 42.0%\n",
      "-Average moving times : 30.761904761904763\n",
      "\n",
      " 31 start \n",
      "\n"
     ]
    },
    {
     "name": "stderr",
     "output_type": "stream",
     "text": [
      "100%|█████████████████████████████████████████| 300/300 [03:54<00:00,  1.28it/s]\n"
     ]
    },
    {
     "name": "stdout",
     "output_type": "stream",
     "text": [
      "\n",
      "-Success Ratio : 42.666666666666664%\n",
      "-Average moving times : 30.734375\n",
      "\n",
      " 32 start \n",
      "\n"
     ]
    },
    {
     "name": "stderr",
     "output_type": "stream",
     "text": [
      "100%|█████████████████████████████████████████| 300/300 [04:29<00:00,  1.11it/s]\n"
     ]
    },
    {
     "name": "stdout",
     "output_type": "stream",
     "text": [
      "\n",
      "-Success Ratio : 83.33333333333333%\n",
      "-Average moving times : 45.4\n",
      "\n",
      " 33 start \n",
      "\n"
     ]
    },
    {
     "name": "stderr",
     "output_type": "stream",
     "text": [
      "100%|█████████████████████████████████████████| 300/300 [05:40<00:00,  1.14s/it]\n"
     ]
    },
    {
     "name": "stdout",
     "output_type": "stream",
     "text": [
      "\n",
      "-Success Ratio : 80.66666666666667%\n",
      "-Average moving times : 45.35123966942149\n",
      "\n",
      " 34 start \n",
      "\n"
     ]
    },
    {
     "name": "stderr",
     "output_type": "stream",
     "text": [
      "100%|█████████████████████████████████████████| 300/300 [04:38<00:00,  1.08it/s]\n"
     ]
    },
    {
     "name": "stdout",
     "output_type": "stream",
     "text": [
      "\n",
      "-Success Ratio : 84.66666666666667%\n",
      "-Average moving times : 45.425196850393704\n",
      "\n",
      " 35 start \n",
      "\n"
     ]
    },
    {
     "name": "stderr",
     "output_type": "stream",
     "text": [
      "100%|█████████████████████████████████████████| 300/300 [05:26<00:00,  1.09s/it]\n"
     ]
    },
    {
     "name": "stdout",
     "output_type": "stream",
     "text": [
      "\n",
      "-Success Ratio : 82.33333333333333%\n",
      "-Average moving times : 45.36842105263158\n",
      "\n",
      " 36 start \n",
      "\n"
     ]
    },
    {
     "name": "stderr",
     "output_type": "stream",
     "text": [
      "100%|█████████████████████████████████████████| 300/300 [04:26<00:00,  1.13it/s]\n"
     ]
    },
    {
     "name": "stdout",
     "output_type": "stream",
     "text": [
      "\n",
      "-Success Ratio : 72.33333333333333%\n",
      "-Average moving times : 45.38709677419355\n",
      "\n",
      " 37 start \n",
      "\n"
     ]
    },
    {
     "name": "stderr",
     "output_type": "stream",
     "text": [
      "100%|█████████████████████████████████████████| 300/300 [05:40<00:00,  1.14s/it]\n"
     ]
    },
    {
     "name": "stdout",
     "output_type": "stream",
     "text": [
      "\n",
      "-Success Ratio : 67.0%\n",
      "-Average moving times : 45.46268656716418\n",
      "\n",
      " 38 start \n",
      "\n"
     ]
    },
    {
     "name": "stderr",
     "output_type": "stream",
     "text": [
      "100%|███████████████████████████████████████| 300/300 [1:59:31<00:00, 23.90s/it]\n"
     ]
    },
    {
     "name": "stdout",
     "output_type": "stream",
     "text": [
      "\n",
      "-Success Ratio : 72.33333333333333%\n",
      "-Average moving times : 45.414746543778804\n",
      "\n",
      " 39 start \n",
      "\n"
     ]
    },
    {
     "name": "stderr",
     "output_type": "stream",
     "text": [
      "100%|█████████████████████████████████████| 300/300 [12:09:30<00:00, 145.90s/it]\n"
     ]
    },
    {
     "name": "stdout",
     "output_type": "stream",
     "text": [
      "\n",
      "-Success Ratio : 70.66666666666667%\n",
      "-Average moving times : 45.410377358490564\n",
      "\n",
      " 40 start \n",
      "\n"
     ]
    },
    {
     "name": "stderr",
     "output_type": "stream",
     "text": [
      "100%|█████████████████████████████████████████| 300/300 [14:39<00:00,  2.93s/it]\n"
     ]
    },
    {
     "name": "stdout",
     "output_type": "stream",
     "text": [
      "\n",
      "-Success Ratio : 57.0%\n",
      "-Average moving times : 46.134502923976605\n",
      "\n",
      " 41 start \n",
      "\n"
     ]
    },
    {
     "name": "stderr",
     "output_type": "stream",
     "text": [
      "100%|█████████████████████████████████████████| 300/300 [11:07<00:00,  2.22s/it]\n"
     ]
    },
    {
     "name": "stdout",
     "output_type": "stream",
     "text": [
      "\n",
      "-Success Ratio : 56.0%\n",
      "-Average moving times : 45.964285714285715\n",
      "\n",
      " 42 start \n",
      "\n"
     ]
    },
    {
     "name": "stderr",
     "output_type": "stream",
     "text": [
      "100%|█████████████████████████████████████████| 300/300 [13:40<00:00,  2.73s/it]\n"
     ]
    },
    {
     "name": "stdout",
     "output_type": "stream",
     "text": [
      "\n",
      "-Success Ratio : 59.333333333333336%\n",
      "-Average moving times : 46.1123595505618\n",
      "\n",
      " 43 start \n",
      "\n"
     ]
    },
    {
     "name": "stderr",
     "output_type": "stream",
     "text": [
      "100%|███████████████████████████████████████| 300/300 [1:05:16<00:00, 13.05s/it]\n"
     ]
    },
    {
     "name": "stdout",
     "output_type": "stream",
     "text": [
      "\n",
      "-Success Ratio : 57.0%\n",
      "-Average moving times : 46.175438596491226\n",
      "\n",
      " 44 start \n",
      "\n"
     ]
    },
    {
     "name": "stderr",
     "output_type": "stream",
     "text": [
      "100%|█████████████████████████████████████████| 300/300 [18:20<00:00,  3.67s/it]\n"
     ]
    },
    {
     "name": "stdout",
     "output_type": "stream",
     "text": [
      "\n",
      "-Success Ratio : 35.666666666666664%\n",
      "-Average moving times : 46.018691588785046\n",
      "\n",
      " 45 start \n",
      "\n"
     ]
    },
    {
     "name": "stderr",
     "output_type": "stream",
     "text": [
      "100%|█████████████████████████████████████████| 300/300 [11:51<00:00,  2.37s/it]\n"
     ]
    },
    {
     "name": "stdout",
     "output_type": "stream",
     "text": [
      "\n",
      "-Success Ratio : 30.0%\n",
      "-Average moving times : 45.94444444444444\n",
      "\n",
      " 46 start \n",
      "\n"
     ]
    },
    {
     "name": "stderr",
     "output_type": "stream",
     "text": [
      "100%|█████████████████████████████████████████| 300/300 [13:42<00:00,  2.74s/it]\n"
     ]
    },
    {
     "name": "stdout",
     "output_type": "stream",
     "text": [
      "\n",
      "-Success Ratio : 41.0%\n",
      "-Average moving times : 46.08130081300813\n",
      "\n",
      " 47 start \n",
      "\n"
     ]
    },
    {
     "name": "stderr",
     "output_type": "stream",
     "text": [
      "100%|█████████████████████████████████████████| 300/300 [18:46<00:00,  3.75s/it]"
     ]
    },
    {
     "name": "stdout",
     "output_type": "stream",
     "text": [
      "\n",
      "-Success Ratio : 26.0%\n",
      "-Average moving times : 45.98717948717949\n"
     ]
    },
    {
     "name": "stderr",
     "output_type": "stream",
     "text": [
      "\n"
     ]
    }
   ],
   "source": [
    "alpha=100\n",
    "beta=0.5\n",
    "\n",
    "pre_condition=f'step: {step}, smart: {smart}, alpha: {alpha}, beta: {beta}'\n",
    "print('\\n',pre_condition,'\\n')\n",
    "\n",
    "for idx,combination in enumerate(combinations):\n",
    "    print('\\n',idx,'start','\\n')\n",
    "    graph_size, obstacle_ratio, fixed_obstacle, move_chance, influence, detectability = combination\n",
    "    string=f'graph_size: {graph_size}, obstacle_ratio: {obstacle_ratio}, fixed_obs_ratio: {fixed_obstacle}, move_chance: {move_chance}, influence: {influence}, detectability: {detectability}'\n",
    "    succ,mov_num,time=iter_test(test_num=300, dimension_x=graph_size, dimension_y=graph_size, s_start='x0y0', s_goal=f'x{graph_size-1}y{graph_size-1}',\n",
    "              obstacle_ratio=obstacle_ratio, fixed_obs_ratio=fixed_obstacle, move_chance=move_chance, \n",
    "              step=step, smart=smart, influence=influence, detectability=detectability)\n",
    "    result_dict1[pre_condition+', '+string]=[succ,mov_num,time]\n",
    "\n",
    "# with open('/Users/sewoong/Desktop/ML/미래도전/step_1_smart_True_final.pkl','wb') as f:\n",
    "#     pickle.dump(result_dict,f)\n",
    "# print(pre_condition,'saved !')"
   ]
  },
  {
   "cell_type": "code",
   "execution_count": 72,
   "id": "7dc64c6b",
   "metadata": {},
   "outputs": [],
   "source": [
    "with open('/Users/sewoong/Desktop/ML/미래도전/alpha_100_step1True','wb') as f:\n",
    "    pickle.dump(result_dict1,f)\n",
    "    \n",
    "with open('/Users/sewoong/Desktop/ML/미래도전/alpha_100_step2True','wb') as f:\n",
    "    pickle.dump(result_dict2,f)"
   ]
  },
  {
   "cell_type": "code",
   "execution_count": 27,
   "id": "5ce005e0",
   "metadata": {},
   "outputs": [],
   "source": [
    "import pickle\n",
    "\n",
    "with open('/Users/sewoong/Desktop/ML/미래도전/succ_avgtime_1T','wb') as f:\n",
    "    pickle.dump(result_dict1,f)\n",
    "    \n",
    "with open('/Users/sewoong/Desktop/ML/미래도전/succ_avgtime_2T','wb') as f:\n",
    "    pickle.dump(result_dict2,f)\n",
    "    \n",
    "with open('/Users/sewoong/Desktop/ML/미래도전/succ_avgtime_1F','wb') as f:\n",
    "    pickle.dump(result_dict3,f)\n",
    "    \n",
    "with open('/Users/sewoong/Desktop/ML/미래도전/succ_avgtime_2F','wb') as f:\n",
    "    pickle.dump(result_dict4,f)"
   ]
  },
  {
   "cell_type": "code",
   "execution_count": 30,
   "id": "03553adf",
   "metadata": {},
   "outputs": [
    {
     "data": {
      "text/plain": [
       "'/Users/sewoong/Desktop/ML'"
      ]
     },
     "execution_count": 30,
     "metadata": {},
     "output_type": "execute_result"
    }
   ],
   "source": [
    "import os\n",
    "\n",
    "a = '/Users/sewoong/Desktop/ML'\n",
    "\n",
    "os.path.join(a)"
   ]
  },
  {
   "cell_type": "code",
   "execution_count": 49,
   "id": "582ef47b",
   "metadata": {},
   "outputs": [
    {
     "data": {
      "text/plain": [
       "0.38432971875828414"
      ]
     },
     "execution_count": 49,
     "metadata": {},
     "output_type": "execute_result"
    }
   ],
   "source": [
    "succ_time = 0\n",
    "count = 0\n",
    "for key,item in result_dict1.items():\n",
    "    if 'detectability: 10' in key:\n",
    "        #print(item)\n",
    "        count+=1\n",
    "        succ_time+=item[2]\n",
    "#     succ_time+=item[2]\n",
    "\n",
    "for key,item in result_dict2.items():\n",
    "    if 'detectability: 10' in key:\n",
    "        #print(item)\n",
    "        count+=1\n",
    "        succ_time+=item[2]\n",
    "#     succ_time+=item[2]\n",
    "    \n",
    "succ_time/(len(result_dict1)+len(result_dict2))\n",
    "succ_time/count"
   ]
  },
  {
   "cell_type": "code",
   "execution_count": 50,
   "id": "133e87e7",
   "metadata": {},
   "outputs": [
    {
     "data": {
      "text/plain": [
       "0.985066751356102"
      ]
     },
     "execution_count": 50,
     "metadata": {},
     "output_type": "execute_result"
    }
   ],
   "source": [
    "succ_time = 0\n",
    "count = 0\n",
    "for key,item in result_dict3.items():\n",
    "    #print(item)\n",
    "    succ_time+=item[2]\n",
    "\n",
    "for key,item in result_dict4.items():\n",
    "    #print(item)\n",
    "    succ_time+=item[2]\n",
    "    \n",
    "succ_time/(len(result_dict3)+len(result_dict4))"
   ]
  },
  {
   "cell_type": "code",
   "execution_count": 57,
   "id": "6744f0c2",
   "metadata": {},
   "outputs": [
    {
     "data": {
      "text/plain": [
       "0.4941766533828765"
      ]
     },
     "execution_count": 57,
     "metadata": {},
     "output_type": "execute_result"
    }
   ],
   "source": [
    "succ_time = 0\n",
    "count = 0\n",
    "for key,item in result_dict1.items():\n",
    "    if 'move_chance: 0.9' in key:\n",
    "        count+=1\n",
    "        succ_time+=item[2]\n",
    "        \n",
    "for key,item in result_dict2.items():\n",
    "    if 'move_chance: 0.9' in key:\n",
    "        count+=1\n",
    "        succ_time+=item[2]\n",
    "        \n",
    "for key,item in result_dict3.items():\n",
    "    if 'move_chance: 0.9' in key:\n",
    "        count+=1\n",
    "        succ_time+=item[2]\n",
    "\n",
    "for key,item in result_dict4.items():\n",
    "    if 'move_chance: 0.9' in key:\n",
    "        count+=1\n",
    "        succ_time+=item[2]\n",
    "    \n",
    "succ_time/count"
   ]
  },
  {
   "cell_type": "code",
   "execution_count": null,
   "id": "5b616945",
   "metadata": {},
   "outputs": [],
   "source": [
    "succ_time = 0\n",
    "count = 0\n",
    "for key,item in result_dict1.items():\n",
    "    if 'graph_size: 45' in key:\n",
    "        count+=1\n",
    "        succ_time+=item[2]\n",
    "        \n",
    "for key,item in result_dict2.items():\n",
    "    if 'graph_size: 45' in key:\n",
    "        count+=1\n",
    "        succ_time+=item[2]\n",
    "        \n",
    "for key,item in result_dict3.items():\n",
    "    if 'graph_size: 45' in key:\n",
    "        count+=1\n",
    "        succ_time+=item[2]\n",
    "\n",
    "for key,item in result_dict4.items():\n",
    "    if 'graph_size: 45' in key:\n",
    "        count+=1\n",
    "        succ_time+=item[2]\n",
    "    \n",
    "succ_time/count"
   ]
  },
  {
   "cell_type": "code",
   "execution_count": null,
   "id": "a47860f1",
   "metadata": {},
   "outputs": [],
   "source": [
    "alpha=20\n",
    "beta=0.5\n",
    "\n",
    "pre_condition=f'step: {step}, smart: {smart}, alpha: {alpha}, beta: {beta}'\n",
    "print('\\n',pre_condition,'\\n')\n",
    "\n",
    "for idx,combination in enumerate(combinations):\n",
    "    print('\\n',idx,'start','\\n')\n",
    "    graph_size, obstacle_ratio, fixed_obstacle, move_chance, influence, detectability = combination\n",
    "    string=f'graph_size: {graph_size}, obstacle_ratio: {obstacle_ratio}, fixed_obs_ratio: {fixed_obstacle}, move_chance: {move_chance}, influence: {influence}, detectability: {detectability}'\n",
    "    succ,mov_num,time=iter_test(test_num=100, dimension_x=graph_size, dimension_y=graph_size, s_start='x0y0', s_goal=f'x{graph_size-1}y{graph_size-1}',\n",
    "              obstacle_ratio=obstacle_ratio, fixed_obs_ratio=fixed_obstacle, move_chance=move_chance, \n",
    "              step=step, smart=smart, influence=influence, detectability=detectability)\n",
    "    result_dict2[pre_condition+', '+string]=[succ,mov_num,time]\n",
    "\n",
    "# with open('/Users/sewoong/Desktop/ML/미래도전/step_1_smart_True_final.pkl','wb') as f:\n",
    "#     pickle.dump(result_dict,f)\n",
    "# print(pre_condition,'saved !')"
   ]
  },
  {
   "cell_type": "code",
   "execution_count": 78,
   "id": "90a4417d",
   "metadata": {
    "scrolled": true
   },
   "outputs": [
    {
     "name": "stdout",
     "output_type": "stream",
     "text": [
      "\n",
      " step: 1, smart: True, alpha: 10, beta: 0.5 \n",
      "\n",
      "\n",
      " 0 start \n",
      "\n"
     ]
    },
    {
     "name": "stderr",
     "output_type": "stream",
     "text": [
      "100%|███████████████████████████████████████████| 300/300 [00:09<00:00, 32.41it/s]\n"
     ]
    },
    {
     "name": "stdout",
     "output_type": "stream",
     "text": [
      "\n",
      "-Success Ratio : 78.0%\n",
      "-Average moving times : 15.047008547008547\n",
      "\n",
      " 1 start \n",
      "\n"
     ]
    },
    {
     "name": "stderr",
     "output_type": "stream",
     "text": [
      "100%|███████████████████████████████████████████| 300/300 [00:09<00:00, 31.05it/s]\n"
     ]
    },
    {
     "name": "stdout",
     "output_type": "stream",
     "text": [
      "\n",
      "-Success Ratio : 77.33333333333333%\n",
      "-Average moving times : 15.077586206896552\n",
      "\n",
      " 2 start \n",
      "\n"
     ]
    },
    {
     "name": "stderr",
     "output_type": "stream",
     "text": [
      "100%|███████████████████████████████████████████| 300/300 [00:08<00:00, 33.35it/s]\n"
     ]
    },
    {
     "name": "stdout",
     "output_type": "stream",
     "text": [
      "\n",
      "-Success Ratio : 77.0%\n",
      "-Average moving times : 15.086580086580087\n",
      "\n",
      " 3 start \n",
      "\n"
     ]
    },
    {
     "name": "stderr",
     "output_type": "stream",
     "text": [
      "100%|███████████████████████████████████████████| 300/300 [00:11<00:00, 27.20it/s]\n"
     ]
    },
    {
     "name": "stdout",
     "output_type": "stream",
     "text": [
      "\n",
      "-Success Ratio : 76.66666666666667%\n",
      "-Average moving times : 15.056521739130435\n",
      "\n",
      " 4 start \n",
      "\n"
     ]
    },
    {
     "name": "stderr",
     "output_type": "stream",
     "text": [
      "100%|███████████████████████████████████████████| 300/300 [00:11<00:00, 26.77it/s]\n"
     ]
    },
    {
     "name": "stdout",
     "output_type": "stream",
     "text": [
      "\n",
      "-Success Ratio : 63.0%\n",
      "-Average moving times : 15.058201058201059\n",
      "\n",
      " 5 start \n",
      "\n"
     ]
    },
    {
     "name": "stderr",
     "output_type": "stream",
     "text": [
      "100%|███████████████████████████████████████████| 300/300 [00:10<00:00, 28.03it/s]\n"
     ]
    },
    {
     "name": "stdout",
     "output_type": "stream",
     "text": [
      "\n",
      "-Success Ratio : 55.666666666666664%\n",
      "-Average moving times : 15.071856287425149\n",
      "\n",
      " 6 start \n",
      "\n"
     ]
    },
    {
     "name": "stderr",
     "output_type": "stream",
     "text": [
      "100%|███████████████████████████████████████████| 300/300 [00:10<00:00, 27.85it/s]\n"
     ]
    },
    {
     "name": "stdout",
     "output_type": "stream",
     "text": [
      "\n",
      "-Success Ratio : 60.333333333333336%\n",
      "-Average moving times : 15.05524861878453\n",
      "\n",
      " 7 start \n",
      "\n"
     ]
    },
    {
     "name": "stderr",
     "output_type": "stream",
     "text": [
      "100%|███████████████████████████████████████████| 300/300 [00:11<00:00, 25.01it/s]\n"
     ]
    },
    {
     "name": "stdout",
     "output_type": "stream",
     "text": [
      "\n",
      "-Success Ratio : 58.666666666666664%\n",
      "-Average moving times : 15.068181818181818\n",
      "\n",
      " 8 start \n",
      "\n"
     ]
    },
    {
     "name": "stderr",
     "output_type": "stream",
     "text": [
      "100%|███████████████████████████████████████████| 300/300 [00:13<00:00, 22.66it/s]\n"
     ]
    },
    {
     "name": "stdout",
     "output_type": "stream",
     "text": [
      "\n",
      "-Success Ratio : 73.66666666666667%\n",
      "-Average moving times : 15.289592760180996\n",
      "\n",
      " 9 start \n",
      "\n"
     ]
    },
    {
     "name": "stderr",
     "output_type": "stream",
     "text": [
      "100%|███████████████████████████████████████████| 300/300 [00:12<00:00, 24.61it/s]\n"
     ]
    },
    {
     "name": "stdout",
     "output_type": "stream",
     "text": [
      "\n",
      "-Success Ratio : 74.33333333333333%\n",
      "-Average moving times : 15.282511210762332\n",
      "\n",
      " 10 start \n",
      "\n"
     ]
    },
    {
     "name": "stderr",
     "output_type": "stream",
     "text": [
      "100%|███████████████████████████████████████████| 300/300 [00:14<00:00, 20.29it/s]\n"
     ]
    },
    {
     "name": "stdout",
     "output_type": "stream",
     "text": [
      "\n",
      "-Success Ratio : 81.0%\n",
      "-Average moving times : 15.378600823045268\n",
      "\n",
      " 11 start \n",
      "\n"
     ]
    },
    {
     "name": "stderr",
     "output_type": "stream",
     "text": [
      "100%|███████████████████████████████████████████| 300/300 [00:14<00:00, 20.68it/s]\n"
     ]
    },
    {
     "name": "stdout",
     "output_type": "stream",
     "text": [
      "\n",
      "-Success Ratio : 74.66666666666667%\n",
      "-Average moving times : 15.352678571428571\n",
      "\n",
      " 12 start \n",
      "\n"
     ]
    },
    {
     "name": "stderr",
     "output_type": "stream",
     "text": [
      "100%|███████████████████████████████████████████| 300/300 [00:12<00:00, 23.45it/s]\n"
     ]
    },
    {
     "name": "stdout",
     "output_type": "stream",
     "text": [
      "\n",
      "-Success Ratio : 64.66666666666667%\n",
      "-Average moving times : 15.304123711340207\n",
      "\n",
      " 13 start \n",
      "\n"
     ]
    },
    {
     "name": "stderr",
     "output_type": "stream",
     "text": [
      "100%|███████████████████████████████████████████| 300/300 [00:13<00:00, 22.11it/s]\n"
     ]
    },
    {
     "name": "stdout",
     "output_type": "stream",
     "text": [
      "\n",
      "-Success Ratio : 54.333333333333336%\n",
      "-Average moving times : 15.257668711656441\n",
      "\n",
      " 14 start \n",
      "\n"
     ]
    },
    {
     "name": "stderr",
     "output_type": "stream",
     "text": [
      "100%|███████████████████████████████████████████| 300/300 [00:13<00:00, 22.03it/s]\n"
     ]
    },
    {
     "name": "stdout",
     "output_type": "stream",
     "text": [
      "\n",
      "-Success Ratio : 62.666666666666664%\n",
      "-Average moving times : 15.26063829787234\n",
      "\n",
      " 15 start \n",
      "\n"
     ]
    },
    {
     "name": "stderr",
     "output_type": "stream",
     "text": [
      "100%|███████████████████████████████████████████| 300/300 [00:14<00:00, 20.05it/s]\n"
     ]
    },
    {
     "name": "stdout",
     "output_type": "stream",
     "text": [
      "\n",
      "-Success Ratio : 56.666666666666664%\n",
      "-Average moving times : 15.223529411764705\n",
      "\n",
      " 16 start \n",
      "\n"
     ]
    },
    {
     "name": "stderr",
     "output_type": "stream",
     "text": [
      "100%|███████████████████████████████████████████| 300/300 [00:39<00:00,  7.68it/s]\n"
     ]
    },
    {
     "name": "stdout",
     "output_type": "stream",
     "text": [
      "\n",
      "-Success Ratio : 84.33333333333333%\n",
      "-Average moving times : 30.209486166007906\n",
      "\n",
      " 17 start \n",
      "\n"
     ]
    },
    {
     "name": "stderr",
     "output_type": "stream",
     "text": [
      "100%|███████████████████████████████████████████| 300/300 [00:43<00:00,  6.88it/s]\n"
     ]
    },
    {
     "name": "stdout",
     "output_type": "stream",
     "text": [
      "\n",
      "-Success Ratio : 86.66666666666667%\n",
      "-Average moving times : 30.307692307692307\n",
      "\n",
      " 18 start \n",
      "\n"
     ]
    },
    {
     "name": "stderr",
     "output_type": "stream",
     "text": [
      "100%|███████████████████████████████████████████| 300/300 [00:48<00:00,  6.21it/s]\n"
     ]
    },
    {
     "name": "stdout",
     "output_type": "stream",
     "text": [
      "\n",
      "-Success Ratio : 86.0%\n",
      "-Average moving times : 30.217054263565892\n",
      "\n",
      " 19 start \n",
      "\n"
     ]
    },
    {
     "name": "stderr",
     "output_type": "stream",
     "text": [
      "100%|███████████████████████████████████████████| 300/300 [00:50<00:00,  5.97it/s]\n"
     ]
    },
    {
     "name": "stdout",
     "output_type": "stream",
     "text": [
      "\n",
      "-Success Ratio : 89.0%\n",
      "-Average moving times : 30.239700374531836\n",
      "\n",
      " 20 start \n",
      "\n"
     ]
    },
    {
     "name": "stderr",
     "output_type": "stream",
     "text": [
      "100%|███████████████████████████████████████████| 300/300 [00:41<00:00,  7.27it/s]\n"
     ]
    },
    {
     "name": "stdout",
     "output_type": "stream",
     "text": [
      "\n",
      "-Success Ratio : 83.0%\n",
      "-Average moving times : 30.20883534136546\n",
      "\n",
      " 21 start \n",
      "\n"
     ]
    },
    {
     "name": "stderr",
     "output_type": "stream",
     "text": [
      "100%|███████████████████████████████████████████| 300/300 [00:48<00:00,  6.14it/s]\n"
     ]
    },
    {
     "name": "stdout",
     "output_type": "stream",
     "text": [
      "\n",
      "-Success Ratio : 69.0%\n",
      "-Average moving times : 30.18840579710145\n",
      "\n",
      " 22 start \n",
      "\n"
     ]
    },
    {
     "name": "stderr",
     "output_type": "stream",
     "text": [
      "100%|███████████████████████████████████████████| 300/300 [00:43<00:00,  6.92it/s]\n"
     ]
    },
    {
     "name": "stdout",
     "output_type": "stream",
     "text": [
      "\n",
      "-Success Ratio : 78.66666666666667%\n",
      "-Average moving times : 30.271186440677965\n",
      "\n",
      " 23 start \n",
      "\n"
     ]
    },
    {
     "name": "stderr",
     "output_type": "stream",
     "text": [
      "100%|███████████████████████████████████████████| 300/300 [00:54<00:00,  5.53it/s]\n"
     ]
    },
    {
     "name": "stdout",
     "output_type": "stream",
     "text": [
      "\n",
      "-Success Ratio : 76.33333333333333%\n",
      "-Average moving times : 30.283842794759824\n",
      "\n",
      " 24 start \n",
      "\n"
     ]
    },
    {
     "name": "stderr",
     "output_type": "stream",
     "text": [
      "100%|███████████████████████████████████████████| 300/300 [01:24<00:00,  3.55it/s]\n"
     ]
    },
    {
     "name": "stdout",
     "output_type": "stream",
     "text": [
      "\n",
      "-Success Ratio : 65.33333333333333%\n",
      "-Average moving times : 30.683673469387756\n",
      "\n",
      " 25 start \n",
      "\n"
     ]
    },
    {
     "name": "stderr",
     "output_type": "stream",
     "text": [
      "100%|███████████████████████████████████████████| 300/300 [01:31<00:00,  3.28it/s]\n"
     ]
    },
    {
     "name": "stdout",
     "output_type": "stream",
     "text": [
      "\n",
      "-Success Ratio : 59.333333333333336%\n",
      "-Average moving times : 30.668539325842698\n",
      "\n",
      " 26 start \n",
      "\n"
     ]
    },
    {
     "name": "stderr",
     "output_type": "stream",
     "text": [
      "100%|███████████████████████████████████████████| 300/300 [01:34<00:00,  3.16it/s]\n"
     ]
    },
    {
     "name": "stdout",
     "output_type": "stream",
     "text": [
      "\n",
      "-Success Ratio : 62.666666666666664%\n",
      "-Average moving times : 30.76595744680851\n",
      "\n",
      " 27 start \n",
      "\n"
     ]
    },
    {
     "name": "stderr",
     "output_type": "stream",
     "text": [
      "100%|███████████████████████████████████████████| 300/300 [01:51<00:00,  2.69it/s]\n"
     ]
    },
    {
     "name": "stdout",
     "output_type": "stream",
     "text": [
      "\n",
      "-Success Ratio : 57.666666666666664%\n",
      "-Average moving times : 30.710982658959537\n",
      "\n",
      " 28 start \n",
      "\n"
     ]
    },
    {
     "name": "stderr",
     "output_type": "stream",
     "text": [
      "100%|███████████████████████████████████████████| 300/300 [01:26<00:00,  3.49it/s]\n"
     ]
    },
    {
     "name": "stdout",
     "output_type": "stream",
     "text": [
      "\n",
      "-Success Ratio : 46.0%\n",
      "-Average moving times : 30.731884057971016\n",
      "\n",
      " 29 start \n",
      "\n"
     ]
    },
    {
     "name": "stderr",
     "output_type": "stream",
     "text": [
      "100%|███████████████████████████████████████████| 300/300 [01:38<00:00,  3.04it/s]\n"
     ]
    },
    {
     "name": "stdout",
     "output_type": "stream",
     "text": [
      "\n",
      "-Success Ratio : 44.333333333333336%\n",
      "-Average moving times : 30.68421052631579\n",
      "\n",
      " 30 start \n",
      "\n"
     ]
    },
    {
     "name": "stderr",
     "output_type": "stream",
     "text": [
      "100%|███████████████████████████████████████████| 300/300 [01:43<00:00,  2.91it/s]\n"
     ]
    },
    {
     "name": "stdout",
     "output_type": "stream",
     "text": [
      "\n",
      "-Success Ratio : 49.0%\n",
      "-Average moving times : 30.761904761904763\n",
      "\n",
      " 31 start \n",
      "\n"
     ]
    },
    {
     "name": "stderr",
     "output_type": "stream",
     "text": [
      "100%|███████████████████████████████████████████| 300/300 [01:53<00:00,  2.65it/s]\n"
     ]
    },
    {
     "name": "stdout",
     "output_type": "stream",
     "text": [
      "\n",
      "-Success Ratio : 46.666666666666664%\n",
      "-Average moving times : 30.771428571428572\n",
      "\n",
      " 32 start \n",
      "\n"
     ]
    },
    {
     "name": "stderr",
     "output_type": "stream",
     "text": [
      "100%|███████████████████████████████████████████| 300/300 [02:10<00:00,  2.30it/s]\n"
     ]
    },
    {
     "name": "stdout",
     "output_type": "stream",
     "text": [
      "\n",
      "-Success Ratio : 86.33333333333333%\n",
      "-Average moving times : 45.42084942084942\n",
      "\n",
      " 33 start \n",
      "\n"
     ]
    },
    {
     "name": "stderr",
     "output_type": "stream",
     "text": [
      "100%|███████████████████████████████████████████| 300/300 [02:06<00:00,  2.37it/s]\n"
     ]
    },
    {
     "name": "stdout",
     "output_type": "stream",
     "text": [
      "\n",
      "-Success Ratio : 84.0%\n",
      "-Average moving times : 45.34920634920635\n",
      "\n",
      " 34 start \n",
      "\n"
     ]
    },
    {
     "name": "stderr",
     "output_type": "stream",
     "text": [
      "100%|███████████████████████████████████████████| 300/300 [02:47<00:00,  1.79it/s]\n"
     ]
    },
    {
     "name": "stdout",
     "output_type": "stream",
     "text": [
      "\n",
      "-Success Ratio : 81.66666666666667%\n",
      "-Average moving times : 45.36326530612245\n",
      "\n",
      " 35 start \n",
      "\n"
     ]
    },
    {
     "name": "stderr",
     "output_type": "stream",
     "text": [
      "100%|███████████████████████████████████████████| 300/300 [02:39<00:00,  1.88it/s]\n"
     ]
    },
    {
     "name": "stdout",
     "output_type": "stream",
     "text": [
      "\n",
      "-Success Ratio : 78.66666666666667%\n",
      "-Average moving times : 45.360169491525426\n",
      "\n",
      " 36 start \n",
      "\n"
     ]
    },
    {
     "name": "stderr",
     "output_type": "stream",
     "text": [
      "100%|███████████████████████████████████████████| 300/300 [02:05<00:00,  2.39it/s]\n"
     ]
    },
    {
     "name": "stdout",
     "output_type": "stream",
     "text": [
      "\n",
      "-Success Ratio : 72.33333333333333%\n",
      "-Average moving times : 45.3778801843318\n",
      "\n",
      " 37 start \n",
      "\n"
     ]
    },
    {
     "name": "stderr",
     "output_type": "stream",
     "text": [
      "100%|███████████████████████████████████████████| 300/300 [02:19<00:00,  2.15it/s]\n"
     ]
    },
    {
     "name": "stdout",
     "output_type": "stream",
     "text": [
      "\n",
      "-Success Ratio : 68.66666666666667%\n",
      "-Average moving times : 45.36407766990291\n",
      "\n",
      " 38 start \n",
      "\n"
     ]
    },
    {
     "name": "stderr",
     "output_type": "stream",
     "text": [
      "100%|███████████████████████████████████████████| 300/300 [02:30<00:00,  1.99it/s]\n"
     ]
    },
    {
     "name": "stdout",
     "output_type": "stream",
     "text": [
      "\n",
      "-Success Ratio : 69.66666666666667%\n",
      "-Average moving times : 45.354066985645936\n",
      "\n",
      " 39 start \n",
      "\n"
     ]
    },
    {
     "name": "stderr",
     "output_type": "stream",
     "text": [
      "100%|███████████████████████████████████████████| 300/300 [02:31<00:00,  1.98it/s]\n"
     ]
    },
    {
     "name": "stdout",
     "output_type": "stream",
     "text": [
      "\n",
      "-Success Ratio : 70.33333333333333%\n",
      "-Average moving times : 45.37914691943128\n",
      "\n",
      " 40 start \n",
      "\n"
     ]
    },
    {
     "name": "stderr",
     "output_type": "stream",
     "text": [
      "100%|███████████████████████████████████████████| 300/300 [04:44<00:00,  1.05it/s]\n"
     ]
    },
    {
     "name": "stdout",
     "output_type": "stream",
     "text": [
      "\n",
      "-Success Ratio : 59.666666666666664%\n",
      "-Average moving times : 46.11731843575419\n",
      "\n",
      " 41 start \n",
      "\n"
     ]
    },
    {
     "name": "stderr",
     "output_type": "stream",
     "text": [
      "100%|███████████████████████████████████████████| 300/300 [05:08<00:00,  1.03s/it]\n"
     ]
    },
    {
     "name": "stdout",
     "output_type": "stream",
     "text": [
      "\n",
      "-Success Ratio : 50.0%\n",
      "-Average moving times : 46.14\n",
      "\n",
      " 42 start \n",
      "\n"
     ]
    },
    {
     "name": "stderr",
     "output_type": "stream",
     "text": [
      "100%|███████████████████████████████████████████| 300/300 [05:08<00:00,  1.03s/it]\n"
     ]
    },
    {
     "name": "stdout",
     "output_type": "stream",
     "text": [
      "\n",
      "-Success Ratio : 58.0%\n",
      "-Average moving times : 46.09770114942529\n",
      "\n",
      " 43 start \n",
      "\n"
     ]
    },
    {
     "name": "stderr",
     "output_type": "stream",
     "text": [
      "100%|███████████████████████████████████████████| 300/300 [05:49<00:00,  1.17s/it]\n"
     ]
    },
    {
     "name": "stdout",
     "output_type": "stream",
     "text": [
      "\n",
      "-Success Ratio : 53.666666666666664%\n",
      "-Average moving times : 46.15527950310559\n",
      "\n",
      " 44 start \n",
      "\n"
     ]
    },
    {
     "name": "stderr",
     "output_type": "stream",
     "text": [
      "100%|███████████████████████████████████████████| 300/300 [04:43<00:00,  1.06it/s]\n"
     ]
    },
    {
     "name": "stdout",
     "output_type": "stream",
     "text": [
      "\n",
      "-Success Ratio : 37.333333333333336%\n",
      "-Average moving times : 46.125\n",
      "\n",
      " 45 start \n",
      "\n"
     ]
    },
    {
     "name": "stderr",
     "output_type": "stream",
     "text": [
      "100%|███████████████████████████████████████████| 300/300 [04:44<00:00,  1.06it/s]\n"
     ]
    },
    {
     "name": "stdout",
     "output_type": "stream",
     "text": [
      "\n",
      "-Success Ratio : 30.333333333333332%\n",
      "-Average moving times : 45.989010989010985\n",
      "\n",
      " 46 start \n",
      "\n"
     ]
    },
    {
     "name": "stderr",
     "output_type": "stream",
     "text": [
      "100%|███████████████████████████████████████████| 300/300 [05:40<00:00,  1.14s/it]\n"
     ]
    },
    {
     "name": "stdout",
     "output_type": "stream",
     "text": [
      "\n",
      "-Success Ratio : 43.666666666666664%\n",
      "-Average moving times : 46.06870229007634\n",
      "\n",
      " 47 start \n",
      "\n"
     ]
    },
    {
     "name": "stderr",
     "output_type": "stream",
     "text": [
      "100%|███████████████████████████████████████████| 300/300 [05:54<00:00,  1.18s/it]"
     ]
    },
    {
     "name": "stdout",
     "output_type": "stream",
     "text": [
      "\n",
      "-Success Ratio : 32.0%\n",
      "-Average moving times : 46.020833333333336\n",
      "step: 1, smart: True, alpha: 10, beta: 0.5 saved !\n"
     ]
    },
    {
     "name": "stderr",
     "output_type": "stream",
     "text": [
      "\n"
     ]
    }
   ],
   "source": [
    "alpha=10\n",
    "beta=0.5\n",
    "\n",
    "pre_condition=f'step: {step}, smart: {smart}, alpha: {alpha}, beta: {beta}'\n",
    "print('\\n',pre_condition,'\\n')\n",
    "\n",
    "for idx,combination in enumerate(combinations):\n",
    "    print('\\n',idx,'start','\\n')\n",
    "    graph_size, obstacle_ratio, fixed_obstacle, move_chance, influence, detectability = combination\n",
    "    string=f'graph_size: {graph_size}, obstacle_ratio: {obstacle_ratio}, fixed_obs_ratio: {fixed_obstacle}, move_chance: {move_chance}, influence: {influence}, detectability: {detectability}'\n",
    "    succ,mov_num,time=iter_test(test_num=300, dimension_x=graph_size, dimension_y=graph_size, s_start='x0y0', s_goal=f'x{graph_size-1}y{graph_size-1}',\n",
    "              obstacle_ratio=obstacle_ratio, fixed_obs_ratio=fixed_obstacle, move_chance=move_chance, \n",
    "              step=step, smart=smart, influence=influence, detectability=detectability)\n",
    "    result_dict[pre_condition+', '+string]=[succ,mov_num,time]\n",
    "\n",
    "with open('/Users/sewoong/Desktop/ML/미래도전/step_1_smart_True_final.pkl','wb') as f:\n",
    "    pickle.dump(result_dict,f)\n",
    "print(pre_condition,'saved !')"
   ]
  },
  {
   "cell_type": "code",
   "execution_count": 59,
   "id": "398e95aa",
   "metadata": {
    "scrolled": true
   },
   "outputs": [
    {
     "name": "stdout",
     "output_type": "stream",
     "text": [
      "\n",
      " step: 2, smart: False, alpha: 15, beta: 3 \n",
      "\n",
      "\n",
      " 0 start \n",
      "\n"
     ]
    },
    {
     "name": "stderr",
     "output_type": "stream",
     "text": [
      "100%|█████████████████████████████████████████| 300/300 [00:21<00:00, 14.11it/s]\n"
     ]
    },
    {
     "name": "stdout",
     "output_type": "stream",
     "text": [
      "\n",
      "-Success Ratio : 95.66666666666667%\n",
      "-Average moving times : 15.759581881533101\n",
      "\n",
      " 1 start \n",
      "\n"
     ]
    },
    {
     "name": "stderr",
     "output_type": "stream",
     "text": [
      "100%|█████████████████████████████████████████| 300/300 [00:23<00:00, 12.91it/s]\n"
     ]
    },
    {
     "name": "stdout",
     "output_type": "stream",
     "text": [
      "\n",
      "-Success Ratio : 98.0%\n",
      "-Average moving times : 15.82312925170068\n",
      "\n",
      " 2 start \n",
      "\n"
     ]
    },
    {
     "name": "stderr",
     "output_type": "stream",
     "text": [
      "100%|█████████████████████████████████████████| 300/300 [00:20<00:00, 14.99it/s]\n"
     ]
    },
    {
     "name": "stdout",
     "output_type": "stream",
     "text": [
      "\n",
      "-Success Ratio : 94.33333333333333%\n",
      "-Average moving times : 15.897526501766784\n",
      "\n",
      " 3 start \n",
      "\n"
     ]
    },
    {
     "name": "stderr",
     "output_type": "stream",
     "text": [
      "100%|█████████████████████████████████████████| 300/300 [00:22<00:00, 13.08it/s]\n"
     ]
    },
    {
     "name": "stdout",
     "output_type": "stream",
     "text": [
      "\n",
      "-Success Ratio : 94.66666666666667%\n",
      "-Average moving times : 15.855633802816902\n",
      "\n",
      " 4 start \n",
      "\n"
     ]
    },
    {
     "name": "stderr",
     "output_type": "stream",
     "text": [
      "100%|█████████████████████████████████████████| 300/300 [00:22<00:00, 13.32it/s]\n"
     ]
    },
    {
     "name": "stdout",
     "output_type": "stream",
     "text": [
      "\n",
      "-Success Ratio : 95.33333333333333%\n",
      "-Average moving times : 16.027972027972027\n",
      "\n",
      " 5 start \n",
      "\n"
     ]
    },
    {
     "name": "stderr",
     "output_type": "stream",
     "text": [
      "100%|█████████████████████████████████████████| 300/300 [00:29<00:00, 10.33it/s]\n"
     ]
    },
    {
     "name": "stdout",
     "output_type": "stream",
     "text": [
      "\n",
      "-Success Ratio : 94.66666666666667%\n",
      "-Average moving times : 20.095070422535212\n",
      "\n",
      " 6 start \n",
      "\n"
     ]
    },
    {
     "name": "stderr",
     "output_type": "stream",
     "text": [
      "100%|█████████████████████████████████████████| 300/300 [00:22<00:00, 13.26it/s]\n"
     ]
    },
    {
     "name": "stdout",
     "output_type": "stream",
     "text": [
      "\n",
      "-Success Ratio : 94.66666666666667%\n",
      "-Average moving times : 16.359154929577464\n",
      "\n",
      " 7 start \n",
      "\n"
     ]
    },
    {
     "name": "stderr",
     "output_type": "stream",
     "text": [
      "100%|█████████████████████████████████████████| 300/300 [00:26<00:00, 11.17it/s]\n"
     ]
    },
    {
     "name": "stdout",
     "output_type": "stream",
     "text": [
      "\n",
      "-Success Ratio : 94.0%\n",
      "-Average moving times : 16.0177304964539\n",
      "\n",
      " 8 start \n",
      "\n"
     ]
    },
    {
     "name": "stderr",
     "output_type": "stream",
     "text": [
      "100%|█████████████████████████████████████████| 300/300 [01:38<00:00,  3.04it/s]\n"
     ]
    },
    {
     "name": "stdout",
     "output_type": "stream",
     "text": [
      "\n",
      "-Success Ratio : 97.0%\n",
      "-Average moving times : 31.10996563573883\n",
      "\n",
      " 9 start \n",
      "\n"
     ]
    },
    {
     "name": "stderr",
     "output_type": "stream",
     "text": [
      "100%|█████████████████████████████████████████| 300/300 [02:05<00:00,  2.38it/s]\n"
     ]
    },
    {
     "name": "stdout",
     "output_type": "stream",
     "text": [
      "\n",
      "-Success Ratio : 98.33333333333333%\n",
      "-Average moving times : 30.989830508474576\n",
      "\n",
      " 10 start \n",
      "\n"
     ]
    },
    {
     "name": "stderr",
     "output_type": "stream",
     "text": [
      "100%|█████████████████████████████████████████| 300/300 [01:56<00:00,  2.58it/s]\n"
     ]
    },
    {
     "name": "stdout",
     "output_type": "stream",
     "text": [
      "\n",
      "-Success Ratio : 94.33333333333333%\n",
      "-Average moving times : 31.091872791519435\n",
      "\n",
      " 11 start \n",
      "\n"
     ]
    },
    {
     "name": "stderr",
     "output_type": "stream",
     "text": [
      "100%|█████████████████████████████████████████| 300/300 [02:12<00:00,  2.26it/s]\n"
     ]
    },
    {
     "name": "stdout",
     "output_type": "stream",
     "text": [
      "\n",
      "-Success Ratio : 96.66666666666667%\n",
      "-Average moving times : 32.86896551724138\n",
      "\n",
      " 12 start \n",
      "\n"
     ]
    },
    {
     "name": "stderr",
     "output_type": "stream",
     "text": [
      "100%|█████████████████████████████████████████| 300/300 [02:43<00:00,  1.83it/s]\n"
     ]
    },
    {
     "name": "stdout",
     "output_type": "stream",
     "text": [
      "\n",
      "-Success Ratio : 95.33333333333333%\n",
      "-Average moving times : 34.15384615384615\n",
      "\n",
      " 13 start \n",
      "\n"
     ]
    },
    {
     "name": "stderr",
     "output_type": "stream",
     "text": [
      "100%|█████████████████████████████████████████| 300/300 [03:19<00:00,  1.50it/s]\n"
     ]
    },
    {
     "name": "stdout",
     "output_type": "stream",
     "text": [
      "\n",
      "-Success Ratio : 96.0%\n",
      "-Average moving times : 31.663194444444443\n",
      "\n",
      " 14 start \n",
      "\n"
     ]
    },
    {
     "name": "stderr",
     "output_type": "stream",
     "text": [
      "100%|█████████████████████████████████████████| 300/300 [02:45<00:00,  1.81it/s]\n"
     ]
    },
    {
     "name": "stdout",
     "output_type": "stream",
     "text": [
      "\n",
      "-Success Ratio : 92.0%\n",
      "-Average moving times : 32.89855072463768\n",
      "\n",
      " 15 start \n",
      "\n"
     ]
    },
    {
     "name": "stderr",
     "output_type": "stream",
     "text": [
      "100%|█████████████████████████████████████████| 300/300 [03:23<00:00,  1.47it/s]\n"
     ]
    },
    {
     "name": "stdout",
     "output_type": "stream",
     "text": [
      "\n",
      "-Success Ratio : 92.0%\n",
      "-Average moving times : 31.963768115942027\n",
      "\n",
      " 16 start \n",
      "\n"
     ]
    },
    {
     "name": "stderr",
     "output_type": "stream",
     "text": [
      "100%|█████████████████████████████████████████| 300/300 [05:00<00:00,  1.00s/it]\n"
     ]
    },
    {
     "name": "stdout",
     "output_type": "stream",
     "text": [
      "\n",
      "-Success Ratio : 97.33333333333333%\n",
      "-Average moving times : 46.20205479452055\n",
      "\n",
      " 17 start \n",
      "\n"
     ]
    },
    {
     "name": "stderr",
     "output_type": "stream",
     "text": [
      "100%|█████████████████████████████████████████| 300/300 [06:22<00:00,  1.27s/it]\n"
     ]
    },
    {
     "name": "stdout",
     "output_type": "stream",
     "text": [
      "\n",
      "-Success Ratio : 97.33333333333333%\n",
      "-Average moving times : 46.1986301369863\n",
      "\n",
      " 18 start \n",
      "\n"
     ]
    },
    {
     "name": "stderr",
     "output_type": "stream",
     "text": [
      " 75%|██████████████████████████████▉          | 226/300 [04:12<01:07,  1.10it/s]"
     ]
    }
   ],
   "source": [
    "alpha=15\n",
    "beta=3\n",
    "\n",
    "pre_condition=f'step: {step}, smart: {smart}, alpha: {alpha}, beta: {beta}'\n",
    "print('\\n',pre_condition,'\\n')\n",
    "\n",
    "for idx,combination in enumerate(combinations):\n",
    "    print('\\n',idx,'start','\\n')\n",
    "    graph_size, obstacle_ratio, fixed_obstacle, move_chance, influence = combination\n",
    "    string=f'graph_size: {graph_size}, obstacle_ratio: {obstacle_ratio}, fixed_obs_ratio: {fixed_obstacle}, move_chance: {move_chance}, influence: {influence}, detectability: {1}'\n",
    "    succ,mov_num,time=iter_test(test_num=300, dimension_x=graph_size, dimension_y=graph_size, s_start='x0y0', s_goal=f'x{graph_size-1}y{graph_size-1}',\n",
    "              obstacle_ratio=obstacle_ratio, fixed_obs_ratio=fixed_obstacle, move_chance=move_chance, \n",
    "              step=step, smart=smart, influence=influence, detectability=1)\n",
    "    result_dict[pre_condition+', '+string]=[succ,mov_num,time]\n",
    "\n",
    "with open('/Users/sewoong/Desktop/ML/미래도전/step_2_smart_False_final.pkl','wb') as f:\n",
    "    pickle.dump(result_dict,f)\n",
    "print(pre_condition,'saved !')"
   ]
  },
  {
   "cell_type": "code",
   "execution_count": 22,
   "id": "55766f3f",
   "metadata": {
    "scrolled": true
   },
   "outputs": [
    {
     "name": "stdout",
     "output_type": "stream",
     "text": [
      "\n",
      " step: 2, smart: False, alpha: 12, beta: 5 \n",
      "\n",
      "\n",
      " 0 start \n",
      "\n"
     ]
    },
    {
     "name": "stderr",
     "output_type": "stream",
     "text": [
      "100%|█████████████████████████████████████████| 300/300 [00:30<00:00,  9.69it/s]\n"
     ]
    },
    {
     "name": "stdout",
     "output_type": "stream",
     "text": [
      "\n",
      "-Success Ratio : 96.66666666666667%\n",
      "-Average moving times : 19.989655172413794\n",
      "\n",
      " 1 start \n",
      "\n"
     ]
    },
    {
     "name": "stderr",
     "output_type": "stream",
     "text": [
      "100%|█████████████████████████████████████████| 300/300 [00:32<00:00,  9.20it/s]\n"
     ]
    },
    {
     "name": "stdout",
     "output_type": "stream",
     "text": [
      "\n",
      "-Success Ratio : 96.66666666666667%\n",
      "-Average moving times : 16.182758620689654\n",
      "\n",
      " 2 start \n",
      "\n"
     ]
    },
    {
     "name": "stderr",
     "output_type": "stream",
     "text": [
      "100%|█████████████████████████████████████████| 300/300 [00:30<00:00,  9.93it/s]\n"
     ]
    },
    {
     "name": "stdout",
     "output_type": "stream",
     "text": [
      "\n",
      "-Success Ratio : 94.33333333333333%\n",
      "-Average moving times : 17.975265017667844\n",
      "\n",
      " 3 start \n",
      "\n"
     ]
    },
    {
     "name": "stderr",
     "output_type": "stream",
     "text": [
      "100%|█████████████████████████████████████████| 300/300 [00:33<00:00,  8.90it/s]\n"
     ]
    },
    {
     "name": "stdout",
     "output_type": "stream",
     "text": [
      "\n",
      "-Success Ratio : 94.0%\n",
      "-Average moving times : 16.20921985815603\n",
      "\n",
      " 4 start \n",
      "\n"
     ]
    },
    {
     "name": "stderr",
     "output_type": "stream",
     "text": [
      "100%|█████████████████████████████████████████| 300/300 [00:42<00:00,  7.12it/s]\n"
     ]
    },
    {
     "name": "stdout",
     "output_type": "stream",
     "text": [
      "\n",
      "-Success Ratio : 92.66666666666667%\n",
      "-Average moving times : 21.26618705035971\n",
      "\n",
      " 5 start \n",
      "\n"
     ]
    },
    {
     "name": "stderr",
     "output_type": "stream",
     "text": [
      "100%|█████████████████████████████████████████| 300/300 [00:48<00:00,  6.14it/s]\n"
     ]
    },
    {
     "name": "stdout",
     "output_type": "stream",
     "text": [
      "\n",
      "-Success Ratio : 93.66666666666667%\n",
      "-Average moving times : 17.569395017793596\n",
      "\n",
      " 6 start \n",
      "\n"
     ]
    },
    {
     "name": "stderr",
     "output_type": "stream",
     "text": [
      "100%|█████████████████████████████████████████| 300/300 [00:41<00:00,  7.23it/s]\n"
     ]
    },
    {
     "name": "stdout",
     "output_type": "stream",
     "text": [
      "\n",
      "-Success Ratio : 87.33333333333333%\n",
      "-Average moving times : 16.729007633587788\n",
      "\n",
      " 7 start \n",
      "\n"
     ]
    },
    {
     "name": "stderr",
     "output_type": "stream",
     "text": [
      "100%|█████████████████████████████████████████| 300/300 [00:47<00:00,  6.27it/s]\n"
     ]
    },
    {
     "name": "stdout",
     "output_type": "stream",
     "text": [
      "\n",
      "-Success Ratio : 88.0%\n",
      "-Average moving times : 17.53030303030303\n",
      "\n",
      " 8 start \n",
      "\n"
     ]
    },
    {
     "name": "stderr",
     "output_type": "stream",
     "text": [
      "100%|█████████████████████████████████████████| 300/300 [03:27<00:00,  1.44it/s]\n"
     ]
    },
    {
     "name": "stdout",
     "output_type": "stream",
     "text": [
      "\n",
      "-Success Ratio : 98.66666666666667%\n",
      "-Average moving times : 31.820945945945947\n",
      "\n",
      " 9 start \n",
      "\n"
     ]
    },
    {
     "name": "stderr",
     "output_type": "stream",
     "text": [
      "100%|█████████████████████████████████████████| 300/300 [03:41<00:00,  1.35it/s]\n"
     ]
    },
    {
     "name": "stdout",
     "output_type": "stream",
     "text": [
      "\n",
      "-Success Ratio : 98.33333333333333%\n",
      "-Average moving times : 34.9728813559322\n",
      "\n",
      " 10 start \n",
      "\n"
     ]
    },
    {
     "name": "stderr",
     "output_type": "stream",
     "text": [
      "100%|█████████████████████████████████████████| 300/300 [03:42<00:00,  1.35it/s]\n"
     ]
    },
    {
     "name": "stdout",
     "output_type": "stream",
     "text": [
      "\n",
      "-Success Ratio : 98.0%\n",
      "-Average moving times : 31.591836734693878\n",
      "\n",
      " 11 start \n",
      "\n"
     ]
    },
    {
     "name": "stderr",
     "output_type": "stream",
     "text": [
      "100%|█████████████████████████████████████████| 300/300 [03:36<00:00,  1.39it/s]\n"
     ]
    },
    {
     "name": "stdout",
     "output_type": "stream",
     "text": [
      "\n",
      "-Success Ratio : 95.66666666666667%\n",
      "-Average moving times : 31.693379790940767\n",
      "\n",
      " 12 start \n",
      "\n"
     ]
    },
    {
     "name": "stderr",
     "output_type": "stream",
     "text": [
      "100%|█████████████████████████████████████████| 300/300 [06:00<00:00,  1.20s/it]\n"
     ]
    },
    {
     "name": "stdout",
     "output_type": "stream",
     "text": [
      "\n",
      "-Success Ratio : 88.66666666666667%\n",
      "-Average moving times : 40.70676691729323\n",
      "\n",
      " 13 start \n",
      "\n"
     ]
    },
    {
     "name": "stderr",
     "output_type": "stream",
     "text": [
      "100%|█████████████████████████████████████████| 300/300 [06:13<00:00,  1.24s/it]\n"
     ]
    },
    {
     "name": "stdout",
     "output_type": "stream",
     "text": [
      "\n",
      "-Success Ratio : 89.0%\n",
      "-Average moving times : 40.1310861423221\n",
      "\n",
      " 14 start \n",
      "\n"
     ]
    },
    {
     "name": "stderr",
     "output_type": "stream",
     "text": [
      "100%|█████████████████████████████████████████| 300/300 [05:23<00:00,  1.08s/it]\n"
     ]
    },
    {
     "name": "stdout",
     "output_type": "stream",
     "text": [
      "\n",
      "-Success Ratio : 84.33333333333333%\n",
      "-Average moving times : 33.88142292490119\n",
      "\n",
      " 15 start \n",
      "\n"
     ]
    },
    {
     "name": "stderr",
     "output_type": "stream",
     "text": [
      "100%|█████████████████████████████████████████| 300/300 [06:32<00:00,  1.31s/it]"
     ]
    },
    {
     "name": "stdout",
     "output_type": "stream",
     "text": [
      "\n",
      "-Success Ratio : 84.33333333333333%\n",
      "-Average moving times : 35.14229249011858\n",
      "step: 2, smart: False, alpha: 12, beta: 5 saved !\n"
     ]
    },
    {
     "name": "stderr",
     "output_type": "stream",
     "text": [
      "\n"
     ]
    }
   ],
   "source": [
    "alpha=12\n",
    "beta=5\n",
    "\n",
    "pre_condition=f'step: {step}, smart: {smart}, alpha: {alpha}, beta: {beta}'\n",
    "print('\\n',pre_condition,'\\n')\n",
    "\n",
    "for idx,combination in enumerate(combinations):\n",
    "    print('\\n',idx,'start','\\n')\n",
    "    graph_size, obstacle_ratio, fixed_obstacle, move_chance, influence = combination\n",
    "    string=f'graph_size: {graph_size}, obstacle_ratio: {obstacle_ratio}, fixed_obs_ratio: {fixed_obstacle}, move_chance: {move_chance}, influence: {influence}, detectability: {1}'\n",
    "    succ,mov_num,time=iter_test(test_num=300, dimension_x=graph_size, dimension_y=graph_size, s_start='x0y0', s_goal=f'x{graph_size-1}y{graph_size-1}',\n",
    "              obstacle_ratio=obstacle_ratio, fixed_obs_ratio=fixed_obstacle, move_chance=move_chance, \n",
    "              step=step, smart=smart, influence=influence, detectability=1)\n",
    "    result_dict[pre_condition+', '+string]=[succ,mov_num,time]\n",
    "\n",
    "with open('/Users/sewoong/Desktop/ML/미래도전/step_2_smart_False_third.pkl','wb') as f:\n",
    "    pickle.dump(result_dict,f)\n",
    "print(pre_condition,'saved !')"
   ]
  },
  {
   "cell_type": "code",
   "execution_count": 135,
   "id": "4c143e74",
   "metadata": {
    "scrolled": true
   },
   "outputs": [
    {
     "name": "stdout",
     "output_type": "stream",
     "text": [
      "\n",
      " step: 1, smart: False, alpha: 20, beta: 2 \n",
      "\n",
      "\n",
      " 0 start \n",
      "\n"
     ]
    },
    {
     "name": "stderr",
     "output_type": "stream",
     "text": [
      "100%|█████████████████████████████████████████| 300/300 [00:17<00:00, 17.46it/s]\n"
     ]
    },
    {
     "name": "stdout",
     "output_type": "stream",
     "text": [
      "\n",
      "-Success Ratio : 96.33333333333333%\n",
      "-Average moving times : 15.474048442906575\n",
      "\n",
      " 1 start \n",
      "\n"
     ]
    },
    {
     "name": "stderr",
     "output_type": "stream",
     "text": [
      "100%|█████████████████████████████████████████| 300/300 [00:18<00:00, 15.82it/s]\n"
     ]
    },
    {
     "name": "stdout",
     "output_type": "stream",
     "text": [
      "\n",
      "-Success Ratio : 96.33333333333333%\n",
      "-Average moving times : 15.498269896193772\n",
      "\n",
      " 2 start \n",
      "\n"
     ]
    },
    {
     "name": "stderr",
     "output_type": "stream",
     "text": [
      "100%|█████████████████████████████████████████| 300/300 [00:16<00:00, 18.64it/s]\n"
     ]
    },
    {
     "name": "stdout",
     "output_type": "stream",
     "text": [
      "\n",
      "-Success Ratio : 95.0%\n",
      "-Average moving times : 15.445614035087718\n",
      "\n",
      " 3 start \n",
      "\n"
     ]
    },
    {
     "name": "stderr",
     "output_type": "stream",
     "text": [
      "100%|█████████████████████████████████████████| 300/300 [00:19<00:00, 15.75it/s]\n"
     ]
    },
    {
     "name": "stdout",
     "output_type": "stream",
     "text": [
      "\n",
      "-Success Ratio : 94.66666666666667%\n",
      "-Average moving times : 15.57394366197183\n",
      "\n",
      " 4 start \n",
      "\n"
     ]
    },
    {
     "name": "stderr",
     "output_type": "stream",
     "text": [
      "100%|█████████████████████████████████████████| 300/300 [00:26<00:00, 11.50it/s]\n"
     ]
    },
    {
     "name": "stdout",
     "output_type": "stream",
     "text": [
      "\n",
      "-Success Ratio : 90.33333333333333%\n",
      "-Average moving times : 16.051660516605168\n",
      "\n",
      " 5 start \n",
      "\n"
     ]
    },
    {
     "name": "stderr",
     "output_type": "stream",
     "text": [
      "100%|█████████████████████████████████████████| 300/300 [00:33<00:00,  8.99it/s]\n"
     ]
    },
    {
     "name": "stdout",
     "output_type": "stream",
     "text": [
      "\n",
      "-Success Ratio : 92.0%\n",
      "-Average moving times : 15.942028985507246\n",
      "\n",
      " 6 start \n",
      "\n"
     ]
    },
    {
     "name": "stderr",
     "output_type": "stream",
     "text": [
      "100%|█████████████████████████████████████████| 300/300 [00:28<00:00, 10.66it/s]\n"
     ]
    },
    {
     "name": "stdout",
     "output_type": "stream",
     "text": [
      "\n",
      "-Success Ratio : 87.0%\n",
      "-Average moving times : 16.03065134099617\n",
      "\n",
      " 7 start \n",
      "\n"
     ]
    },
    {
     "name": "stderr",
     "output_type": "stream",
     "text": [
      "100%|█████████████████████████████████████████| 300/300 [00:32<00:00,  9.27it/s]\n"
     ]
    },
    {
     "name": "stdout",
     "output_type": "stream",
     "text": [
      "\n",
      "-Success Ratio : 87.33333333333333%\n",
      "-Average moving times : 16.66793893129771\n",
      "\n",
      " 8 start \n",
      "\n"
     ]
    },
    {
     "name": "stderr",
     "output_type": "stream",
     "text": [
      "100%|█████████████████████████████████████████| 300/300 [01:12<00:00,  4.12it/s]\n"
     ]
    },
    {
     "name": "stdout",
     "output_type": "stream",
     "text": [
      "\n",
      "-Success Ratio : 97.66666666666667%\n",
      "-Average moving times : 30.66211604095563\n",
      "\n",
      " 9 start \n",
      "\n"
     ]
    },
    {
     "name": "stderr",
     "output_type": "stream",
     "text": [
      "100%|█████████████████████████████████████████| 300/300 [01:19<00:00,  3.79it/s]\n"
     ]
    },
    {
     "name": "stdout",
     "output_type": "stream",
     "text": [
      "\n",
      "-Success Ratio : 98.33333333333333%\n",
      "-Average moving times : 30.681355932203388\n",
      "\n",
      " 10 start \n",
      "\n"
     ]
    },
    {
     "name": "stderr",
     "output_type": "stream",
     "text": [
      "100%|█████████████████████████████████████████| 300/300 [01:11<00:00,  4.22it/s]\n"
     ]
    },
    {
     "name": "stdout",
     "output_type": "stream",
     "text": [
      "\n",
      "-Success Ratio : 97.33333333333333%\n",
      "-Average moving times : 31.356164383561644\n",
      "\n",
      " 11 start \n",
      "\n"
     ]
    },
    {
     "name": "stderr",
     "output_type": "stream",
     "text": [
      "100%|█████████████████████████████████████████| 300/300 [01:21<00:00,  3.69it/s]\n"
     ]
    },
    {
     "name": "stdout",
     "output_type": "stream",
     "text": [
      "\n",
      "-Success Ratio : 97.66666666666667%\n",
      "-Average moving times : 30.699658703071673\n",
      "\n",
      " 12 start \n",
      "\n"
     ]
    },
    {
     "name": "stderr",
     "output_type": "stream",
     "text": [
      "100%|█████████████████████████████████████████| 300/300 [03:16<00:00,  1.52it/s]\n"
     ]
    },
    {
     "name": "stdout",
     "output_type": "stream",
     "text": [
      "\n",
      "-Success Ratio : 92.33333333333333%\n",
      "-Average moving times : 32.05415162454874\n",
      "\n",
      " 13 start \n",
      "\n"
     ]
    },
    {
     "name": "stderr",
     "output_type": "stream",
     "text": [
      "100%|█████████████████████████████████████████| 300/300 [04:13<00:00,  1.18it/s]\n"
     ]
    },
    {
     "name": "stdout",
     "output_type": "stream",
     "text": [
      "\n",
      "-Success Ratio : 92.0%\n",
      "-Average moving times : 31.681159420289855\n",
      "\n",
      " 14 start \n",
      "\n"
     ]
    },
    {
     "name": "stderr",
     "output_type": "stream",
     "text": [
      "100%|█████████████████████████████████████████| 300/300 [03:10<00:00,  1.57it/s]\n"
     ]
    },
    {
     "name": "stdout",
     "output_type": "stream",
     "text": [
      "\n",
      "-Success Ratio : 86.66666666666667%\n",
      "-Average moving times : 31.78846153846154\n",
      "\n",
      " 15 start \n",
      "\n"
     ]
    },
    {
     "name": "stderr",
     "output_type": "stream",
     "text": [
      "100%|█████████████████████████████████████████| 300/300 [03:51<00:00,  1.30it/s]"
     ]
    },
    {
     "name": "stdout",
     "output_type": "stream",
     "text": [
      "\n",
      "-Success Ratio : 86.66666666666667%\n",
      "-Average moving times : 31.807692307692307\n",
      "step: 1, smart: False, alpha: 20, beta: 2 saved !\n"
     ]
    },
    {
     "name": "stderr",
     "output_type": "stream",
     "text": [
      "\n"
     ]
    }
   ],
   "source": [
    "alpha=20\n",
    "beta=2\n",
    "\n",
    "pre_condition=f'step: {step}, smart: {smart}, alpha: {alpha}, beta: {beta}'\n",
    "print('\\n',pre_condition,'\\n')\n",
    "\n",
    "for idx,combination in enumerate(combinations):\n",
    "    print('\\n',idx,'start','\\n')\n",
    "    graph_size, obstacle_ratio, fixed_obstacle, move_chance, influence = combination\n",
    "    string=f'graph_size: {graph_size}, obstacle_ratio: {obstacle_ratio}, fixed_obs_ratio: {fixed_obstacle}, move_chance: {move_chance}, influence: {influence}, detectability: {1}'\n",
    "    succ,mov_num,time=iter_test(test_num=300, dimension_x=graph_size, dimension_y=graph_size, s_start='x0y0', s_goal=f'x{graph_size-1}y{graph_size-1}',\n",
    "              obstacle_ratio=obstacle_ratio, fixed_obs_ratio=fixed_obstacle, move_chance=move_chance, \n",
    "              step=step, smart=smart, influence=influence, detectability=1)\n",
    "    result_dict[pre_condition+', '+string]=[succ,mov_num,time]\n",
    "\n",
    "with open('/Users/sewoong/Desktop/ML/미래도전/step_1_smart_False_third.pkl','wb') as f:\n",
    "    pickle.dump(result_dict,f)\n",
    "print(pre_condition,'saved !')"
   ]
  },
  {
   "cell_type": "code",
   "execution_count": 31,
   "id": "1dffda1c",
   "metadata": {
    "scrolled": true
   },
   "outputs": [
    {
     "name": "stdout",
     "output_type": "stream",
     "text": [
      "\n",
      " step: 1, smart: True, alpha: 5, beta: 1 \n",
      "\n",
      "\n",
      " 0 start \n",
      "\n"
     ]
    },
    {
     "name": "stderr",
     "output_type": "stream",
     "text": [
      "100%|█████████████████████████████████████████| 300/300 [00:08<00:00, 33.87it/s]\n"
     ]
    },
    {
     "name": "stdout",
     "output_type": "stream",
     "text": [
      "\n",
      "-Success Ratio : 75.33333333333333%\n",
      "-Average moving times : 15.106194690265486\n",
      "\n",
      " 1 start \n",
      "\n"
     ]
    },
    {
     "name": "stderr",
     "output_type": "stream",
     "text": [
      "100%|█████████████████████████████████████████| 300/300 [00:10<00:00, 29.17it/s]\n"
     ]
    },
    {
     "name": "stdout",
     "output_type": "stream",
     "text": [
      "\n",
      "-Success Ratio : 75.0%\n",
      "-Average moving times : 15.097777777777777\n",
      "\n",
      " 2 start \n",
      "\n"
     ]
    },
    {
     "name": "stderr",
     "output_type": "stream",
     "text": [
      "100%|█████████████████████████████████████████| 300/300 [00:10<00:00, 29.33it/s]\n"
     ]
    },
    {
     "name": "stdout",
     "output_type": "stream",
     "text": [
      "\n",
      "-Success Ratio : 81.0%\n",
      "-Average moving times : 15.11522633744856\n",
      "\n",
      " 3 start \n",
      "\n"
     ]
    },
    {
     "name": "stderr",
     "output_type": "stream",
     "text": [
      "100%|█████████████████████████████████████████| 300/300 [00:10<00:00, 28.50it/s]\n"
     ]
    },
    {
     "name": "stdout",
     "output_type": "stream",
     "text": [
      "\n",
      "-Success Ratio : 72.66666666666667%\n",
      "-Average moving times : 15.100917431192661\n",
      "\n",
      " 4 start \n",
      "\n"
     ]
    },
    {
     "name": "stderr",
     "output_type": "stream",
     "text": [
      "100%|█████████████████████████████████████████| 300/300 [00:09<00:00, 32.22it/s]\n"
     ]
    },
    {
     "name": "stdout",
     "output_type": "stream",
     "text": [
      "\n",
      "-Success Ratio : 63.666666666666664%\n",
      "-Average moving times : 15.120418848167539\n",
      "\n",
      " 5 start \n",
      "\n"
     ]
    },
    {
     "name": "stderr",
     "output_type": "stream",
     "text": [
      "100%|█████████████████████████████████████████| 300/300 [00:10<00:00, 29.24it/s]\n"
     ]
    },
    {
     "name": "stdout",
     "output_type": "stream",
     "text": [
      "\n",
      "-Success Ratio : 52.666666666666664%\n",
      "-Average moving times : 15.094936708860759\n",
      "\n",
      " 6 start \n",
      "\n"
     ]
    },
    {
     "name": "stderr",
     "output_type": "stream",
     "text": [
      "100%|█████████████████████████████████████████| 300/300 [00:09<00:00, 30.95it/s]\n"
     ]
    },
    {
     "name": "stdout",
     "output_type": "stream",
     "text": [
      "\n",
      "-Success Ratio : 55.0%\n",
      "-Average moving times : 15.096969696969698\n",
      "\n",
      " 7 start \n",
      "\n"
     ]
    },
    {
     "name": "stderr",
     "output_type": "stream",
     "text": [
      "100%|█████████████████████████████████████████| 300/300 [00:11<00:00, 27.23it/s]\n"
     ]
    },
    {
     "name": "stdout",
     "output_type": "stream",
     "text": [
      "\n",
      "-Success Ratio : 53.333333333333336%\n",
      "-Average moving times : 15.0625\n",
      "\n",
      " 8 start \n",
      "\n"
     ]
    },
    {
     "name": "stderr",
     "output_type": "stream",
     "text": [
      "100%|█████████████████████████████████████████| 300/300 [00:17<00:00, 17.62it/s]\n"
     ]
    },
    {
     "name": "stdout",
     "output_type": "stream",
     "text": [
      "\n",
      "-Success Ratio : 57.0%\n",
      "-Average moving times : 15.543859649122806\n",
      "\n",
      " 9 start \n",
      "\n"
     ]
    },
    {
     "name": "stderr",
     "output_type": "stream",
     "text": [
      "100%|█████████████████████████████████████████| 300/300 [00:16<00:00, 17.99it/s]\n"
     ]
    },
    {
     "name": "stdout",
     "output_type": "stream",
     "text": [
      "\n",
      "-Success Ratio : 55.333333333333336%\n",
      "-Average moving times : 15.596385542168674\n",
      "\n",
      " 10 start \n",
      "\n"
     ]
    },
    {
     "name": "stderr",
     "output_type": "stream",
     "text": [
      "100%|█████████████████████████████████████████| 300/300 [00:18<00:00, 16.19it/s]\n"
     ]
    },
    {
     "name": "stdout",
     "output_type": "stream",
     "text": [
      "\n",
      "-Success Ratio : 55.0%\n",
      "-Average moving times : 15.606060606060606\n",
      "\n",
      " 11 start \n",
      "\n"
     ]
    },
    {
     "name": "stderr",
     "output_type": "stream",
     "text": [
      "100%|█████████████████████████████████████████| 300/300 [00:20<00:00, 14.61it/s]\n"
     ]
    },
    {
     "name": "stdout",
     "output_type": "stream",
     "text": [
      "\n",
      "-Success Ratio : 55.666666666666664%\n",
      "-Average moving times : 15.502994011976048\n",
      "\n",
      " 12 start \n",
      "\n"
     ]
    },
    {
     "name": "stderr",
     "output_type": "stream",
     "text": [
      "100%|█████████████████████████████████████████| 300/300 [00:15<00:00, 19.48it/s]\n"
     ]
    },
    {
     "name": "stdout",
     "output_type": "stream",
     "text": [
      "\n",
      "-Success Ratio : 38.333333333333336%\n",
      "-Average moving times : 15.6\n",
      "\n",
      " 13 start \n",
      "\n"
     ]
    },
    {
     "name": "stderr",
     "output_type": "stream",
     "text": [
      "100%|█████████████████████████████████████████| 300/300 [00:15<00:00, 19.31it/s]\n"
     ]
    },
    {
     "name": "stdout",
     "output_type": "stream",
     "text": [
      "\n",
      "-Success Ratio : 27.333333333333332%\n",
      "-Average moving times : 15.658536585365853\n",
      "\n",
      " 14 start \n",
      "\n"
     ]
    },
    {
     "name": "stderr",
     "output_type": "stream",
     "text": [
      "100%|█████████████████████████████████████████| 300/300 [00:17<00:00, 16.82it/s]\n"
     ]
    },
    {
     "name": "stdout",
     "output_type": "stream",
     "text": [
      "\n",
      "-Success Ratio : 39.333333333333336%\n",
      "-Average moving times : 15.584745762711865\n",
      "\n",
      " 15 start \n",
      "\n"
     ]
    },
    {
     "name": "stderr",
     "output_type": "stream",
     "text": [
      "100%|█████████████████████████████████████████| 300/300 [00:18<00:00, 16.54it/s]\n"
     ]
    },
    {
     "name": "stdout",
     "output_type": "stream",
     "text": [
      "\n",
      "-Success Ratio : 29.0%\n",
      "-Average moving times : 15.517241379310345\n",
      "\n",
      " 16 start \n",
      "\n"
     ]
    },
    {
     "name": "stderr",
     "output_type": "stream",
     "text": [
      "100%|█████████████████████████████████████████| 300/300 [00:44<00:00,  6.78it/s]\n"
     ]
    },
    {
     "name": "stdout",
     "output_type": "stream",
     "text": [
      "\n",
      "-Success Ratio : 85.66666666666667%\n",
      "-Average moving times : 30.31906614785992\n",
      "\n",
      " 17 start \n",
      "\n"
     ]
    },
    {
     "name": "stderr",
     "output_type": "stream",
     "text": [
      "100%|█████████████████████████████████████████| 300/300 [00:43<00:00,  6.83it/s]\n"
     ]
    },
    {
     "name": "stdout",
     "output_type": "stream",
     "text": [
      "\n",
      "-Success Ratio : 85.66666666666667%\n",
      "-Average moving times : 30.30350194552529\n",
      "\n",
      " 18 start \n",
      "\n"
     ]
    },
    {
     "name": "stderr",
     "output_type": "stream",
     "text": [
      "100%|█████████████████████████████████████████| 300/300 [00:45<00:00,  6.66it/s]\n"
     ]
    },
    {
     "name": "stdout",
     "output_type": "stream",
     "text": [
      "\n",
      "-Success Ratio : 86.33333333333333%\n",
      "-Average moving times : 30.312741312741313\n",
      "\n",
      " 19 start \n",
      "\n"
     ]
    },
    {
     "name": "stderr",
     "output_type": "stream",
     "text": [
      "100%|█████████████████████████████████████████| 300/300 [00:49<00:00,  6.11it/s]\n"
     ]
    },
    {
     "name": "stdout",
     "output_type": "stream",
     "text": [
      "\n",
      "-Success Ratio : 83.66666666666667%\n",
      "-Average moving times : 30.314741035856574\n",
      "\n",
      " 20 start \n",
      "\n"
     ]
    },
    {
     "name": "stderr",
     "output_type": "stream",
     "text": [
      "100%|█████████████████████████████████████████| 300/300 [00:39<00:00,  7.58it/s]\n"
     ]
    },
    {
     "name": "stdout",
     "output_type": "stream",
     "text": [
      "\n",
      "-Success Ratio : 75.66666666666667%\n",
      "-Average moving times : 30.352422907488986\n",
      "\n",
      " 21 start \n",
      "\n"
     ]
    },
    {
     "name": "stderr",
     "output_type": "stream",
     "text": [
      "100%|█████████████████████████████████████████| 300/300 [00:46<00:00,  6.40it/s]\n"
     ]
    },
    {
     "name": "stdout",
     "output_type": "stream",
     "text": [
      "\n",
      "-Success Ratio : 68.66666666666667%\n",
      "-Average moving times : 30.276699029126213\n",
      "\n",
      " 22 start \n",
      "\n"
     ]
    },
    {
     "name": "stderr",
     "output_type": "stream",
     "text": [
      "100%|█████████████████████████████████████████| 300/300 [00:41<00:00,  7.15it/s]\n"
     ]
    },
    {
     "name": "stdout",
     "output_type": "stream",
     "text": [
      "\n",
      "-Success Ratio : 76.66666666666667%\n",
      "-Average moving times : 30.26086956521739\n",
      "\n",
      " 23 start \n",
      "\n"
     ]
    },
    {
     "name": "stderr",
     "output_type": "stream",
     "text": [
      "100%|█████████████████████████████████████████| 300/300 [00:47<00:00,  6.26it/s]\n"
     ]
    },
    {
     "name": "stdout",
     "output_type": "stream",
     "text": [
      "\n",
      "-Success Ratio : 74.66666666666667%\n",
      "-Average moving times : 30.325892857142858\n",
      "\n",
      " 24 start \n",
      "\n"
     ]
    },
    {
     "name": "stderr",
     "output_type": "stream",
     "text": [
      "100%|█████████████████████████████████████████| 300/300 [01:39<00:00,  3.02it/s]\n"
     ]
    },
    {
     "name": "stdout",
     "output_type": "stream",
     "text": [
      "\n",
      "-Success Ratio : 47.333333333333336%\n",
      "-Average moving times : 31.366197183098592\n",
      "\n",
      " 25 start \n",
      "\n"
     ]
    },
    {
     "name": "stderr",
     "output_type": "stream",
     "text": [
      "100%|█████████████████████████████████████████| 300/300 [01:44<00:00,  2.86it/s]\n"
     ]
    },
    {
     "name": "stdout",
     "output_type": "stream",
     "text": [
      "\n",
      "-Success Ratio : 37.666666666666664%\n",
      "-Average moving times : 31.486725663716815\n",
      "\n",
      " 26 start \n",
      "\n"
     ]
    },
    {
     "name": "stderr",
     "output_type": "stream",
     "text": [
      "100%|█████████████████████████████████████████| 300/300 [02:01<00:00,  2.46it/s]\n"
     ]
    },
    {
     "name": "stdout",
     "output_type": "stream",
     "text": [
      "\n",
      "-Success Ratio : 53.666666666666664%\n",
      "-Average moving times : 31.434782608695652\n",
      "\n",
      " 27 start \n",
      "\n"
     ]
    },
    {
     "name": "stderr",
     "output_type": "stream",
     "text": [
      "100%|█████████████████████████████████████████| 300/300 [02:02<00:00,  2.44it/s]\n"
     ]
    },
    {
     "name": "stdout",
     "output_type": "stream",
     "text": [
      "\n",
      "-Success Ratio : 46.0%\n",
      "-Average moving times : 31.304347826086957\n",
      "\n",
      " 28 start \n",
      "\n"
     ]
    },
    {
     "name": "stderr",
     "output_type": "stream",
     "text": [
      "100%|█████████████████████████████████████████| 300/300 [01:33<00:00,  3.21it/s]\n"
     ]
    },
    {
     "name": "stdout",
     "output_type": "stream",
     "text": [
      "\n",
      "-Success Ratio : 27.0%\n",
      "-Average moving times : 31.28395061728395\n",
      "\n",
      " 29 start \n",
      "\n"
     ]
    },
    {
     "name": "stderr",
     "output_type": "stream",
     "text": [
      "100%|█████████████████████████████████████████| 300/300 [01:42<00:00,  2.93it/s]\n"
     ]
    },
    {
     "name": "stdout",
     "output_type": "stream",
     "text": [
      "\n",
      "-Success Ratio : 21.0%\n",
      "-Average moving times : 31.206349206349206\n",
      "\n",
      " 30 start \n",
      "\n"
     ]
    },
    {
     "name": "stderr",
     "output_type": "stream",
     "text": [
      "100%|█████████████████████████████████████████| 300/300 [01:57<00:00,  2.55it/s]\n"
     ]
    },
    {
     "name": "stdout",
     "output_type": "stream",
     "text": [
      "\n",
      "-Success Ratio : 28.0%\n",
      "-Average moving times : 31.44047619047619\n",
      "\n",
      " 31 start \n",
      "\n"
     ]
    },
    {
     "name": "stderr",
     "output_type": "stream",
     "text": [
      "100%|█████████████████████████████████████████| 300/300 [02:00<00:00,  2.48it/s]"
     ]
    },
    {
     "name": "stdout",
     "output_type": "stream",
     "text": [
      "\n",
      "-Success Ratio : 19.666666666666668%\n",
      "-Average moving times : 31.28813559322034\n",
      "step: 1, smart: True, alpha: 5, beta: 1 saved !\n"
     ]
    },
    {
     "name": "stderr",
     "output_type": "stream",
     "text": [
      "\n"
     ]
    }
   ],
   "source": [
    "alpha=5\n",
    "beta=1\n",
    "\n",
    "pre_condition=f'step: {step}, smart: {smart}, alpha: {alpha}, beta: {beta}'\n",
    "print('\\n',pre_condition,'\\n')\n",
    "\n",
    "for idx,combination in enumerate(combinations):\n",
    "    print('\\n',idx,'start','\\n')\n",
    "    graph_size, obstacle_ratio, fixed_obstacle, move_chance, influence, detectability = combination\n",
    "    string=f'graph_size: {graph_size}, obstacle_ratio: {obstacle_ratio}, fixed_obs_ratio: {fixed_obstacle}, move_chance: {move_chance}, influence: {influence}, detectability: {detectability}'\n",
    "    succ,mov_num,time=iter_test(test_num=300, dimension_x=graph_size, dimension_y=graph_size, s_start='x0y0', s_goal=f'x{graph_size-1}y{graph_size-1}',\n",
    "              obstacle_ratio=obstacle_ratio, fixed_obs_ratio=fixed_obstacle, move_chance=move_chance, \n",
    "              step=step, smart=smart, influence=influence, detectability=detectability)\n",
    "    result_dict[pre_condition+', '+string]=[succ,mov_num,time]\n",
    "\n",
    "with open('/Users/sewoong/Desktop/ML/미래도전/step_1_smart_True_second.pkl','wb') as f:\n",
    "    pickle.dump(result_dict,f)\n",
    "print(pre_condition,'saved !')"
   ]
  },
  {
   "cell_type": "code",
   "execution_count": 16,
   "id": "cf5ee3e9",
   "metadata": {
    "scrolled": true
   },
   "outputs": [
    {
     "name": "stdout",
     "output_type": "stream",
     "text": [
      "\n",
      " step: 1, smart: True, alpha: 5, beta: 3 \n",
      "\n",
      "\n",
      " 0 start \n",
      "\n"
     ]
    },
    {
     "name": "stderr",
     "output_type": "stream",
     "text": [
      "100%|█████████████████████████████████████████| 300/300 [02:46<00:00,  1.80it/s]\n"
     ]
    },
    {
     "name": "stdout",
     "output_type": "stream",
     "text": [
      "\n",
      "-Success Ratio : 51.0%\n",
      "-Average moving times : 40.48366013071895\n",
      "\n",
      " 1 start \n",
      "\n"
     ]
    },
    {
     "name": "stderr",
     "output_type": "stream",
     "text": [
      "100%|█████████████████████████████████████████| 300/300 [02:45<00:00,  1.81it/s]\n"
     ]
    },
    {
     "name": "stdout",
     "output_type": "stream",
     "text": [
      "\n",
      "-Success Ratio : 48.666666666666664%\n",
      "-Average moving times : 32.56164383561644\n",
      "\n",
      " 2 start \n",
      "\n"
     ]
    },
    {
     "name": "stderr",
     "output_type": "stream",
     "text": [
      "100%|█████████████████████████████████████████| 300/300 [03:06<00:00,  1.61it/s]\n"
     ]
    },
    {
     "name": "stdout",
     "output_type": "stream",
     "text": [
      "\n",
      "-Success Ratio : 49.666666666666664%\n",
      "-Average moving times : 37.53691275167785\n",
      "\n",
      " 3 start \n",
      "\n"
     ]
    },
    {
     "name": "stderr",
     "output_type": "stream",
     "text": [
      "100%|█████████████████████████████████████████| 300/300 [03:07<00:00,  1.60it/s]\n"
     ]
    },
    {
     "name": "stdout",
     "output_type": "stream",
     "text": [
      "\n",
      "-Success Ratio : 48.333333333333336%\n",
      "-Average moving times : 32.15862068965517\n",
      "\n",
      " 4 start \n",
      "\n"
     ]
    },
    {
     "name": "stderr",
     "output_type": "stream",
     "text": [
      "100%|█████████████████████████████████████████| 300/300 [02:34<00:00,  1.94it/s]\n"
     ]
    },
    {
     "name": "stdout",
     "output_type": "stream",
     "text": [
      "\n",
      "-Success Ratio : 22.333333333333332%\n",
      "-Average moving times : 32.149253731343286\n",
      "\n",
      " 5 start \n",
      "\n"
     ]
    },
    {
     "name": "stderr",
     "output_type": "stream",
     "text": [
      "100%|█████████████████████████████████████████| 300/300 [02:38<00:00,  1.89it/s]\n"
     ]
    },
    {
     "name": "stdout",
     "output_type": "stream",
     "text": [
      "\n",
      "-Success Ratio : 14.666666666666666%\n",
      "-Average moving times : 33.88636363636363\n",
      "\n",
      " 6 start \n",
      "\n"
     ]
    },
    {
     "name": "stderr",
     "output_type": "stream",
     "text": [
      "100%|█████████████████████████████████████████| 300/300 [02:52<00:00,  1.73it/s]\n"
     ]
    },
    {
     "name": "stdout",
     "output_type": "stream",
     "text": [
      "\n",
      "-Success Ratio : 29.333333333333332%\n",
      "-Average moving times : 31.829545454545453\n",
      "\n",
      " 7 start \n",
      "\n"
     ]
    },
    {
     "name": "stderr",
     "output_type": "stream",
     "text": [
      "100%|█████████████████████████████████████████| 300/300 [02:53<00:00,  1.72it/s]"
     ]
    },
    {
     "name": "stdout",
     "output_type": "stream",
     "text": [
      "\n",
      "-Success Ratio : 22.333333333333332%\n",
      "-Average moving times : 32.134328358208954\n",
      "step: 1, smart: True, alpha: 5, beta: 3 saved !\n"
     ]
    },
    {
     "name": "stderr",
     "output_type": "stream",
     "text": [
      "\n"
     ]
    }
   ],
   "source": [
    "alpha=5\n",
    "beta=3\n",
    "\n",
    "pre_condition=f'step: {step}, smart: {smart}, alpha: {alpha}, beta: {beta}'\n",
    "print('\\n',pre_condition,'\\n')\n",
    "\n",
    "for idx,combination in enumerate(combinations[24:]):\n",
    "    print('\\n',idx,'start','\\n')\n",
    "    graph_size, obstacle_ratio, fixed_obstacle, move_chance, influence, detectability = combination\n",
    "    string=f'graph_size: {graph_size}, obstacle_ratio: {obstacle_ratio}, fixed_obs_ratio: {fixed_obstacle}, move_chance: {move_chance}, influence: {influence}, detectability: {detectability}'\n",
    "    succ,mov_num,time=iter_test(test_num=300, dimension_x=graph_size, dimension_y=graph_size, s_start='x0y0', s_goal=f'x{graph_size-1}y{graph_size-1}',\n",
    "              obstacle_ratio=obstacle_ratio, fixed_obs_ratio=fixed_obstacle, move_chance=move_chance, \n",
    "              step=step, smart=smart, influence=influence, detectability=detectability)\n",
    "    result_dict[pre_condition+', '+string]=[succ,mov_num,time]\n",
    "\n",
    "with open('/Users/sewoong/Desktop/ML/미래도전/step_1_smart_True_second.pkl','wb') as f:\n",
    "    pickle.dump(result_dict,f)\n",
    "print(pre_condition,'saved !')"
   ]
  },
  {
   "cell_type": "code",
   "execution_count": 15,
   "id": "fd4daffa",
   "metadata": {
    "scrolled": true
   },
   "outputs": [
    {
     "name": "stdout",
     "output_type": "stream",
     "text": [
      "\n",
      " step: 1, smart: True, alpha: 15, beta: 1 \n",
      "\n",
      "\n",
      " 0 start \n",
      "\n"
     ]
    },
    {
     "name": "stderr",
     "output_type": "stream",
     "text": [
      "100%|█████████████████████████████████████████| 300/300 [00:12<00:00, 23.17it/s]\n"
     ]
    },
    {
     "name": "stdout",
     "output_type": "stream",
     "text": [
      "\n",
      "-Success Ratio : 72.0%\n",
      "-Average moving times : 15.11111111111111\n",
      "\n",
      " 1 start \n",
      "\n"
     ]
    },
    {
     "name": "stderr",
     "output_type": "stream",
     "text": [
      "100%|█████████████████████████████████████████| 300/300 [00:13<00:00, 22.89it/s]\n"
     ]
    },
    {
     "name": "stdout",
     "output_type": "stream",
     "text": [
      "\n",
      "-Success Ratio : 77.33333333333333%\n",
      "-Average moving times : 15.112068965517242\n",
      "\n",
      " 2 start \n",
      "\n"
     ]
    },
    {
     "name": "stderr",
     "output_type": "stream",
     "text": [
      "100%|█████████████████████████████████████████| 300/300 [00:13<00:00, 22.30it/s]\n"
     ]
    },
    {
     "name": "stdout",
     "output_type": "stream",
     "text": [
      "\n",
      "-Success Ratio : 78.0%\n",
      "-Average moving times : 15.123931623931623\n",
      "\n",
      " 3 start \n",
      "\n"
     ]
    },
    {
     "name": "stderr",
     "output_type": "stream",
     "text": [
      "100%|█████████████████████████████████████████| 300/300 [00:14<00:00, 20.02it/s]\n"
     ]
    },
    {
     "name": "stdout",
     "output_type": "stream",
     "text": [
      "\n",
      "-Success Ratio : 73.0%\n",
      "-Average moving times : 15.141552511415526\n",
      "\n",
      " 4 start \n",
      "\n"
     ]
    },
    {
     "name": "stderr",
     "output_type": "stream",
     "text": [
      "100%|█████████████████████████████████████████| 300/300 [00:13<00:00, 21.99it/s]\n"
     ]
    },
    {
     "name": "stdout",
     "output_type": "stream",
     "text": [
      "\n",
      "-Success Ratio : 61.333333333333336%\n",
      "-Average moving times : 15.103260869565217\n",
      "\n",
      " 5 start \n",
      "\n"
     ]
    },
    {
     "name": "stderr",
     "output_type": "stream",
     "text": [
      "100%|█████████████████████████████████████████| 300/300 [00:14<00:00, 20.00it/s]\n"
     ]
    },
    {
     "name": "stdout",
     "output_type": "stream",
     "text": [
      "\n",
      "-Success Ratio : 55.333333333333336%\n",
      "-Average moving times : 15.102409638554217\n",
      "\n",
      " 6 start \n",
      "\n"
     ]
    },
    {
     "name": "stderr",
     "output_type": "stream",
     "text": [
      "100%|█████████████████████████████████████████| 300/300 [00:13<00:00, 22.27it/s]\n"
     ]
    },
    {
     "name": "stdout",
     "output_type": "stream",
     "text": [
      "\n",
      "-Success Ratio : 65.0%\n",
      "-Average moving times : 15.117948717948718\n",
      "\n",
      " 7 start \n",
      "\n"
     ]
    },
    {
     "name": "stderr",
     "output_type": "stream",
     "text": [
      "100%|█████████████████████████████████████████| 300/300 [00:15<00:00, 19.98it/s]\n"
     ]
    },
    {
     "name": "stdout",
     "output_type": "stream",
     "text": [
      "\n",
      "-Success Ratio : 59.0%\n",
      "-Average moving times : 15.124293785310735\n",
      "\n",
      " 8 start \n",
      "\n"
     ]
    },
    {
     "name": "stderr",
     "output_type": "stream",
     "text": [
      "100%|█████████████████████████████████████████| 300/300 [00:20<00:00, 14.92it/s]\n"
     ]
    },
    {
     "name": "stdout",
     "output_type": "stream",
     "text": [
      "\n",
      "-Success Ratio : 54.0%\n",
      "-Average moving times : 15.67283950617284\n",
      "\n",
      " 9 start \n",
      "\n"
     ]
    },
    {
     "name": "stderr",
     "output_type": "stream",
     "text": [
      "100%|█████████████████████████████████████████| 300/300 [00:23<00:00, 12.77it/s]\n"
     ]
    },
    {
     "name": "stdout",
     "output_type": "stream",
     "text": [
      "\n",
      "-Success Ratio : 49.0%\n",
      "-Average moving times : 15.408163265306122\n",
      "\n",
      " 10 start \n",
      "\n"
     ]
    },
    {
     "name": "stderr",
     "output_type": "stream",
     "text": [
      "100%|█████████████████████████████████████████| 300/300 [00:24<00:00, 12.12it/s]\n"
     ]
    },
    {
     "name": "stdout",
     "output_type": "stream",
     "text": [
      "\n",
      "-Success Ratio : 59.0%\n",
      "-Average moving times : 15.581920903954803\n",
      "\n",
      " 11 start \n",
      "\n"
     ]
    },
    {
     "name": "stderr",
     "output_type": "stream",
     "text": [
      "100%|█████████████████████████████████████████| 300/300 [00:27<00:00, 10.72it/s]\n"
     ]
    },
    {
     "name": "stdout",
     "output_type": "stream",
     "text": [
      "\n",
      "-Success Ratio : 55.0%\n",
      "-Average moving times : 15.496969696969696\n",
      "\n",
      " 12 start \n",
      "\n"
     ]
    },
    {
     "name": "stderr",
     "output_type": "stream",
     "text": [
      "100%|█████████████████████████████████████████| 300/300 [00:21<00:00, 13.68it/s]\n"
     ]
    },
    {
     "name": "stdout",
     "output_type": "stream",
     "text": [
      "\n",
      "-Success Ratio : 36.333333333333336%\n",
      "-Average moving times : 15.541284403669724\n",
      "\n",
      " 13 start \n",
      "\n"
     ]
    },
    {
     "name": "stderr",
     "output_type": "stream",
     "text": [
      "100%|█████████████████████████████████████████| 300/300 [00:22<00:00, 13.11it/s]\n"
     ]
    },
    {
     "name": "stdout",
     "output_type": "stream",
     "text": [
      "\n",
      "-Success Ratio : 29.666666666666668%\n",
      "-Average moving times : 15.764044943820224\n",
      "\n",
      " 14 start \n",
      "\n"
     ]
    },
    {
     "name": "stderr",
     "output_type": "stream",
     "text": [
      "100%|█████████████████████████████████████████| 300/300 [00:25<00:00, 11.70it/s]\n"
     ]
    },
    {
     "name": "stdout",
     "output_type": "stream",
     "text": [
      "\n",
      "-Success Ratio : 36.0%\n",
      "-Average moving times : 15.63888888888889\n",
      "\n",
      " 15 start \n",
      "\n"
     ]
    },
    {
     "name": "stderr",
     "output_type": "stream",
     "text": [
      "100%|█████████████████████████████████████████| 300/300 [00:27<00:00, 10.91it/s]\n"
     ]
    },
    {
     "name": "stdout",
     "output_type": "stream",
     "text": [
      "\n",
      "-Success Ratio : 30.333333333333332%\n",
      "-Average moving times : 15.615384615384615\n",
      "\n",
      " 16 start \n",
      "\n"
     ]
    },
    {
     "name": "stderr",
     "output_type": "stream",
     "text": [
      "100%|█████████████████████████████████████████| 300/300 [00:49<00:00,  6.06it/s]\n"
     ]
    },
    {
     "name": "stdout",
     "output_type": "stream",
     "text": [
      "\n",
      "-Success Ratio : 85.33333333333333%\n",
      "-Average moving times : 30.28125\n",
      "\n",
      " 17 start \n",
      "\n"
     ]
    },
    {
     "name": "stderr",
     "output_type": "stream",
     "text": [
      "100%|█████████████████████████████████████████| 300/300 [00:49<00:00,  6.07it/s]\n"
     ]
    },
    {
     "name": "stdout",
     "output_type": "stream",
     "text": [
      "\n",
      "-Success Ratio : 87.66666666666667%\n",
      "-Average moving times : 30.315589353612168\n",
      "\n",
      " 18 start \n",
      "\n"
     ]
    },
    {
     "name": "stderr",
     "output_type": "stream",
     "text": [
      "100%|█████████████████████████████████████████| 300/300 [00:58<00:00,  5.11it/s]\n"
     ]
    },
    {
     "name": "stdout",
     "output_type": "stream",
     "text": [
      "\n",
      "-Success Ratio : 85.0%\n",
      "-Average moving times : 30.298039215686273\n",
      "\n",
      " 19 start \n",
      "\n"
     ]
    },
    {
     "name": "stderr",
     "output_type": "stream",
     "text": [
      "100%|█████████████████████████████████████████| 300/300 [00:59<00:00,  5.04it/s]\n"
     ]
    },
    {
     "name": "stdout",
     "output_type": "stream",
     "text": [
      "\n",
      "-Success Ratio : 86.0%\n",
      "-Average moving times : 30.313953488372093\n",
      "\n",
      " 20 start \n",
      "\n"
     ]
    },
    {
     "name": "stderr",
     "output_type": "stream",
     "text": [
      "100%|█████████████████████████████████████████| 300/300 [00:51<00:00,  5.84it/s]\n"
     ]
    },
    {
     "name": "stdout",
     "output_type": "stream",
     "text": [
      "\n",
      "-Success Ratio : 77.0%\n",
      "-Average moving times : 30.25974025974026\n",
      "\n",
      " 21 start \n",
      "\n"
     ]
    },
    {
     "name": "stderr",
     "output_type": "stream",
     "text": [
      "100%|█████████████████████████████████████████| 300/300 [00:51<00:00,  5.80it/s]\n"
     ]
    },
    {
     "name": "stdout",
     "output_type": "stream",
     "text": [
      "\n",
      "-Success Ratio : 74.66666666666667%\n",
      "-Average moving times : 30.290178571428573\n",
      "\n",
      " 22 start \n",
      "\n"
     ]
    },
    {
     "name": "stderr",
     "output_type": "stream",
     "text": [
      "100%|█████████████████████████████████████████| 300/300 [01:03<00:00,  4.75it/s]\n"
     ]
    },
    {
     "name": "stdout",
     "output_type": "stream",
     "text": [
      "\n",
      "-Success Ratio : 77.0%\n",
      "-Average moving times : 30.316017316017316\n",
      "\n",
      " 23 start \n",
      "\n"
     ]
    },
    {
     "name": "stderr",
     "output_type": "stream",
     "text": [
      "100%|█████████████████████████████████████████| 300/300 [01:09<00:00,  4.34it/s]\n"
     ]
    },
    {
     "name": "stdout",
     "output_type": "stream",
     "text": [
      "\n",
      "-Success Ratio : 73.33333333333333%\n",
      "-Average moving times : 30.386363636363637\n",
      "\n",
      " 24 start \n",
      "\n"
     ]
    },
    {
     "name": "stderr",
     "output_type": "stream",
     "text": [
      "100%|█████████████████████████████████████████| 300/300 [02:18<00:00,  2.16it/s]\n"
     ]
    },
    {
     "name": "stdout",
     "output_type": "stream",
     "text": [
      "\n",
      "-Success Ratio : 44.333333333333336%\n",
      "-Average moving times : 31.203007518796994\n",
      "\n",
      " 25 start \n",
      "\n"
     ]
    },
    {
     "name": "stderr",
     "output_type": "stream",
     "text": [
      "100%|█████████████████████████████████████████| 300/300 [02:40<00:00,  1.87it/s]\n"
     ]
    },
    {
     "name": "stdout",
     "output_type": "stream",
     "text": [
      "\n",
      "-Success Ratio : 44.666666666666664%\n",
      "-Average moving times : 31.35820895522388\n",
      "\n",
      " 26 start \n",
      "\n"
     ]
    },
    {
     "name": "stderr",
     "output_type": "stream",
     "text": [
      "100%|█████████████████████████████████████████| 300/300 [03:02<00:00,  1.64it/s]\n"
     ]
    },
    {
     "name": "stdout",
     "output_type": "stream",
     "text": [
      "\n",
      "-Success Ratio : 52.0%\n",
      "-Average moving times : 31.378205128205128\n",
      "\n",
      " 27 start \n",
      "\n"
     ]
    },
    {
     "name": "stderr",
     "output_type": "stream",
     "text": [
      "100%|█████████████████████████████████████████| 300/300 [03:21<00:00,  1.49it/s]\n"
     ]
    },
    {
     "name": "stdout",
     "output_type": "stream",
     "text": [
      "\n",
      "-Success Ratio : 48.666666666666664%\n",
      "-Average moving times : 31.363013698630137\n",
      "\n",
      " 28 start \n",
      "\n"
     ]
    },
    {
     "name": "stderr",
     "output_type": "stream",
     "text": [
      "100%|█████████████████████████████████████████| 300/300 [02:18<00:00,  2.17it/s]\n"
     ]
    },
    {
     "name": "stdout",
     "output_type": "stream",
     "text": [
      "\n",
      "-Success Ratio : 34.666666666666664%\n",
      "-Average moving times : 31.451923076923077\n",
      "\n",
      " 29 start \n",
      "\n"
     ]
    },
    {
     "name": "stderr",
     "output_type": "stream",
     "text": [
      "100%|█████████████████████████████████████████| 300/300 [02:19<00:00,  2.15it/s]\n"
     ]
    },
    {
     "name": "stdout",
     "output_type": "stream",
     "text": [
      "\n",
      "-Success Ratio : 16.333333333333332%\n",
      "-Average moving times : 31.020408163265305\n",
      "\n",
      " 30 start \n",
      "\n"
     ]
    },
    {
     "name": "stderr",
     "output_type": "stream",
     "text": [
      "100%|█████████████████████████████████████████| 300/300 [02:47<00:00,  1.79it/s]\n"
     ]
    },
    {
     "name": "stdout",
     "output_type": "stream",
     "text": [
      "\n",
      "-Success Ratio : 35.666666666666664%\n",
      "-Average moving times : 31.261682242990656\n",
      "\n",
      " 31 start \n",
      "\n"
     ]
    },
    {
     "name": "stderr",
     "output_type": "stream",
     "text": [
      "100%|█████████████████████████████████████████| 300/300 [03:24<00:00,  1.46it/s]"
     ]
    },
    {
     "name": "stdout",
     "output_type": "stream",
     "text": [
      "\n",
      "-Success Ratio : 19.0%\n",
      "-Average moving times : 31.280701754385966\n",
      "step: 1, smart: True, alpha: 15, beta: 1 saved !\n"
     ]
    },
    {
     "name": "stderr",
     "output_type": "stream",
     "text": [
      "\n"
     ]
    }
   ],
   "source": [
    "alpha=15\n",
    "beta=1\n",
    "\n",
    "pre_condition=f'step: {step}, smart: {smart}, alpha: {alpha}, beta: {beta}'\n",
    "print('\\n',pre_condition,'\\n')\n",
    "\n",
    "for idx,combination in enumerate(combinations):\n",
    "    print('\\n',idx,'start','\\n')\n",
    "    graph_size, obstacle_ratio, fixed_obstacle, move_chance, influence, detectability = combination\n",
    "    string=f'graph_size: {graph_size}, obstacle_ratio: {obstacle_ratio}, fixed_obs_ratio: {fixed_obstacle}, move_chance: {move_chance}, influence: {influence}, detectability: {detectability}'\n",
    "    succ,mov_num,time=iter_test(test_num=300, dimension_x=graph_size, dimension_y=graph_size, s_start='x0y0', s_goal=f'x{graph_size-1}y{graph_size-1}',\n",
    "              obstacle_ratio=obstacle_ratio, fixed_obs_ratio=fixed_obstacle, move_chance=move_chance, \n",
    "              step=step, smart=smart, influence=influence, detectability=detectability)\n",
    "    result_dict[pre_condition+', '+string]=[succ,mov_num,time]\n",
    "\n",
    "with open('/Users/sewoong/Desktop/ML/미래도전/step_1_smart_True_second.pkl','wb') as f:\n",
    "    pickle.dump(result_dict,f)\n",
    "print(pre_condition,'saved !')"
   ]
  },
  {
   "cell_type": "code",
   "execution_count": 29,
   "id": "a39e722b",
   "metadata": {
    "scrolled": true
   },
   "outputs": [
    {
     "name": "stdout",
     "output_type": "stream",
     "text": [
      "\n",
      " step: 1, smart: True, alpha: 15, beta: 3 \n",
      "\n",
      "\n",
      " 0 start \n",
      "\n"
     ]
    },
    {
     "name": "stderr",
     "output_type": "stream",
     "text": [
      "100%|█████████████████████████████████████████| 300/300 [00:21<00:00, 14.08it/s]\n"
     ]
    },
    {
     "name": "stdout",
     "output_type": "stream",
     "text": [
      "\n",
      "-Success Ratio : 74.33333333333333%\n",
      "-Average moving times : 15.825112107623319\n",
      "\n",
      " 1 start \n",
      "\n"
     ]
    },
    {
     "name": "stderr",
     "output_type": "stream",
     "text": [
      "100%|█████████████████████████████████████████| 300/300 [00:22<00:00, 13.57it/s]\n"
     ]
    },
    {
     "name": "stdout",
     "output_type": "stream",
     "text": [
      "\n",
      "-Success Ratio : 73.0%\n",
      "-Average moving times : 15.771689497716896\n",
      "\n",
      " 2 start \n",
      "\n"
     ]
    },
    {
     "name": "stderr",
     "output_type": "stream",
     "text": [
      "100%|█████████████████████████████████████████| 300/300 [00:20<00:00, 14.76it/s]\n"
     ]
    },
    {
     "name": "stdout",
     "output_type": "stream",
     "text": [
      "\n",
      "-Success Ratio : 76.0%\n",
      "-Average moving times : 15.885964912280702\n",
      "\n",
      " 3 start \n",
      "\n"
     ]
    },
    {
     "name": "stderr",
     "output_type": "stream",
     "text": [
      "100%|█████████████████████████████████████████| 300/300 [00:22<00:00, 13.09it/s]\n"
     ]
    },
    {
     "name": "stdout",
     "output_type": "stream",
     "text": [
      "\n",
      "-Success Ratio : 74.33333333333333%\n",
      "-Average moving times : 15.739910313901346\n",
      "\n",
      " 4 start \n",
      "\n"
     ]
    },
    {
     "name": "stderr",
     "output_type": "stream",
     "text": [
      "100%|█████████████████████████████████████████| 300/300 [00:20<00:00, 14.41it/s]\n"
     ]
    },
    {
     "name": "stdout",
     "output_type": "stream",
     "text": [
      "\n",
      "-Success Ratio : 63.333333333333336%\n",
      "-Average moving times : 15.715789473684211\n",
      "\n",
      " 5 start \n",
      "\n"
     ]
    },
    {
     "name": "stderr",
     "output_type": "stream",
     "text": [
      "100%|█████████████████████████████████████████| 300/300 [00:24<00:00, 12.13it/s]\n"
     ]
    },
    {
     "name": "stdout",
     "output_type": "stream",
     "text": [
      "\n",
      "-Success Ratio : 48.333333333333336%\n",
      "-Average moving times : 15.717241379310344\n",
      "\n",
      " 6 start \n",
      "\n"
     ]
    },
    {
     "name": "stderr",
     "output_type": "stream",
     "text": [
      "100%|█████████████████████████████████████████| 300/300 [00:22<00:00, 13.28it/s]\n"
     ]
    },
    {
     "name": "stdout",
     "output_type": "stream",
     "text": [
      "\n",
      "-Success Ratio : 59.666666666666664%\n",
      "-Average moving times : 15.82122905027933\n",
      "\n",
      " 7 start \n",
      "\n"
     ]
    },
    {
     "name": "stderr",
     "output_type": "stream",
     "text": [
      "100%|█████████████████████████████████████████| 300/300 [00:23<00:00, 12.86it/s]\n"
     ]
    },
    {
     "name": "stdout",
     "output_type": "stream",
     "text": [
      "\n",
      "-Success Ratio : 53.333333333333336%\n",
      "-Average moving times : 15.74375\n",
      "\n",
      " 8 start \n",
      "\n"
     ]
    },
    {
     "name": "stderr",
     "output_type": "stream",
     "text": [
      "100%|█████████████████████████████████████████| 300/300 [00:30<00:00,  9.86it/s]\n"
     ]
    },
    {
     "name": "stdout",
     "output_type": "stream",
     "text": [
      "\n",
      "-Success Ratio : 57.0%\n",
      "-Average moving times : 16.34502923976608\n",
      "\n",
      " 9 start \n",
      "\n"
     ]
    },
    {
     "name": "stderr",
     "output_type": "stream",
     "text": [
      "100%|█████████████████████████████████████████| 300/300 [00:32<00:00,  9.22it/s]\n"
     ]
    },
    {
     "name": "stdout",
     "output_type": "stream",
     "text": [
      "\n",
      "-Success Ratio : 52.666666666666664%\n",
      "-Average moving times : 16.18354430379747\n",
      "\n",
      " 10 start \n",
      "\n"
     ]
    },
    {
     "name": "stderr",
     "output_type": "stream",
     "text": [
      "100%|█████████████████████████████████████████| 300/300 [00:33<00:00,  9.03it/s]"
     ]
    },
    {
     "name": "stdout",
     "output_type": "stream",
     "text": [
      "\n",
      "-Success Ratio : 61.333333333333336%\n",
      "-Average moving times : 16.184782608695652\n",
      "step: 1, smart: True, alpha: 15, beta: 3 saved !\n"
     ]
    },
    {
     "name": "stderr",
     "output_type": "stream",
     "text": [
      "\n"
     ]
    }
   ],
   "source": [
    "alpha=15\n",
    "beta=3\n",
    "\n",
    "pre_condition=f'step: {step}, smart: {smart}, alpha: {alpha}, beta: {beta}'\n",
    "print('\\n',pre_condition,'\\n')\n",
    "\n",
    "for idx,combination in enumerate(combinations[:11]): #11~\n",
    "    print('\\n',idx,'start','\\n')\n",
    "    graph_size, obstacle_ratio, fixed_obstacle, move_chance, influence, detectability = combination\n",
    "    string=f'graph_size: {graph_size}, obstacle_ratio: {obstacle_ratio}, fixed_obs_ratio: {fixed_obstacle}, move_chance: {move_chance}, influence: {influence}, detectability: {detectability}'\n",
    "    succ,mov_num,time=iter_test(test_num=300, dimension_x=graph_size, dimension_y=graph_size, s_start='x0y0', s_goal=f'x{graph_size-1}y{graph_size-1}',\n",
    "              obstacle_ratio=obstacle_ratio, fixed_obs_ratio=fixed_obstacle, move_chance=move_chance, \n",
    "              step=step, smart=smart, influence=influence, detectability=detectability)\n",
    "    result_dict[pre_condition+', '+string]=[succ,mov_num,time]\n",
    "\n",
    "with open('/Users/sewoong/Desktop/ML/step_1_smart_True_second.pkl','wb') as f:\n",
    "    pickle.dump(result_dict,f)\n",
    "print(pre_condition,'saved !')"
   ]
  },
  {
   "cell_type": "code",
   "execution_count": 53,
   "id": "6cf6cbe6",
   "metadata": {
    "scrolled": true
   },
   "outputs": [
    {
     "name": "stdout",
     "output_type": "stream",
     "text": [
      "\n",
      " step: 2, smart: False, alpha: 20, beta: 10 \n",
      "\n",
      "\n",
      " 0 start \n",
      "\n"
     ]
    },
    {
     "name": "stderr",
     "output_type": "stream",
     "text": [
      "100%|█████████████████████████████████████████| 300/300 [00:28<00:00, 10.51it/s]\n"
     ]
    },
    {
     "name": "stdout",
     "output_type": "stream",
     "text": [
      "\n",
      "-Success Ratio : 95.66666666666667%\n",
      "-Average moving times : 18.32752613240418\n",
      "\n",
      " 1 start \n",
      "\n"
     ]
    },
    {
     "name": "stderr",
     "output_type": "stream",
     "text": [
      "100%|█████████████████████████████████████████| 300/300 [00:31<00:00,  9.66it/s]\n"
     ]
    },
    {
     "name": "stdout",
     "output_type": "stream",
     "text": [
      "\n",
      "-Success Ratio : 96.0%\n",
      "-Average moving times : 17.305555555555557\n",
      "\n",
      " 2 start \n",
      "\n"
     ]
    },
    {
     "name": "stderr",
     "output_type": "stream",
     "text": [
      "100%|█████████████████████████████████████████| 300/300 [00:28<00:00, 10.71it/s]\n"
     ]
    },
    {
     "name": "stdout",
     "output_type": "stream",
     "text": [
      "\n",
      "-Success Ratio : 94.0%\n",
      "-Average moving times : 18.29432624113475\n",
      "\n",
      " 3 start \n",
      "\n"
     ]
    },
    {
     "name": "stderr",
     "output_type": "stream",
     "text": [
      "100%|█████████████████████████████████████████| 300/300 [00:31<00:00,  9.55it/s]\n"
     ]
    },
    {
     "name": "stdout",
     "output_type": "stream",
     "text": [
      "\n",
      "-Success Ratio : 93.66666666666667%\n",
      "-Average moving times : 17.843416370106763\n",
      "\n",
      " 4 start \n",
      "\n"
     ]
    },
    {
     "name": "stderr",
     "output_type": "stream",
     "text": [
      "100%|█████████████████████████████████████████| 300/300 [00:39<00:00,  7.60it/s]\n"
     ]
    },
    {
     "name": "stdout",
     "output_type": "stream",
     "text": [
      "\n",
      "-Success Ratio : 92.0%\n",
      "-Average moving times : 25.28985507246377\n",
      "\n",
      " 5 start \n",
      "\n"
     ]
    },
    {
     "name": "stderr",
     "output_type": "stream",
     "text": [
      "100%|█████████████████████████████████████████| 300/300 [00:46<00:00,  6.52it/s]\n"
     ]
    },
    {
     "name": "stdout",
     "output_type": "stream",
     "text": [
      "\n",
      "-Success Ratio : 91.66666666666667%\n",
      "-Average moving times : 22.774545454545454\n",
      "\n",
      " 6 start \n",
      "\n"
     ]
    },
    {
     "name": "stderr",
     "output_type": "stream",
     "text": [
      "100%|█████████████████████████████████████████| 300/300 [00:37<00:00,  7.96it/s]\n"
     ]
    },
    {
     "name": "stdout",
     "output_type": "stream",
     "text": [
      "\n",
      "-Success Ratio : 87.33333333333333%\n",
      "-Average moving times : 18.77480916030534\n",
      "\n",
      " 7 start \n",
      "\n"
     ]
    },
    {
     "name": "stderr",
     "output_type": "stream",
     "text": [
      "100%|█████████████████████████████████████████| 300/300 [00:43<00:00,  6.86it/s]\n"
     ]
    },
    {
     "name": "stdout",
     "output_type": "stream",
     "text": [
      "\n",
      "-Success Ratio : 91.66666666666667%\n",
      "-Average moving times : 20.465454545454545\n",
      "\n",
      " 8 start \n",
      "\n"
     ]
    },
    {
     "name": "stderr",
     "output_type": "stream",
     "text": [
      "100%|█████████████████████████████████████████| 300/300 [04:42<00:00,  1.06it/s]\n"
     ]
    },
    {
     "name": "stdout",
     "output_type": "stream",
     "text": [
      "\n",
      "-Success Ratio : 97.66666666666667%\n",
      "-Average moving times : 72.73720136518772\n",
      "\n",
      " 9 start \n",
      "\n"
     ]
    },
    {
     "name": "stderr",
     "output_type": "stream",
     "text": [
      "100%|█████████████████████████████████████████| 300/300 [04:57<00:00,  1.01it/s]\n"
     ]
    },
    {
     "name": "stdout",
     "output_type": "stream",
     "text": [
      "\n",
      "-Success Ratio : 99.0%\n",
      "-Average moving times : 125.48148148148148\n",
      "\n",
      " 10 start \n",
      "\n"
     ]
    },
    {
     "name": "stderr",
     "output_type": "stream",
     "text": [
      "100%|█████████████████████████████████████████| 300/300 [04:46<00:00,  1.05it/s]\n"
     ]
    },
    {
     "name": "stdout",
     "output_type": "stream",
     "text": [
      "\n",
      "-Success Ratio : 98.0%\n",
      "-Average moving times : 58.704081632653065\n",
      "\n",
      " 11 start \n",
      "\n"
     ]
    },
    {
     "name": "stderr",
     "output_type": "stream",
     "text": [
      "100%|█████████████████████████████████████████| 300/300 [04:50<00:00,  1.03it/s]\n"
     ]
    },
    {
     "name": "stdout",
     "output_type": "stream",
     "text": [
      "\n",
      "-Success Ratio : 95.66666666666667%\n",
      "-Average moving times : 37.20905923344948\n",
      "\n",
      " 12 start \n",
      "\n"
     ]
    },
    {
     "name": "stderr",
     "output_type": "stream",
     "text": [
      "100%|█████████████████████████████████████████| 300/300 [06:30<00:00,  1.30s/it]\n"
     ]
    },
    {
     "name": "stdout",
     "output_type": "stream",
     "text": [
      "\n",
      "-Success Ratio : 92.33333333333333%\n",
      "-Average moving times : 45.671480144404335\n",
      "\n",
      " 13 start \n",
      "\n"
     ]
    },
    {
     "name": "stderr",
     "output_type": "stream",
     "text": [
      "100%|█████████████████████████████████████████| 300/300 [07:25<00:00,  1.49s/it]\n"
     ]
    },
    {
     "name": "stdout",
     "output_type": "stream",
     "text": [
      "\n",
      "-Success Ratio : 93.0%\n",
      "-Average moving times : 47.08243727598566\n",
      "\n",
      " 14 start \n",
      "\n"
     ]
    },
    {
     "name": "stderr",
     "output_type": "stream",
     "text": [
      "100%|█████████████████████████████████████████| 300/300 [06:15<00:00,  1.25s/it]\n"
     ]
    },
    {
     "name": "stdout",
     "output_type": "stream",
     "text": [
      "\n",
      "-Success Ratio : 80.0%\n",
      "-Average moving times : 42.52916666666667\n",
      "\n",
      " 15 start \n",
      "\n"
     ]
    },
    {
     "name": "stderr",
     "output_type": "stream",
     "text": [
      "100%|█████████████████████████████████████████| 300/300 [07:24<00:00,  1.48s/it]"
     ]
    },
    {
     "name": "stdout",
     "output_type": "stream",
     "text": [
      "\n",
      "-Success Ratio : 88.66666666666667%\n",
      "-Average moving times : 34.03007518796993\n",
      "step: 2, smart: False, alpha: 20, beta: 10 saved !\n"
     ]
    },
    {
     "name": "stderr",
     "output_type": "stream",
     "text": [
      "\n"
     ]
    }
   ],
   "source": [
    "alpha=20\n",
    "beta=10\n",
    "\n",
    "pre_condition=f'step: {step}, smart: {smart}, alpha: {alpha}, beta: {beta}'\n",
    "print('\\n',pre_condition,'\\n')\n",
    "\n",
    "for idx,combination in enumerate(combinations):\n",
    "    print('\\n',idx,'start','\\n')\n",
    "    graph_size, obstacle_ratio, fixed_obstacle, move_chance, influence = combination\n",
    "    string=f'graph_size: {graph_size}, obstacle_ratio: {obstacle_ratio}, fixed_obs_ratio: {fixed_obstacle}, move_chance: {move_chance}, influence: {influence}, detectability: 1'\n",
    "    succ,mov_num,time=iter_test(test_num=300, dimension_x=graph_size, dimension_y=graph_size, s_start='x0y0', s_goal=f'x{graph_size-1}y{graph_size-1}',\n",
    "              obstacle_ratio=obstacle_ratio, fixed_obs_ratio=fixed_obstacle, move_chance=move_chance, \n",
    "              step=step, smart=smart, influence=influence, detectability=1)\n",
    "    result_dict[pre_condition+', '+string]=[succ,mov_num,time]\n",
    "\n",
    "with open('/Users/sewoong/Desktop/ML/step_2_smart_False.pkl','wb') as f:\n",
    "    pickle.dump(result_dict,f)\n",
    "print(pre_condition,'saved !')"
   ]
  },
  {
   "cell_type": "code",
   "execution_count": 33,
   "id": "5e14ff74",
   "metadata": {},
   "outputs": [
    {
     "name": "stdout",
     "output_type": "stream",
     "text": [
      "\n",
      " step: 1, smart: False, alpha: 20, beta: 20 \n",
      "\n",
      "\n",
      " 0 start \n",
      "\n"
     ]
    },
    {
     "name": "stderr",
     "output_type": "stream",
     "text": [
      "100%|█████████████████████████████████████████| 300/300 [00:46<00:00,  6.45it/s]\n"
     ]
    },
    {
     "name": "stdout",
     "output_type": "stream",
     "text": [
      "\n",
      "-Success Ratio : 95.33333333333333%\n",
      "-Average moving times : 29.594405594405593\n",
      "\n",
      " 1 start \n",
      "\n"
     ]
    },
    {
     "name": "stderr",
     "output_type": "stream",
     "text": [
      "100%|█████████████████████████████████████████| 300/300 [00:48<00:00,  6.17it/s]\n"
     ]
    },
    {
     "name": "stdout",
     "output_type": "stream",
     "text": [
      "\n",
      "-Success Ratio : 93.66666666666667%\n",
      "-Average moving times : 19.28825622775801\n",
      "\n",
      " 2 start \n",
      "\n"
     ]
    },
    {
     "name": "stderr",
     "output_type": "stream",
     "text": [
      "100%|█████████████████████████████████████████| 300/300 [00:43<00:00,  6.85it/s]\n"
     ]
    },
    {
     "name": "stdout",
     "output_type": "stream",
     "text": [
      "\n",
      "-Success Ratio : 93.33333333333333%\n",
      "-Average moving times : 17.57857142857143\n",
      "\n",
      " 3 start \n",
      "\n"
     ]
    },
    {
     "name": "stderr",
     "output_type": "stream",
     "text": [
      "100%|█████████████████████████████████████████| 300/300 [00:45<00:00,  6.59it/s]\n"
     ]
    },
    {
     "name": "stdout",
     "output_type": "stream",
     "text": [
      "\n",
      "-Success Ratio : 96.0%\n",
      "-Average moving times : 22.35763888888889\n",
      "\n",
      " 4 start \n",
      "\n"
     ]
    },
    {
     "name": "stderr",
     "output_type": "stream",
     "text": [
      "100%|█████████████████████████████████████████| 300/300 [00:57<00:00,  5.21it/s]\n"
     ]
    },
    {
     "name": "stdout",
     "output_type": "stream",
     "text": [
      "\n",
      "-Success Ratio : 93.33333333333333%\n",
      "-Average moving times : 37.417857142857144\n",
      "\n",
      " 5 start \n",
      "\n"
     ]
    },
    {
     "name": "stderr",
     "output_type": "stream",
     "text": [
      "100%|█████████████████████████████████████████| 300/300 [01:01<00:00,  4.90it/s]\n"
     ]
    },
    {
     "name": "stdout",
     "output_type": "stream",
     "text": [
      "\n",
      "-Success Ratio : 93.0%\n",
      "-Average moving times : 32.308243727598565\n",
      "\n",
      " 6 start \n",
      "\n"
     ]
    },
    {
     "name": "stderr",
     "output_type": "stream",
     "text": [
      "100%|█████████████████████████████████████████| 300/300 [00:56<00:00,  5.34it/s]\n"
     ]
    },
    {
     "name": "stdout",
     "output_type": "stream",
     "text": [
      "\n",
      "-Success Ratio : 91.33333333333333%\n",
      "-Average moving times : 29.55109489051095\n",
      "\n",
      " 7 start \n",
      "\n"
     ]
    },
    {
     "name": "stderr",
     "output_type": "stream",
     "text": [
      "100%|█████████████████████████████████████████| 300/300 [00:56<00:00,  5.29it/s]\n"
     ]
    },
    {
     "name": "stdout",
     "output_type": "stream",
     "text": [
      "\n",
      "-Success Ratio : 87.66666666666667%\n",
      "-Average moving times : 21.70722433460076\n",
      "\n",
      " 8 start \n",
      "\n"
     ]
    },
    {
     "name": "stderr",
     "output_type": "stream",
     "text": [
      "100%|█████████████████████████████████████████| 300/300 [11:00<00:00,  2.20s/it]\n"
     ]
    },
    {
     "name": "stdout",
     "output_type": "stream",
     "text": [
      "\n",
      "-Success Ratio : 97.33333333333333%\n",
      "-Average moving times : 148.93835616438355\n",
      "\n",
      " 9 start \n",
      "\n"
     ]
    },
    {
     "name": "stderr",
     "output_type": "stream",
     "text": [
      "100%|█████████████████████████████████████████| 300/300 [09:48<00:00,  1.96s/it]\n"
     ]
    },
    {
     "name": "stdout",
     "output_type": "stream",
     "text": [
      "\n",
      "-Success Ratio : 98.0%\n",
      "-Average moving times : 94.75850340136054\n",
      "\n",
      " 10 start \n",
      "\n"
     ]
    },
    {
     "name": "stderr",
     "output_type": "stream",
     "text": [
      "100%|█████████████████████████████████████████| 300/300 [09:27<00:00,  1.89s/it]\n"
     ]
    },
    {
     "name": "stdout",
     "output_type": "stream",
     "text": [
      "\n",
      "-Success Ratio : 97.0%\n",
      "-Average moving times : 83.19587628865979\n",
      "\n",
      " 11 start \n",
      "\n"
     ]
    },
    {
     "name": "stderr",
     "output_type": "stream",
     "text": [
      "100%|█████████████████████████████████████████| 300/300 [09:25<00:00,  1.88s/it]\n"
     ]
    },
    {
     "name": "stdout",
     "output_type": "stream",
     "text": [
      "\n",
      "-Success Ratio : 97.0%\n",
      "-Average moving times : 145.16494845360825\n",
      "\n",
      " 12 start \n",
      "\n"
     ]
    },
    {
     "name": "stderr",
     "output_type": "stream",
     "text": [
      "100%|█████████████████████████████████████████| 300/300 [13:23<00:00,  2.68s/it]"
     ]
    },
    {
     "name": "stdout",
     "output_type": "stream",
     "text": [
      "\n",
      "-Success Ratio : 92.0%\n",
      "-Average moving times : 55.79710144927536\n",
      "step: 1, smart: False, alpha: 20, beta: 20 saved !\n"
     ]
    },
    {
     "name": "stderr",
     "output_type": "stream",
     "text": [
      "\n"
     ]
    }
   ],
   "source": [
    "alpha=20\n",
    "beta=20\n",
    "\n",
    "pre_condition=f'step: {step}, smart: {smart}, alpha: {alpha}, beta: {beta}'\n",
    "print('\\n',pre_condition,'\\n')\n",
    "\n",
    "for idx,combination in enumerate(combinations[:-3]):\n",
    "    print('\\n',idx,'start','\\n')\n",
    "    graph_size, obstacle_ratio, fixed_obstacle, move_chance, influence = combination\n",
    "    string=f'graph_size: {graph_size}, obstacle_ratio: {obstacle_ratio}, fixed_obs_ratio: {fixed_obstacle}, move_chance: {move_chance}, influence: {influence}, detectability: 1'\n",
    "    succ,mov_num,time=iter_test(test_num=300, dimension_x=graph_size, dimension_y=graph_size, s_start='x0y0', s_goal=f'x{graph_size-1}y{graph_size-1}',\n",
    "              obstacle_ratio=obstacle_ratio, fixed_obs_ratio=fixed_obstacle, move_chance=move_chance, \n",
    "              step=step, smart=smart, influence=influence, detectability=1)\n",
    "    result_dict[pre_condition+', '+string]=[succ,mov_num,time]\n",
    "\n",
    "with open('/Users/sewoong/Desktop/ML/step_1_smart_False.pkl','wb') as f:\n",
    "    pickle.dump(result_dict,f)\n",
    "print(pre_condition,'saved !')"
   ]
  },
  {
   "cell_type": "code",
   "execution_count": null,
   "id": "8251c623",
   "metadata": {},
   "outputs": [],
   "source": [
    "3,6 empty_queue, done stuck"
   ]
  }
 ],
 "metadata": {
  "kernelspec": {
   "display_name": "Python 3 (ipykernel)",
   "language": "python",
   "name": "python3"
  },
  "language_info": {
   "codemirror_mode": {
    "name": "ipython",
    "version": 3
   },
   "file_extension": ".py",
   "mimetype": "text/x-python",
   "name": "python",
   "nbconvert_exporter": "python",
   "pygments_lexer": "ipython3",
   "version": "3.9.16"
  }
 },
 "nbformat": 4,
 "nbformat_minor": 5
}
